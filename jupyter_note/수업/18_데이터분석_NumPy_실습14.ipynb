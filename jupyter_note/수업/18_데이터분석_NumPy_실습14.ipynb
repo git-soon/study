{
 "cells": [
  {
   "cell_type": "markdown",
   "id": "d5128273-6581-4d25-af6c-a1d2b0979a5e",
   "metadata": {},
   "source": [
    "0. 시작 url 찾기\n",
    "   - https://www.koreabaseball.com/Record/TeamRank/TeamRankDaily.aspx"
   ]
  },
  {
   "cell_type": "markdown",
   "id": "ea27d81b-862f-4206-baff-7a683e2d0ec5",
   "metadata": {},
   "source": [
    "1. 승율표 요소 찾기\n",
    "   - css selector\n",
    "     - table.tData -> 2개의 테이블이 나옴, select_one()을 호출했으므로 처음을 선택\n",
    "     - #cphContents_cphContents_cphContents_udpRecord > table > tbody\n",
    "     - #cphContents_cphContents_cphContents_udpRecord > table > tbody > tr  -> 2번 단계로 바로 진행\n",
    "     - .tData  -> 3개의 테이블이 나옴, select_one()을 호출했으므로 처음을 선택\n",
    "   - bs로 select_one()을 호출하여 요소 확인"
   ]
  },
  {
   "cell_type": "code",
   "execution_count": 23,
   "id": "9c52dbbd-9abe-48ff-b394-587a681f6d95",
   "metadata": {},
   "outputs": [
    {
     "data": {
      "text/plain": [
       "'\\n\\n\\n\\n\\n\\n\\n\\n\\n\\n\\n\\n\\n\\n\\n\\n\\n순위\\n팀명\\n경기\\n승\\n패\\n무\\n승률\\n게임차\\n최근10경기\\n연속\\n홈\\n방문\\n\\n\\n\\n\\n1\\nLG\\n17\\n14\\n3\\n0\\n0.824\\n0\\n7승0무3패\\n1패\\n9-0-1\\n5-0-2\\n\\n\\n2\\nSSG\\n15\\n9\\n6\\n0\\n0.600\\n4\\n5승0무5패\\n1패\\n6-0-1\\n3-0-5\\n\\n\\n3\\nKT\\n17\\n9\\n7\\n1\\n0.563\\n4.5\\n5승1무4패\\n2승\\n8-0-4\\n1-1-3\\n\\n\\n4\\n삼성\\n18\\n10\\n8\\n0\\n0.556\\n4.5\\n5승0무5패\\n2패\\n7-0-4\\n3-0-4\\n\\n\\n5\\n롯데\\n19\\n8\\n10\\n1\\n0.444\\n6.5\\n5승0무5패\\n1패\\n3-1-5\\n5-0-5\\n\\n\\n6\\nNC\\n16\\n7\\n9\\n0\\n0.438\\n6.5\\n4승0무6패\\n1승\\n1-0-4\\n6-0-5\\n\\n\\n7\\n두산\\n19\\n8\\n11\\n0\\n0.421\\n7\\n5승0무5패\\n1승\\n4-0-4\\n4-0-7\\n\\n\\n7\\n한화\\n19\\n8\\n11\\n0\\n0.421\\n7\\n5승0무5패\\n1승\\n4-0-4\\n4-0-7\\n\\n\\n9\\nKIA\\n17\\n7\\n10\\n0\\n0.412\\n7\\n5승0무5패\\n1승\\n4-0-5\\n3-0-5\\n\\n\\n10\\n키움\\n19\\n7\\n12\\n0\\n0.368\\n8\\n3승0무7패\\n1패\\n4-0-5\\n3-0-7\\n\\n\\n'"
      ]
     },
     "execution_count": 23,
     "metadata": {},
     "output_type": "execute_result"
    }
   ],
   "source": [
    "import requests\n",
    "from bs4 import BeautifulSoup\n",
    "import numpy as np\n",
    "\n",
    "# 0. 시작 url\n",
    "url = \"https://www.koreabaseball.com/Record/TeamRank/TeamRankDaily.aspx\"\n",
    "\n",
    "response = requests.get(url)\n",
    "html = BeautifulSoup(response.text, 'html.parser')\n",
    "\n",
    "table = html.select_one('#cphContents_cphContents_cphContents_udpRecord > table.tData')\n",
    "table.text"
   ]
  },
  {
   "cell_type": "markdown",
   "id": "83cb51df-53ff-4dbc-895b-cdc09fa05056",
   "metadata": {},
   "source": [
    "2. 테이블 데이터 행 데이터 찾기\n",
    "   - css selector\n",
    "     - tbody > tr\n",
    "     - table.tData > tbody > tr\n",
    "     - tbody tr\n",
    "   - 각 행요소들이 리스트로 확보"
   ]
  },
  {
   "cell_type": "code",
   "execution_count": 36,
   "id": "cb238879-0e18-4c5c-93cc-ce8ae9e280dd",
   "metadata": {},
   "outputs": [
    {
     "name": "stdout",
     "output_type": "stream",
     "text": [
      "10\n"
     ]
    }
   ],
   "source": [
    "records = table.select('tbody > tr')\n",
    "print(len(records))"
   ]
  },
  {
   "cell_type": "code",
   "execution_count": 29,
   "id": "03a24a45-e263-47f7-b9cf-cd2c535eac6c",
   "metadata": {},
   "outputs": [
    {
     "name": "stdout",
     "output_type": "stream",
     "text": [
      "10\n"
     ]
    }
   ],
   "source": [
    "records = html.select('#cphContents_cphContents_cphContents_udpRecord > table.tData > tbody > tr')\n",
    "print(len(records))"
   ]
  },
  {
   "cell_type": "markdown",
   "id": "eb373763-0f0f-4e66-b7fa-5b45413e1156",
   "metadata": {},
   "source": [
    "3. 하나의 행에서 필드값을 추출하기\n",
    "   - css selector\n",
    "   - for loop으로 행들을 순회"
   ]
  },
  {
   "cell_type": "code",
   "execution_count": 47,
   "id": "610c8c05-4333-4304-9716-3b6cbc3efc27",
   "metadata": {},
   "outputs": [
    {
     "name": "stdout",
     "output_type": "stream",
     "text": [
      "[['1' 'LG' '17' '14' '3' '0' '0.824' '0' '7승0무3패' '1패' '9-0-1' '5-0-2']\n",
      " ['2' 'SSG' '15' '9' '6' '0' '0.600' '4' '5승0무5패' '1패' '6-0-1' '3-0-5']\n",
      " ['3' 'KT' '17' '9' '7' '1' '0.563' '4.5' '5승1무4패' '2승' '8-0-4' '1-1-3']\n",
      " ['4' '삼성' '18' '10' '8' '0' '0.556' '4.5' '5승0무5패' '2패' '7-0-4' '3-0-4']\n",
      " ['5' '롯데' '19' '8' '10' '1' '0.444' '6.5' '5승0무5패' '1패' '3-1-5' '5-0-5']\n",
      " ['6' 'NC' '16' '7' '9' '0' '0.438' '6.5' '4승0무6패' '1승' '1-0-4' '6-0-5']\n",
      " ['7' '두산' '19' '8' '11' '0' '0.421' '7' '5승0무5패' '1승' '4-0-4' '4-0-7']\n",
      " ['7' '한화' '19' '8' '11' '0' '0.421' '7' '5승0무5패' '1승' '4-0-4' '4-0-7']\n",
      " ['9' 'KIA' '17' '7' '10' '0' '0.412' '7' '5승0무5패' '1승' '4-0-5' '3-0-5']\n",
      " ['10' '키움' '19' '7' '12' '0' '0.368' '8' '3승0무7패' '1패' '4-0-5' '3-0-7']]\n"
     ]
    }
   ],
   "source": [
    "rows = list()\n",
    "for record in records:\n",
    "\n",
    "    # record에서 필드값을 갖는 요소들을 찾기\n",
    "    fields = record.select('td')\n",
    "    \n",
    "    row = list()\n",
    "    # 각 요소에서 text 추출\n",
    "    for field in fields:\n",
    "        row.append(field.text.strip())\n",
    "\n",
    "    rows.append(row)\n",
    "\n",
    "rows[0]\n",
    "\n",
    "arr = np.array(rows)\n",
    "print(arr)"
   ]
  },
  {
   "cell_type": "markdown",
   "id": "aa708100-61da-4188-ac69-d90afa986694",
   "metadata": {},
   "source": [
    "4. 2차원 배열 만들기\n",
    "   - 3번에서 필드값을을 리스트로 만들고 (12개 원소를 갖는 리스트)\n",
    "   - 그 리스트를 다시 리스트로 작성한다 (10개 원소를 갖는 리스트)"
   ]
  },
  {
   "cell_type": "markdown",
   "id": "3952a1da-22fa-4652-bf71-a8ffb36d80b8",
   "metadata": {},
   "source": [
    "5. np.array 생성한다."
   ]
  },
  {
   "cell_type": "markdown",
   "id": "eb70bb23-c28d-49ba-95af-5d2dfec31c09",
   "metadata": {},
   "source": [
    "6. array를 파일로 저장"
   ]
  },
  {
   "cell_type": "code",
   "execution_count": 49,
   "id": "b52b391c-2ff6-49d7-bc7a-5a01e19df53b",
   "metadata": {},
   "outputs": [
    {
     "name": "stdout",
     "output_type": "stream",
     "text": [
      "['1' 'LG' '17' '14' '3' '0' '0.824' '0' '7승0무3패' '1패' '9-0-1' '5-0-2']\n",
      "['2' 'SSG' '15' '9' '6' '0' '0.600' '4' '5승0무5패' '1패' '6-0-1' '3-0-5']\n",
      "['3' 'KT' '17' '9' '7' '1' '0.563' '4.5' '5승1무4패' '2승' '8-0-4' '1-1-3']\n",
      "['4' '삼성' '18' '10' '8' '0' '0.556' '4.5' '5승0무5패' '2패' '7-0-4' '3-0-4']\n",
      "['5' '롯데' '19' '8' '10' '1' '0.444' '6.5' '5승0무5패' '1패' '3-1-5' '5-0-5']\n",
      "['6' 'NC' '16' '7' '9' '0' '0.438' '6.5' '4승0무6패' '1승' '1-0-4' '6-0-5']\n",
      "['7' '두산' '19' '8' '11' '0' '0.421' '7' '5승0무5패' '1승' '4-0-4' '4-0-7']\n",
      "['7' '한화' '19' '8' '11' '0' '0.421' '7' '5승0무5패' '1승' '4-0-4' '4-0-7']\n",
      "['9' 'KIA' '17' '7' '10' '0' '0.412' '7' '5승0무5패' '1승' '4-0-5' '3-0-5']\n",
      "['10' '키움' '19' '7' '12' '0' '0.368' '8' '3승0무7패' '1패' '4-0-5' '3-0-7']\n"
     ]
    }
   ],
   "source": [
    "for row in arr:\n",
    "    print(row)"
   ]
  },
  {
   "cell_type": "markdown",
   "id": "bd51f63f-cc72-4461-b1d8-fb874743eea0",
   "metadata": {},
   "source": [
    "- arr를 str()으로 직접 변환하여 저장"
   ]
  },
  {
   "cell_type": "code",
   "execution_count": 65,
   "id": "650abfae-a6d7-4a4e-95b9-3853938898d5",
   "metadata": {},
   "outputs": [],
   "source": [
    "with open('kbo_list.txt', 'w') as f:\n",
    "    f.write(str(arr))"
   ]
  },
  {
   "cell_type": "markdown",
   "id": "834fb619-ee85-4d78-bd74-f05f5f6d25ef",
   "metadata": {},
   "source": [
    "- arr의 각 행을 '\\t'으로 붙여서 파일로 쓰기"
   ]
  },
  {
   "cell_type": "code",
   "execution_count": 71,
   "id": "61148faf-9dea-4bc7-a239-3f407cce500e",
   "metadata": {},
   "outputs": [],
   "source": [
    "with open('kbo.txt', 'w') as f:\n",
    "    for row in arr:\n",
    "        line = '\\t'.join(row)\n",
    "        line = line + '\\n'\n",
    "        f.write(line)"
   ]
  },
  {
   "cell_type": "markdown",
   "id": "b5159a3b-c154-4e1a-a2b5-16339958614c",
   "metadata": {},
   "source": [
    "- csv 파일로 저장"
   ]
  },
  {
   "cell_type": "code",
   "execution_count": 63,
   "id": "5af24fdc-d95e-4644-bbc6-474c236fe3a5",
   "metadata": {},
   "outputs": [],
   "source": [
    "with open('kbo.csv', 'w') as f:\n",
    "    for row in arr:\n",
    "        line = ','.join(row)  \n",
    "        f.write(line + '\\n')  "
   ]
  }
 ],
 "metadata": {
  "kernelspec": {
   "display_name": "Python [conda env:base] *",
   "language": "python",
   "name": "conda-base-py"
  },
  "language_info": {
   "codemirror_mode": {
    "name": "ipython",
    "version": 3
   },
   "file_extension": ".py",
   "mimetype": "text/x-python",
   "name": "python",
   "nbconvert_exporter": "python",
   "pygments_lexer": "ipython3",
   "version": "3.12.7"
  }
 },
 "nbformat": 4,
 "nbformat_minor": 5
}
