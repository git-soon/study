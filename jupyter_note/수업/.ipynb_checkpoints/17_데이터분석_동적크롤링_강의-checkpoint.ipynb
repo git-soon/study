{
 "cells": [
  {
   "cell_type": "markdown",
   "id": "fae98e09-9bb3-43b7-8bae-4d63cd48543a",
   "metadata": {},
   "source": [
    "## webdriver 띄우기"
   ]
  },
  {
   "cell_type": "code",
   "execution_count": 179,
   "id": "eadedfe2-5224-48f9-a103-a54554331e5a",
   "metadata": {},
   "outputs": [],
   "source": [
    "from selenium import webdriver\n",
    "from selenium.webdriver.chrome.service import Service\n",
    "from webdriver_manager.chrome import ChromeDriverManager\n",
    "\n",
    "# find_elements 사용을 위해 필요\n",
    "from selenium.webdriver.common.by import By\n",
    "from selenium.webdriver.common.keys import Keys\n",
    "\n",
    "def find(css_selector):\n",
    "    return driver.find_element(By.CSS_SELECTOR, css_selector)\n",
    "\n",
    "def finds(css_selector):\n",
    "    return driver.find_elements(By.CSS_SELECTOR, css_selector)\n",
    "\n",
    "\n",
    "service = Service(ChromeDriverManager().install())\n",
    "driver = webdriver.Chrome(service=service)\n",
    "driver.implicitly_wait(10)  \n",
    "\n",
    "driver.get('https://naver.com')"
   ]
  },
  {
   "cell_type": "markdown",
   "id": "ffd59f5b-c61e-4c54-b553-320bd5afc799",
   "metadata": {
    "jp-MarkdownHeadingCollapsed": true
   },
   "source": [
    "## 실습 7 - 네이버 지도 검색"
   ]
  },
  {
   "cell_type": "code",
   "execution_count": 50,
   "id": "c1217210-64fc-46b8-89ef-4b36dd020d45",
   "metadata": {},
   "outputs": [],
   "source": [
    "# 네이버 지도 검색\n",
    "driver.get('https://map.naver.com/')\n",
    "driver.implicitly_wait(10)\n",
    "search_input = driver.find_element(By.CSS_SELECTOR, 'input.input_search')\n",
    "search_input.send_keys('양반집 은평구')\n",
    "search_input.send_keys(Keys.ENTER)"
   ]
  },
  {
   "cell_type": "markdown",
   "id": "e794b4e6-35cc-4442-8945-c9d9502e82ea",
   "metadata": {},
   "source": [
    "- iframe 찾기"
   ]
  },
  {
   "cell_type": "code",
   "execution_count": 58,
   "id": "8d9c66bf-6e55-4500-9c91-5d8f293b130f",
   "metadata": {},
   "outputs": [
    {
     "name": "stdout",
     "output_type": "stream",
     "text": [
      "<selenium.webdriver.remote.webelement.WebElement (session=\"e8b86cca5c9b9294ba33863fa49b63ef\", element=\"f.8621F4BD04F6955E847E5F90A2BAA93B.d.1C6ECB3DDA80CE286B5A0A38623E3FCE.e.24731\")>\n",
      "<iframe id=\"entryIframe\" title=\"Naver Place Entry\" src=\"https://pcmap.place.naver.com/place/38642776?from=map&amp;fromPanelNum=1&amp;additionalHeight=76&amp;timestamp=202504140949&amp;locale=ko&amp;svcName=map_pcv5&amp;searchText=%EC%96%91%EB%B0%98%EC%A7%91%20%EC%9D%80%ED%8F%89%EA%B5%AC\"></iframe>\n"
     ]
    }
   ],
   "source": [
    "iframe = find('iframe#entryIframe')\n",
    "print(iframe)\n",
    "print(iframe.get_attribute('outerHTML'))\n",
    "iframe_url = iframe.get_attribute('src')\n",
    "#driver.get(iframe_url)"
   ]
  },
  {
   "cell_type": "markdown",
   "id": "c3778459-2f7c-4394-9700-f7679b4ab6c7",
   "metadata": {},
   "source": [
    "- 별점 찾기"
   ]
  },
  {
   "cell_type": "code",
   "execution_count": 39,
   "id": "7bbf34d3-4716-4b07-ae7b-cf95ddf60b08",
   "metadata": {},
   "outputs": [
    {
     "data": {
      "text/plain": [
       "'4.6'"
      ]
     },
     "execution_count": 39,
     "metadata": {},
     "output_type": "execute_result"
    }
   ],
   "source": [
    "rate = find('.dAsGb > .PXMot')\n",
    "rate.text.split('\\n')[1]"
   ]
  },
  {
   "cell_type": "markdown",
   "id": "f78f33ac-17be-4a1e-be3f-a54915062c61",
   "metadata": {
    "jp-MarkdownHeadingCollapsed": true
   },
   "source": [
    "## 실습 8 - github 크롤링"
   ]
  },
  {
   "cell_type": "code",
   "execution_count": null,
   "id": "82afe8fa-f2a0-4258-8192-f775700c8597",
   "metadata": {},
   "outputs": [],
   "source": []
  },
  {
   "cell_type": "markdown",
   "id": "160d023c-3806-49e1-b81e-7fdec7d42d3e",
   "metadata": {
    "jp-MarkdownHeadingCollapsed": true
   },
   "source": [
    "## 실습 9 - 쇼핑몰 크롤링하기"
   ]
  },
  {
   "cell_type": "markdown",
   "id": "45d8f52c-0ca7-4a13-a8b3-597615f90564",
   "metadata": {},
   "source": [
    "1. 검색창 요소 찾기"
   ]
  },
  {
   "cell_type": "code",
   "execution_count": 134,
   "id": "44d83f55-53ad-4550-a498-2ce66d1a19b7",
   "metadata": {},
   "outputs": [
    {
     "data": {
      "text/plain": [
       "'<input type=\"text\" id=\"input_text\" name=\"query\" autocomplete=\"off\" enterkeyhint=\"search\" placeholder=\"상품명 또는 브랜드 입력\" class=\"_ac_input _searchInput_input_text_4wsVI _nlog_click focus-visible\" maxlength=\"50\" data-shp-page-key=\"100410625\" data-shp-sti=\"shopping\" data-shp-nsc=\"shopping2.home\" data-shp-inventory=\"scb\" data-shp-area=\"scb.input\" data-shp-area-type=\"action\" data-shp-area-id=\"input\" value=\"\" data-focus-visible-added=\"\" style=\"caret-color: rgb(113, 71, 243);\">'"
      ]
     },
     "execution_count": 134,
     "metadata": {},
     "output_type": "execute_result"
    }
   ],
   "source": [
    "# 검색창 버튼 찾기\n",
    "driver.get('https://shopping.naver.com/ns/home')\n",
    "button = find('button._shoppingHomeSearch_button_gXyNO.NORMAL_DEVICE')\n",
    "button.get_attribute('outerHTML')\n",
    "# 버튼 클릭\n",
    "button.click()\n",
    "\n",
    "# 검색창 찾기\n",
    "search = find('input._searchInput_input_text_4wsVI')\n",
    "search.get_attribute('outerHTML')"
   ]
  },
  {
   "cell_type": "markdown",
   "id": "de9ad6cc-1474-4d94-b8e1-b7b052ee8bd8",
   "metadata": {},
   "source": [
    "2. 노트북 검색"
   ]
  },
  {
   "cell_type": "code",
   "execution_count": 136,
   "id": "d1d0ebd4-ede5-4dd9-9e2c-7647746399f3",
   "metadata": {},
   "outputs": [],
   "source": [
    "search.send_keys('노트북')\n",
    "search.send_keys(Keys.ENTER)"
   ]
  },
  {
   "cell_type": "markdown",
   "id": "4314a6ea-9b29-4ddf-ac1f-1af3f186bc3b",
   "metadata": {},
   "source": [
    "3. 결과 원소 찾기"
   ]
  },
  {
   "cell_type": "code",
   "execution_count": 155,
   "id": "9dc76447-5a6a-4d7f-8971-c5d9491144ee",
   "metadata": {},
   "outputs": [
    {
     "name": "stdout",
     "output_type": "stream",
     "text": [
      "50\n"
     ]
    }
   ],
   "source": [
    "# 1\n",
    "#items = finds('li.compositeCardContainer_composite_card_container__jr8cb')\n",
    "#print(len(items))\n",
    "\n",
    "# 2\n",
    "#items = finds('li.compositeCardContainer_composite_card_container__jr8cb strong')\n",
    "#print(len(items))\n",
    "\n",
    "# 3\n",
    "items = finds('.basicProductCardInformation_basic_product_card_information__7v_uc')\n",
    "print(len(items))\n",
    "\n",
    "# 4\n",
    "#items = finds('.basicProductCard_basic_product_card__TdrHT')\n",
    "#print(len(items))"
   ]
  },
  {
   "cell_type": "markdown",
   "id": "3f5dcf7e-ee83-4632-9c33-5a0a487b31a8",
   "metadata": {},
   "source": [
    "4. 각 결과의 제목과 가격 추출하기"
   ]
  },
  {
   "cell_type": "code",
   "execution_count": 176,
   "id": "11db369d-5374-430d-b768-0b8b26f3e36f",
   "metadata": {},
   "outputs": [
    {
     "name": "stdout",
     "output_type": "stream",
     "text": [
      "0 베이직북16 사무용 업무용 노트북 인강용 가벼운 영상편집 윈도우 8GB/256GB 548000\n",
      "1 NT750XGR-A51A WIN11 FPP설치 삼성갤럭시북4 업무용 학생용 사무용 가성비노트북 899000\n",
      "2 베이직북14 프로 WIN 16GB/512GB 사무용 가벼운 노트북 영상편집 대학생 게이밍 690000\n",
      "4 베이직북16 업무용 사무용 노트북 인강용 가벼운 16GB/512GB 영상편집 윈도우11 648000\n",
      "5 2025 LG그램 15 인텔 i5 16GB 256GB 가벼운 대학생 포토샵 영상편집 노트북 1259000\n",
      "7 [혜택가59만] 삼성전자 갤럭시북4 NT750XGR-A51A SSD256GB 그레이 인텔 i5 사무용 13세대 윈도우미포함 노트북 748000\n",
      "8 LG전자 울트라PC 라이젠5 사무용 인강용 저렴한 8GB NVMe256GB LG노트북 599000\n",
      "9 삼성 노트북 갤럭시북 i5 16GB 256GB OS미포함 인강용 사무용 NT550XEZ 648000\n",
      "10 LG그램 노트북 14그램 Ultra5 16GB 256GB 인텔Arc GPU 인강용 1199000\n",
      "11 ASUS 터프 A15 게이밍 노트북 RTX3050 포토샵 대학생 FC온라인 발로란트 배그 899000\n",
      "12 삼성 갤럭시북4 프로 인텔 울트라5 14 가벼운 사무용 대학생 영상편집 포토샵 노트북 1299000\n",
      "13 MSI 게이밍노트북 17형 영상편집 캐드 i7-13620H RTX4060 노트북 1299000\n",
      "17 삼성 갤럭시북 가성비 노트북 업무용 인강용 교육용 사무용 대학생 i5 16GB 256GB 599000\n",
      "18 2025 NEW LG그램 16 프로 인텔 울트라5 루나레이크 16GB 256GB 윈도우11 2190000\n",
      "19 베이직북16 업무용 사무용 노트북 인강용 가벼운 16GB/512GB 영상편집 윈도우11 648000\n",
      "20 2025 LG그램 15 15ZD90T-GX56K Ultra5 16GB 256GB 프리도스 1630000\n",
      "21 혜택가66만+램업+한컴/HP 네오스 15 인텔 i5 윈도우11 사무용 대학생 저렴한 노트북 799000\n",
      "23 2025 NEW LG그램 15 인텔 울트라5 애로우레이크 사무용 대학생 노트북 프리도스 1630000\n",
      "24 [혜택가101만] 삼성 갤럭시북4 엣지 NT940XMA-K01A 인공지능 AI탑재 터치스크린 노트북 1098000\n",
      "26 [혜택가 162만+SSD 이벤트] 삼성전자 갤럭시북5 프로 NT960XHA-K52A 윈도우11 울트라5 루나레이크 32GB 터치 Ai 노트북 1999000\n",
      "27 LG 15그램 Gram 노트북 I5 11세대-1135G7 15ZB95N 윈10 [더블업] 679000\n",
      "28 [혜택가134만+SSD더블업+한컴오피스] 삼성전자 갤럭시북5 프로 NT940XHA-K51A 2025 메모리 16GB SSD256GB 그레이 AI 인텔 윈도우포함 노트북 1697000\n",
      "29 삼성전자 갤럭시북5 프로 NT960XHA-K71AR 울트라7 32GB 1TB 윈도우11 게이밍 영상편집 47tops AI 터치스크린 노트북 2399000\n",
      "32 2025 LG그램 15 인텔 i5 16GB 256GB 가벼운 대학생 포토샵 영상편집 노트북 1259000\n",
      "33 마이크로소프트 서피스 프로10 Ultra7 165U 16GB 256GB For Business ZDV-00033 (블랙) 마우스 선물 2420000\n",
      "34 HP 빅터스 게이밍 노트북 RTX4050 영상편집 코딩 피파온라인 디아블로4 배틀그라운드 포토샵 1069000\n",
      "35 [SSD 더블업] 삼성 갤럭시북5 프로 울트라5 16GB 256GB 사무용 업무용 학습용 대학생 포토샵 영상편집 고성능 애로우레이크 노트북 A51A 1499000\n",
      "36 HP 17-CN4012TU 코어5-120U (16GB/256GB/FD) [기본제품] 848930\n",
      "38 LG 그램17 업무용 인강용 고성능 가벼운 사무용 노트북 대학생 1749000\n",
      "40 [혜택가 179만+SSD 1TB 무상업] 삼성전자 갤럭시북5 프로 NT940XHA-K71AR 윈도우탑재 울트라7 32GB 터치 AI 노트북 2069000\n",
      "41 엘지 그램 14세대 울트라7 32GB 1TB 터치 블랙 16Z90S 병행 1594000\n",
      "42 2025 LG그램 프로 고사양 고성능 사무용 가벼운 대학생 노트북 애로우레이크 1976000\n",
      "43 [혜택가84만] 삼성전자 갤럭시북4 NT750XGR-A71A 사무용 업무용 i7 노트북 998000\n",
      "44 삼성 갤럭시북4 인텔5 고사양 태블릿PC 영상편집 대학생 사무용 가벼운 터치 노트북 1329000\n",
      "45 LG 울트라PC 15 대학생 인강용 사무용 업무용 저렴한 가성비 화이트 노트북 599000\n",
      "46 삼성 갤럭시북 i7 노트북 업무용 교육용 인강용 사무용 대학생 NT761-i7 [소상공인/기업체 우대] 899000\n",
      "47 2025 LG그램 14 인텔 i5 16GB 256GB 가벼운 대학생 포토샵 엘지 노트북 1249000\n",
      "48 ASUS 노트북 라이젠5 비보북 가성비 사무용 포토샵 대학생 직장인 인강용 519000\n",
      "49 [최종 235만+SSD더블업] 삼성전자 갤럭시북5 프로360 NT960QHA-K71AR 2in1 32GB SSD1TB 포토샵 AI 노트북 인공지능 2648000\n"
     ]
    }
   ],
   "source": [
    "def e_find(element, css_selector):\n",
    "    return element.find_element(By.CSS_SELECTOR, css_selector)\n",
    "\n",
    "for i, item in enumerate(items):\n",
    "    # 제목\n",
    "    title = e_find(item, 'strong')\n",
    "    title = title.text\n",
    "\n",
    "    # 가격\n",
    "    price = e_find(item, '.priceTag_inner_price__TctbK')\n",
    "    price = price.text\n",
    "    price = price.replace(',', '')\n",
    "    price = price.replace('\\n원', '')\n",
    "    price = int(price)\n",
    "    \n",
    "    if price >= 500000:\n",
    "        print(i, title, price)\n"
   ]
  },
  {
   "cell_type": "markdown",
   "id": "fab89b1a-5a47-4d92-a8d1-4bf91cf7552b",
   "metadata": {},
   "source": [
    "## 실습 10 - 여행사이트 크롤링하기"
   ]
  },
  {
   "cell_type": "markdown",
   "id": "0ea29d77-0a9b-499e-b555-bb30d894d631",
   "metadata": {},
   "source": [
    "https://www.booking.com/searchresults.ko.html?ss=%EC%84%9C%EC%9A%B8%2C+%EB%8C%80%ED%95%9C%EB%AF%BC%EA%B5%AD&ssne=%EC%A0%9C%EC%A3%BC%EB%8F%84&ssne_untouched=%EC%A0%9C%EC%A3%BC%EB%8F%84&efdco=1&label=gen173nr-1BCAEoggI46AdIM1gEaH2IAQGYARe4AQfIAQzYAQHoAQGIAgGoAgO4AtGC8r8GwAIB0gIkMTAxMzJlOTItNzM4MC00MmEwLWFmMzEtNDQyZTI0NzBhM2I22AIF4AIB&sid=6b62241c7e26e8319a3019babc0b4471&aid=304142&lang=ko&sb=1&src_elem=sb&src=index&dest_id=-716583&dest_type=city&checkin=2025-05-01&checkout=2025-05-02&group_adults=2&no_rooms=1&group_children=0"
   ]
  },
  {
   "cell_type": "code",
   "execution_count": 290,
   "id": "49f05338-f59c-4f3b-833e-88e4a4b1179c",
   "metadata": {},
   "outputs": [],
   "source": [
    "start = '2025-05-13'\n",
    "end = '2025-05-15'\n",
    "url = f'https://www.booking.com/index.ko.html?&checkin={start}&checkout={end}'\n",
    "driver.get(url)"
   ]
  },
  {
   "cell_type": "markdown",
   "id": "9db92a36-127f-403b-804b-0ac88a772c5f",
   "metadata": {},
   "source": [
    "- 목적지 입력 창 요소 찾기"
   ]
  },
  {
   "cell_type": "code",
   "execution_count": 292,
   "id": "4012b62f-d065-4e09-87aa-beba970cc147",
   "metadata": {},
   "outputs": [
    {
     "data": {
      "text/plain": [
       "'<input name=\"ss\" class=\"eb46370fe1\" placeholder=\"어디로 향하시나요?\" data-destination=\"1\" autocomplete=\"off\" aria-autocomplete=\"list\" aria-controls=\"autocomplete-results\" aria-haspopup=\"listbox\" aria-label=\"어디로 향하시나요?\" aria-expanded=\"false\" role=\"combobox\" id=\":rh:\" value=\"\">'"
      ]
     },
     "execution_count": 292,
     "metadata": {},
     "output_type": "execute_result"
    }
   ],
   "source": [
    "search = find('input.eb46370fe1')\n",
    "search.get_attribute('outerHTML')"
   ]
  },
  {
   "cell_type": "markdown",
   "id": "bf4c05c0-85fd-4613-a7a7-d1f4c16a4e0b",
   "metadata": {},
   "source": [
    "- 목적지 검색\n",
    "  - search input 요소에 검색어 넣는 부분까지 동작\n",
    "  - Enter 키를 입력할때 검색어가 정상적으로 적용되지 않는 문제 발생\n",
    "  - 검색 버튼을 클릭하도록 작성 "
   ]
  },
  {
   "cell_type": "code",
   "execution_count": 294,
   "id": "5da68565-c5b6-4f85-9113-b3a46ab7f7b7",
   "metadata": {},
   "outputs": [],
   "source": [
    "search.send_keys(Keys.BACKSPACE)\n",
    "search.send_keys('제주도')\n",
    "#search.send_keys(Keys.ENTER)"
   ]
  },
  {
   "cell_type": "markdown",
   "id": "d337710d-0b10-489d-9c74-ab9ec8886434",
   "metadata": {},
   "source": [
    "- 검색 버튼 찾고 클릭"
   ]
  },
  {
   "cell_type": "code",
   "execution_count": 296,
   "id": "fc90f1a8-3084-40fd-bb4e-8711cb50ce1d",
   "metadata": {},
   "outputs": [],
   "source": [
    "button = find('div.e22b782521.d12ff5f5bf > button')\n",
    "button.get_attribute('outerHTML')\n",
    "button.click()"
   ]
  },
  {
   "cell_type": "markdown",
   "id": "ad257ed7-5f6f-4d9e-a388-600df9149d0d",
   "metadata": {},
   "source": [
    "- 첫번째 숙소 요소 찾기"
   ]
  },
  {
   "cell_type": "code",
   "execution_count": 300,
   "id": "2e09015c-ff2a-4d58-a308-b533e1780e9b",
   "metadata": {},
   "outputs": [
    {
     "data": {
      "text/plain": [
       "'까사로마호텔'"
      ]
     },
     "execution_count": 300,
     "metadata": {},
     "output_type": "execute_result"
    }
   ],
   "source": [
    "name = find('h3 > a > .f6431b446c')\n",
    "name.text"
   ]
  },
  {
   "cell_type": "markdown",
   "id": "cdf23427-fb83-43d3-b253-7ec5ada2c5ad",
   "metadata": {},
   "source": [
    "- 이름, 가격 찾기"
   ]
  },
  {
   "cell_type": "code",
   "execution_count": 302,
   "id": "a34530af-a8fa-42e4-b2fc-06e447eb06e7",
   "metadata": {},
   "outputs": [
    {
     "data": {
      "text/plain": [
       "'₩216,340'"
      ]
     },
     "execution_count": 302,
     "metadata": {},
     "output_type": "execute_result"
    }
   ],
   "source": [
    "price = find('.f6431b446c.fbfd7c1165.e84eb96b1f')\n",
    "price.text"
   ]
  },
  {
   "cell_type": "markdown",
   "id": "70a65b53-fb72-49dd-ab46-243bc1ee4a4d",
   "metadata": {},
   "source": [
    "## 실습 11 - 이미지 크롤링하기"
   ]
  },
  {
   "cell_type": "markdown",
   "id": "b895ae86-ea73-4bf2-b4a4-3426936bd1c0",
   "metadata": {},
   "source": [
    "1. 검색하기"
   ]
  },
  {
   "cell_type": "markdown",
   "id": "92b40f5f-048b-4ad0-afb8-d02885b2379d",
   "metadata": {},
   "source": [
    "https://www.google.com/search?sca_esv=f16a7d65ad6b7977&sxsrf=AHTn8zoNpebM3BBf1Ho3GFLRq8j47_uWbQ:1744605155477&q=%EA%B3%A0%EC%96%91%EC%9D%B4&udm=2&fbs=ABzOT_CWdhQLP1FcmU5B0fn3xuWpA-dk4wpBWOGsoR7DG5zJBpcx8kZB4NRoUjdgt8WwoMuwgcVebmzp5FdJBsH8BgTUwUifjyHQwA8rksd0t-CrYLIGbJEY8IQ0mRPIq-PRzGUVP-dXUqnf8EXqZeXi_Ey65Fvu7uT_oZ70XxNT0v6fsLhh_GyJcUdFwmiClJ8NPXpqA7GvKa7mmzBZ_VO2kOw59PCO_w&sa=X&ved=2ahUKEwip1cLU2NaMAxV9klYBHRKGMHQQtKgLegQIFRAB&biw=1920&bih=889&dpr=1"
   ]
  },
  {
   "cell_type": "markdown",
   "id": "40049ab7-9147-4623-b15c-efa695db0b62",
   "metadata": {},
   "source": [
    "https://www.google.com/search?q=고양이&udm=2"
   ]
  },
  {
   "cell_type": "code",
   "execution_count": 317,
   "id": "6ad747e4-c23a-43b3-a244-921ab26ee10b",
   "metadata": {},
   "outputs": [],
   "source": [
    "# 구글 이미지 검색 url 패턴\n",
    "# https://www.google.com/search?udm=2&q={검색어}\n",
    "\n",
    "query = '고양이'\n",
    "url = f'https://www.google.com/search?udm=2&q={query}'\n",
    "\n",
    "driver.get(url)"
   ]
  },
  {
   "cell_type": "markdown",
   "id": "787f0789-68dd-4db7-8c87-acf165396cba",
   "metadata": {},
   "source": [
    "2. 검색 결과 요소 찾기"
   ]
  },
  {
   "cell_type": "code",
   "execution_count": 319,
   "id": "bba7aec4-6217-4da9-82c5-560a98f75642",
   "metadata": {},
   "outputs": [
    {
     "data": {
      "text/plain": [
       "211"
      ]
     },
     "execution_count": 319,
     "metadata": {},
     "output_type": "execute_result"
    }
   ],
   "source": [
    "results = finds('.wIjY0d.jFk0f > div g-img > img')\n",
    "len(results)"
   ]
  },
  {
   "cell_type": "markdown",
   "id": "d5b81d94-62e0-43cd-b8bd-537304b195de",
   "metadata": {},
   "source": [
    "3. 파일 저장을 위한 준비\n",
    "   - python-datauri 모듈 설치\n",
    "   - 실행중인 노트북 파일 경로에 image/ 폴더 생성"
   ]
  },
  {
   "cell_type": "code",
   "execution_count": null,
   "id": "ad601367-aba5-410a-9a72-25e1656fe9e3",
   "metadata": {},
   "outputs": [],
   "source": [
    "!pip install python-datauri\n",
    "!mkdir image"
   ]
  },
  {
   "cell_type": "markdown",
   "id": "fef8234e-31d2-446b-843b-d21654e85266",
   "metadata": {},
   "source": [
    "4. 이미지 url 가져오기"
   ]
  },
  {
   "cell_type": "code",
   "execution_count": 327,
   "id": "89b95136-626d-4fd7-a34f-87598e1eb148",
   "metadata": {},
   "outputs": [
    {
     "name": "stdout",
     "output_type": "stream",
     "text": [
      "data:image/jpeg;base64,/9j/4AAQSkZJRgABAQAAAQABAAD/2wCEAAkGBxAPDw8PDxAQDQ8PDw0PD\n",
      "save - image/0.jpg\n",
      "data:image/jpeg;base64,/9j/4AAQSkZJRgABAQAAAQABAAD/2wCEAAkGBwgHBgkIBwEKCgkLDRYPD\n",
      "save - image/1.jpg\n",
      "data:image/jpeg;base64,/9j/4AAQSkZJRgABAQAAAQABAAD/2wCEAAkGBxISEhIQEBAVEhAPFQ8QE\n",
      "save - image/2.jpg\n",
      "data:image/jpeg;base64,/9j/4AAQSkZJRgABAQAAAQABAAD/2wCEAAkGBwgHBgkIBwEKCgkLDRYPD\n",
      "save - image/3.jpg\n",
      "data:image/jpeg;base64,/9j/4AAQSkZJRgABAQAAAQABAAD/2wCEAAkGBxMTEhUSEhMWFRUXGRcaG\n",
      "save - image/4.jpg\n",
      "data:image/png;base64,iVBORw0KGgoAAAANSUhEUgAAABAAAAAQCAMAAAAoLQ9TAAAAQlBMVEVHcE\n",
      "data:image/jpeg;base64,/9j/4AAQSkZJRgABAQAAAQABAAD/2wCEAAkGBxISEhUSExMVFRUVFxYVF\n",
      "save - image/6.jpg\n",
      "data:image/png;base64,iVBORw0KGgoAAAANSUhEUgAAABAAAAAQCAYAAAAf8/9hAAAA8ElEQVQ4je\n",
      "data:image/jpeg;base64,/9j/4AAQSkZJRgABAQAAAQABAAD/2wCEAAkGBxMTEhUTExMVFhUXGCAZG\n",
      "save - image/8.jpg\n",
      "data:image/png;base64,iVBORw0KGgoAAAANSUhEUgAAABAAAAAQCAYAAAAf8/9hAAAAvUlEQVQ4ja\n",
      "data:image/jpeg;base64,/9j/4AAQSkZJRgABAQAAAQABAAD/2wCEAAkGBxMSEhUSEhIVFRUVFRUVF\n",
      "save - image/10.jpg\n",
      "data:image/png;base64,iVBORw0KGgoAAAANSUhEUgAAABAAAAAQCAMAAAAoLQ9TAAAAJ1BMVEUfSb\n",
      "data:image/jpeg;base64,/9j/4AAQSkZJRgABAQAAAQABAAD/2wCEAAkGBxMSEhUTExMWFRUXGB0aG\n",
      "save - image/12.jpg\n",
      "data:image/png;base64,iVBORw0KGgoAAAANSUhEUgAAABAAAAAQCAYAAAAf8/9hAAAAvUlEQVQ4ja\n",
      "data:image/jpeg;base64,/9j/4AAQSkZJRgABAQAAAQABAAD/2wCEAAkGBxMTEhUSExMVFhUXFRcYF\n",
      "save - image/14.jpg\n",
      "data:image/png;base64,iVBORw0KGgoAAAANSUhEUgAAABAAAAAQCAMAAAAoLQ9TAAAAgVBMVEUAUP\n",
      "data:image/jpeg;base64,/9j/4AAQSkZJRgABAQAAAQABAAD/2wCEAAkGBxITEhUSExIWFRUVFRAVF\n",
      "save - image/16.jpg\n",
      "data:image/png;base64,iVBORw0KGgoAAAANSUhEUgAAABAAAAAQCAMAAAAoLQ9TAAAAgVBMVEUAUP\n",
      "data:image/jpeg;base64,/9j/4AAQSkZJRgABAQAAAQABAAD/2wCEAAkGBxMSEhUTEhIWFRUVFx4VG\n",
      "save - image/18.jpg\n",
      "data:image/png;base64,iVBORw0KGgoAAAANSUhEUgAAABAAAAAQCAYAAAAf8/9hAAABO0lEQVQ4ja\n",
      "data:image/jpeg;base64,/9j/4AAQSkZJRgABAQAAAQABAAD/2wCEAAkGBxMTEhUSExMWFhUXGB8bG\n",
      "save - image/20.jpg\n",
      "data:image/png;base64,iVBORw0KGgoAAAANSUhEUgAAABAAAAAQCAYAAAAf8/9hAAAAvUlEQVQ4ja\n",
      "data:image/jpeg;base64,/9j/4AAQSkZJRgABAQAAAQABAAD/2wCEAAkGBw8SEhAQEBAVEBAQFRIQE\n",
      "save - image/22.jpg\n",
      "data:image/png;base64,iVBORw0KGgoAAAANSUhEUgAAABAAAAAPCAMAAADarb8dAAAATlBMVEVHcE\n",
      "data:image/jpeg;base64,/9j/4AAQSkZJRgABAQAAAQABAAD/2wCEAAkGBxISEBUQEhIVFRUVFRAVD\n",
      "save - image/24.jpg\n",
      "data:image/png;base64,iVBORw0KGgoAAAANSUhEUgAAABAAAAAQCAYAAAAf8/9hAAABs0lEQVR4AW\n",
      "data:image/jpeg;base64,/9j/4AAQSkZJRgABAQAAAQABAAD/2wCEAAkGBxMSEhUTExIVFRUVFRgYF\n",
      "save - image/26.jpg\n",
      "data:image/png;base64,iVBORw0KGgoAAAANSUhEUgAAABAAAAAQCAYAAAAf8/9hAAAApUlEQVQ4je\n",
      "data:image/jpeg;base64,/9j/4AAQSkZJRgABAQAAAQABAAD/2wCEAAkGBxISEhUTExMWFhUXFhcYF\n",
      "save - image/28.jpg\n",
      "data:image/png;base64,iVBORw0KGgoAAAANSUhEUgAAABAAAAAQCAMAAAAoLQ9TAAAAeFBMVEX8aB\n",
      "data:image/jpeg;base64,/9j/4AAQSkZJRgABAQAAAQABAAD/2wCEAAkGBxITEhUTEhIWFRUVFRUXF\n",
      "save - image/30.jpg\n",
      "data:image/png;base64,iVBORw0KGgoAAAANSUhEUgAAABAAAAAQCAYAAAAf8/9hAAABgklEQVQ4ja\n",
      "data:image/jpeg;base64,/9j/4AAQSkZJRgABAQAAAQABAAD/2wCEAAkGBxQTERMTExMWFhUVGBYbF\n",
      "save - image/32.jpg\n",
      "data:image/png;base64,iVBORw0KGgoAAAANSUhEUgAAABAAAAAQCAYAAAAf8/9hAAAC+klEQVQ4jZ\n",
      "data:image/jpeg;base64,/9j/4AAQSkZJRgABAQAAAQABAAD/2wCEAAkGBxMTEhUSExMWFhUXFxgYG\n",
      "save - image/34.jpg\n",
      "data:image/jpeg;base64,/9j/4AAQSkZJRgABAQAAAQABAAD/2wCEAAkGBwgHBgkIBwEKCgkLDRYPD\n",
      "save - image/35.jpg\n",
      "data:image/jpeg;base64,/9j/4AAQSkZJRgABAQAAAQABAAD/2wCEAAkGBxMTEhUSExIVFhUXFxcYF\n",
      "save - image/36.jpg\n",
      "data:image/jpeg;base64,/9j/4AAQSkZJRgABAQAAAQABAAD/2wCEAAkGBwEBBgkIBwgBAQkLARYDD\n",
      "save - image/37.jpg\n",
      "data:image/jpeg;base64,/9j/4AAQSkZJRgABAQAAAQABAAD/2wCEAAkGBxMTEhUTEhIWFRUXFhcVF\n",
      "save - image/38.jpg\n",
      "data:image/png;base64,iVBORw0KGgoAAAANSUhEUgAAABAAAAAQCAMAAAAoLQ9TAAAAY1BMVEX///\n",
      "data:image/jpeg;base64,/9j/4AAQSkZJRgABAQAAAQABAAD/2wCEAAkGBxISEhUSEhMVFRUVFRUYG\n",
      "save - image/40.jpg\n",
      "data:image/png;base64,iVBORw0KGgoAAAANSUhEUgAAABAAAAAQCAYAAAAf8/9hAAABiUlEQVQ4jW\n",
      "data:image/jpeg;base64,/9j/4AAQSkZJRgABAQAAAQABAAD/2wCEAAkGBxITEhUSExIVFRUVFRgVF\n",
      "save - image/42.jpg\n",
      "data:image/png;base64,iVBORw0KGgoAAAANSUhEUgAAABAAAAAQCAYAAAAf8/9hAAAA3klEQVQ4ja\n",
      "data:image/jpeg;base64,/9j/4AAQSkZJRgABAQAAAQABAAD/2wCEAAkGBxMSEBUSEBIQEBUVDxUWF\n",
      "save - image/44.jpg\n",
      "data:image/png;base64,iVBORw0KGgoAAAANSUhEUgAAABAAAAAQCAMAAAAoLQ9TAAAALVBMVEVHcE\n",
      "data:image/jpeg;base64,/9j/4AAQSkZJRgABAQAAAQABAAD/2wCEAAkGBxMSEBMSEhMWFhUXFxoWG\n",
      "save - image/46.jpg\n",
      "data:image/png;base64,iVBORw0KGgoAAAANSUhEUgAAABAAAAAQCAMAAAAoLQ9TAAAAaVBMVEX///\n",
      "data:image/jpeg;base64,/9j/4AAQSkZJRgABAQAAAQABAAD/2wCEAAkGBwgHBgkIBwgKCgkLDRYPD\n",
      "save - image/48.jpg\n",
      "data:image/jpeg;base64,/9j/4AAQSkZJRgABAQAAAQABAAD/2wCEAAkGBwgHBgkIBwgKCgkLDRYPD\n",
      "save - image/49.jpg\n",
      "data:image/jpeg;base64,/9j/4AAQSkZJRgABAQAAAQABAAD/2wCEAAkGBwgHBgkIBwgKCgkLDRYPD\n",
      "save - image/50.jpg\n",
      "data:image/jpeg;base64,/9j/4AAQSkZJRgABAQAAAQABAAD/2wCEAAkGBxAQEBUQEBAWFhUVFhUXF\n",
      "save - image/51.jpg\n",
      "data:image/png;base64,iVBORw0KGgoAAAANSUhEUgAAABAAAAAQCAMAAAAoLQ9TAAAAclBMVEXr6/\n",
      "data:image/jpeg;base64,/9j/4AAQSkZJRgABAQAAAQABAAD/2wCEAAkGBxAPDw8PDw8QDw8PDxAPE\n",
      "save - image/53.jpg\n",
      "data:image/png;base64,iVBORw0KGgoAAAANSUhEUgAAABAAAAAQCAMAAAAoLQ9TAAAAIVBMVEX///\n",
      "data:image/jpeg;base64,/9j/4AAQSkZJRgABAQAAAQABAAD/2wCEAAkGBxMSEhUQEhMVFRUQEBUWF\n",
      "save - image/55.jpg\n",
      "data:image/png;base64,iVBORw0KGgoAAAANSUhEUgAAABAAAAAQCAMAAAAoLQ9TAAAAbFBMVEXCFB\n",
      "data:image/jpeg;base64,/9j/4AAQSkZJRgABAQAAAQABAAD/2wCEAAkGBxMTEhUTEhIVFhUXGBgbG\n",
      "save - image/57.jpg\n",
      "data:image/png;base64,iVBORw0KGgoAAAANSUhEUgAAABAAAAAQCAMAAAAoLQ9TAAAAgVBMVEUAUP\n",
      "data:image/gif;base64,R0lGODlhAQABAIAAAP///////yH5BAEKAAEALAAAAAABAAEAAAICTAEAOw\n",
      "data:image/png;base64,iVBORw0KGgoAAAANSUhEUgAAABAAAAAQCAMAAAAoLQ9TAAAAQlBMVEULf4\n",
      "data:image/gif;base64,R0lGODlhAQABAIAAAP///////yH5BAEKAAEALAAAAAABAAEAAAICTAEAOw\n",
      "data:image/png;base64,iVBORw0KGgoAAAANSUhEUgAAABAAAAAQCAMAAAAoLQ9TAAAAsVBMVEVHcE\n",
      "data:image/gif;base64,R0lGODlhAQABAIAAAP///////yH5BAEKAAEALAAAAAABAAEAAAICTAEAOw\n",
      "data:image/png;base64,iVBORw0KGgoAAAANSUhEUgAAABAAAAAQCAMAAAAoLQ9TAAAASFBMVEVHcE\n",
      "data:image/gif;base64,R0lGODlhAQABAIAAAP///////yH5BAEKAAEALAAAAAABAAEAAAICTAEAOw\n",
      "data:image/png;base64,iVBORw0KGgoAAAANSUhEUgAAABAAAAAQCAYAAAAf8/9hAAAAXklEQVQ4jW\n",
      "data:image/gif;base64,R0lGODlhAQABAIAAAP///////yH5BAEKAAEALAAAAAABAAEAAAICTAEAOw\n",
      "data:image/png;base64,iVBORw0KGgoAAAANSUhEUgAAABAAAAAPCAMAAADarb8dAAAATlBMVEVHcE\n",
      "data:image/gif;base64,R0lGODlhAQABAIAAAP///////yH5BAEKAAEALAAAAAABAAEAAAICTAEAOw\n",
      "data:image/png;base64,iVBORw0KGgoAAAANSUhEUgAAABAAAAAQCAMAAAAoLQ9TAAAATlBMVEX///\n",
      "data:image/gif;base64,R0lGODlhAQABAIAAAP///////yH5BAEKAAEALAAAAAABAAEAAAICTAEAOw\n",
      "data:image/png;base64,iVBORw0KGgoAAAANSUhEUgAAABAAAAAQCAMAAAAoLQ9TAAAApVBMVEX5+f\n",
      "data:image/gif;base64,R0lGODlhAQABAIAAAP///////yH5BAEKAAEALAAAAAABAAEAAAICTAEAOw\n",
      "data:image/jpeg;base64,/9j/4AAQSkZJRgABAQAAAQABAAD/2wCEAAkGBwgHBgkIBwEKCgkLDRYPD\n",
      "save - image/74.jpg\n",
      "data:image/gif;base64,R0lGODlhAQABAIAAAP///////yH5BAEKAAEALAAAAAABAAEAAAICTAEAOw\n",
      "data:image/png;base64,iVBORw0KGgoAAAANSUhEUgAAABAAAAAQCAMAAAAoLQ9TAAAAgVBMVEUAUP\n",
      "data:image/gif;base64,R0lGODlhAQABAIAAAP///////yH5BAEKAAEALAAAAAABAAEAAAICTAEAOw\n",
      "data:image/png;base64,iVBORw0KGgoAAAANSUhEUgAAABAAAAAQCAYAAAAf8/9hAAABMUlEQVQ4jZ\n",
      "data:image/gif;base64,R0lGODlhAQABAIAAAP///////yH5BAEKAAEALAAAAAABAAEAAAICTAEAOw\n",
      "data:image/png;base64,iVBORw0KGgoAAAANSUhEUgAAABAAAAAQCAYAAAAf8/9hAAABs0lEQVR4AW\n",
      "data:image/gif;base64,R0lGODlhAQABAIAAAP///////yH5BAEKAAEALAAAAAABAAEAAAICTAEAOw\n",
      "data:image/png;base64,iVBORw0KGgoAAAANSUhEUgAAABAAAAAQCAYAAAAf8/9hAAABsklEQVQ4jY\n",
      "data:image/gif;base64,R0lGODlhAQABAIAAAP///////yH5BAEKAAEALAAAAAABAAEAAAICTAEAOw\n",
      "data:image/png;base64,iVBORw0KGgoAAAANSUhEUgAAABAAAAAQCAMAAAAoLQ9TAAAAS1BMVEVHcE\n",
      "data:image/gif;base64,R0lGODlhAQABAIAAAP///////yH5BAEKAAEALAAAAAABAAEAAAICTAEAOw\n",
      "data:image/png;base64,iVBORw0KGgoAAAANSUhEUgAAABAAAAAQCAMAAAAoLQ9TAAAAKlBMVEVHcE\n",
      "data:image/gif;base64,R0lGODlhAQABAIAAAP///////yH5BAEKAAEALAAAAAABAAEAAAICTAEAOw\n",
      "data:image/png;base64,iVBORw0KGgoAAAANSUhEUgAAABAAAAAQCAMAAAAoLQ9TAAAAQlBMVEX///\n",
      "data:image/gif;base64,R0lGODlhAQABAIAAAP///////yH5BAEKAAEALAAAAAABAAEAAAICTAEAOw\n",
      "data:image/png;base64,iVBORw0KGgoAAAANSUhEUgAAABAAAAAQCAYAAAAf8/9hAAABMUlEQVQ4jZ\n",
      "data:image/gif;base64,R0lGODlhAQABAIAAAP///////yH5BAEKAAEALAAAAAABAAEAAAICTAEAOw\n",
      "data:image/png;base64,iVBORw0KGgoAAAANSUhEUgAAABAAAAAQCAYAAAAf8/9hAAABO0lEQVQ4ja\n",
      "data:image/gif;base64,R0lGODlhAQABAIAAAP///////yH5BAEKAAEALAAAAAABAAEAAAICTAEAOw\n",
      "data:image/png;base64,iVBORw0KGgoAAAANSUhEUgAAABAAAAAQCAMAAAAoLQ9TAAAALVBMVEVHcE\n",
      "data:image/gif;base64,R0lGODlhAQABAIAAAP///////yH5BAEKAAEALAAAAAABAAEAAAICTAEAOw\n",
      "data:image/png;base64,iVBORw0KGgoAAAANSUhEUgAAABAAAAAQCAMAAAAoLQ9TAAAAY1BMVEX///\n",
      "data:image/gif;base64,R0lGODlhAQABAIAAAP///////yH5BAEKAAEALAAAAAABAAEAAAICTAEAOw\n",
      "data:image/png;base64,iVBORw0KGgoAAAANSUhEUgAAABAAAAAQCAYAAAAf8/9hAAABsklEQVQ4jY\n",
      "data:image/gif;base64,R0lGODlhAQABAIAAAP///////yH5BAEKAAEALAAAAAABAAEAAAICTAEAOw\n",
      "data:image/gif;base64,R0lGODlhAQABAIAAAP///////yH5BAEKAAEALAAAAAABAAEAAAICTAEAOw\n",
      "data:image/gif;base64,R0lGODlhAQABAIAAAP///////yH5BAEKAAEALAAAAAABAAEAAAICTAEAOw\n",
      "data:image/gif;base64,R0lGODlhAQABAIAAAP///////yH5BAEKAAEALAAAAAABAAEAAAICTAEAOw\n",
      "data:image/jpeg;base64,/9j/4AAQSkZJRgABAQAAAQABAAD/2wCEAAkGBwgHBgkIBwEKCgkLDRYPD\n",
      "save - image/103.jpg\n",
      "data:image/gif;base64,R0lGODlhAQABAIAAAP///////yH5BAEKAAEALAAAAAABAAEAAAICTAEAOw\n",
      "data:image/png;base64,iVBORw0KGgoAAAANSUhEUgAAABAAAAAQCAYAAAAf8/9hAAABMElEQVQ4jY\n",
      "data:image/gif;base64,R0lGODlhAQABAIAAAP///////yH5BAEKAAEALAAAAAABAAEAAAICTAEAOw\n",
      "data:image/png;base64,iVBORw0KGgoAAAANSUhEUgAAABAAAAAQCAYAAAAf8/9hAAAA3klEQVQ4ja\n",
      "data:image/gif;base64,R0lGODlhAQABAIAAAP///////yH5BAEKAAEALAAAAAABAAEAAAICTAEAOw\n",
      "data:image/png;base64,iVBORw0KGgoAAAANSUhEUgAAABAAAAAQCAYAAAAf8/9hAAAAvUlEQVQ4ja\n",
      "data:image/gif;base64,R0lGODlhAQABAIAAAP///////yH5BAEKAAEALAAAAAABAAEAAAICTAEAOw\n",
      "data:image/png;base64,iVBORw0KGgoAAAANSUhEUgAAABAAAAAQCAMAAAAoLQ9TAAABOFBMVEVHcE\n",
      "data:image/gif;base64,R0lGODlhAQABAIAAAP///////yH5BAEKAAEALAAAAAABAAEAAAICTAEAOw\n",
      "data:image/png;base64,iVBORw0KGgoAAAANSUhEUgAAABAAAAAQCAMAAAAoLQ9TAAAAgVBMVEUAUP\n",
      "data:image/gif;base64,R0lGODlhAQABAIAAAP///////yH5BAEKAAEALAAAAAABAAEAAAICTAEAOw\n",
      "data:image/png;base64,iVBORw0KGgoAAAANSUhEUgAAABAAAAAQCAMAAAAoLQ9TAAAAQlBMVEULf4\n",
      "data:image/gif;base64,R0lGODlhAQABAIAAAP///////yH5BAEKAAEALAAAAAABAAEAAAICTAEAOw\n",
      "data:image/png;base64,iVBORw0KGgoAAAANSUhEUgAAABAAAAAQCAMAAAAoLQ9TAAAALVBMVEVHcE\n",
      "data:image/gif;base64,R0lGODlhAQABAIAAAP///////yH5BAEKAAEALAAAAAABAAEAAAICTAEAOw\n",
      "data:image/png;base64,iVBORw0KGgoAAAANSUhEUgAAABAAAAAQCAMAAAAoLQ9TAAABOFBMVEVHcE\n",
      "data:image/gif;base64,R0lGODlhAQABAIAAAP///////yH5BAEKAAEALAAAAAABAAEAAAICTAEAOw\n",
      "data:image/png;base64,iVBORw0KGgoAAAANSUhEUgAAABAAAAAQCAMAAAAoLQ9TAAAAclBMVEXr6/\n",
      "data:image/gif;base64,R0lGODlhAQABAIAAAP///////yH5BAEKAAEALAAAAAABAAEAAAICTAEAOw\n",
      "data:image/png;base64,iVBORw0KGgoAAAANSUhEUgAAABAAAAAQCAYAAAAf8/9hAAAA8ElEQVQ4je\n",
      "data:image/gif;base64,R0lGODlhAQABAIAAAP///////yH5BAEKAAEALAAAAAABAAEAAAICTAEAOw\n",
      "data:image/png;base64,iVBORw0KGgoAAAANSUhEUgAAABAAAAAQCAMAAAAoLQ9TAAAAS1BMVEVHcE\n",
      "data:image/gif;base64,R0lGODlhAQABAIAAAP///////yH5BAEKAAEALAAAAAABAAEAAAICTAEAOw\n",
      "data:image/png;base64,iVBORw0KGgoAAAANSUhEUgAAABAAAAAQCAYAAAAf8/9hAAABO0lEQVQ4ja\n",
      "data:image/gif;base64,R0lGODlhAQABAIAAAP///////yH5BAEKAAEALAAAAAABAAEAAAICTAEAOw\n",
      "data:image/png;base64,iVBORw0KGgoAAAANSUhEUgAAABAAAAAQCAMAAAAoLQ9TAAAAgVBMVEVHcE\n",
      "data:image/gif;base64,R0lGODlhAQABAIAAAP///////yH5BAEKAAEALAAAAAABAAEAAAICTAEAOw\n",
      "data:image/png;base64,iVBORw0KGgoAAAANSUhEUgAAABAAAAAQCAYAAAAf8/9hAAAA3klEQVQ4ja\n",
      "data:image/gif;base64,R0lGODlhAQABAIAAAP///////yH5BAEKAAEALAAAAAABAAEAAAICTAEAOw\n",
      "data:image/png;base64,iVBORw0KGgoAAAANSUhEUgAAABAAAAAQCAMAAAAoLQ9TAAAAJ1BMVEUfSb\n",
      "data:image/gif;base64,R0lGODlhAQABAIAAAP///////yH5BAEKAAEALAAAAAABAAEAAAICTAEAOw\n",
      "data:image/png;base64,iVBORw0KGgoAAAANSUhEUgAAABAAAAAQCAMAAAAoLQ9TAAAAYFBMVEX///\n",
      "data:image/gif;base64,R0lGODlhAQABAIAAAP///////yH5BAEKAAEALAAAAAABAAEAAAICTAEAOw\n",
      "data:image/png;base64,iVBORw0KGgoAAAANSUhEUgAAABAAAAAQCAYAAAAf8/9hAAAApUlEQVQ4je\n",
      "data:image/gif;base64,R0lGODlhAQABAIAAAP///////yH5BAEKAAEALAAAAAABAAEAAAICTAEAOw\n",
      "data:image/png;base64,iVBORw0KGgoAAAANSUhEUgAAABAAAAAQCAMAAAAoLQ9TAAAAQlBMVEVHcE\n",
      "data:image/gif;base64,R0lGODlhAQABAIAAAP///////yH5BAEKAAEALAAAAAABAAEAAAICTAEAOw\n",
      "data:image/png;base64,iVBORw0KGgoAAAANSUhEUgAAABAAAAAQCAMAAAAoLQ9TAAAALVBMVEVHcE\n",
      "data:image/gif;base64,R0lGODlhAQABAIAAAP///////yH5BAEKAAEALAAAAAABAAEAAAICTAEAOw\n",
      "data:image/png;base64,iVBORw0KGgoAAAANSUhEUgAAABAAAAAQCAMAAAAoLQ9TAAAAe1BMVEUM9d\n",
      "data:image/gif;base64,R0lGODlhAQABAIAAAP///////yH5BAEKAAEALAAAAAABAAEAAAICTAEAOw\n",
      "data:image/png;base64,iVBORw0KGgoAAAANSUhEUgAAABAAAAAQCAMAAAAoLQ9TAAAAHlBMVEX///\n",
      "data:image/gif;base64,R0lGODlhAQABAIAAAP///////yH5BAEKAAEALAAAAAABAAEAAAICTAEAOw\n",
      "data:image/png;base64,iVBORw0KGgoAAAANSUhEUgAAABAAAAAQCAYAAAAf8/9hAAAA9klEQVQ4ja\n",
      "data:image/gif;base64,R0lGODlhAQABAIAAAP///////yH5BAEKAAEALAAAAAABAAEAAAICTAEAOw\n",
      "data:image/png;base64,iVBORw0KGgoAAAANSUhEUgAAABAAAAAQCAMAAAAoLQ9TAAAAgVBMVEUAUP\n",
      "data:image/gif;base64,R0lGODlhAQABAIAAAP///////yH5BAEKAAEALAAAAAABAAEAAAICTAEAOw\n",
      "data:image/gif;base64,R0lGODlhAQABAIAAAP///////yH5BAEKAAEALAAAAAABAAEAAAICTAEAOw\n",
      "data:image/gif;base64,R0lGODlhAQABAIAAAP///////yH5BAEKAAEALAAAAAABAAEAAAICTAEAOw\n",
      "data:image/png;base64,iVBORw0KGgoAAAANSUhEUgAAABAAAAAQCAMAAAAoLQ9TAAAAVFBMVEX///\n",
      "data:image/gif;base64,R0lGODlhAQABAIAAAP///////yH5BAEKAAEALAAAAAABAAEAAAICTAEAOw\n",
      "data:image/png;base64,iVBORw0KGgoAAAANSUhEUgAAABAAAAAQCAYAAAAf8/9hAAABbElEQVQ4ja\n",
      "data:image/gif;base64,R0lGODlhAQABAIAAAP///////yH5BAEKAAEALAAAAAABAAEAAAICTAEAOw\n",
      "data:image/png;base64,iVBORw0KGgoAAAANSUhEUgAAABAAAAAQCAMAAAAoLQ9TAAAAgVBMVEVHcE\n",
      "data:image/gif;base64,R0lGODlhAQABAIAAAP///////yH5BAEKAAEALAAAAAABAAEAAAICTAEAOw\n",
      "data:image/png;base64,iVBORw0KGgoAAAANSUhEUgAAABAAAAAQCAYAAAAf8/9hAAACDklEQVQ4jZ\n",
      "data:image/gif;base64,R0lGODlhAQABAIAAAP///////yH5BAEKAAEALAAAAAABAAEAAAICTAEAOw\n",
      "data:image/png;base64,iVBORw0KGgoAAAANSUhEUgAAABAAAAAQCAMAAAAoLQ9TAAAAgVBMVEUAUP\n",
      "data:image/gif;base64,R0lGODlhAQABAIAAAP///////yH5BAEKAAEALAAAAAABAAEAAAICTAEAOw\n",
      "data:image/png;base64,iVBORw0KGgoAAAANSUhEUgAAABAAAAAQCAMAAAAoLQ9TAAAARVBMVEVHcE\n",
      "data:image/gif;base64,R0lGODlhAQABAIAAAP///////yH5BAEKAAEALAAAAAABAAEAAAICTAEAOw\n",
      "data:image/png;base64,iVBORw0KGgoAAAANSUhEUgAAABAAAAAQCAYAAAAf8/9hAAAA3klEQVQ4ja\n",
      "data:image/gif;base64,R0lGODlhAQABAIAAAP///////yH5BAEKAAEALAAAAAABAAEAAAICTAEAOw\n",
      "data:image/png;base64,iVBORw0KGgoAAAANSUhEUgAAABAAAAAPCAMAAADarb8dAAAATlBMVEVHcE\n",
      "data:image/gif;base64,R0lGODlhAQABAIAAAP///////yH5BAEKAAEALAAAAAABAAEAAAICTAEAOw\n",
      "data:image/png;base64,iVBORw0KGgoAAAANSUhEUgAAABAAAAAQCAMAAAAoLQ9TAAAAHlBMVEX///\n",
      "data:image/gif;base64,R0lGODlhAQABAIAAAP///////yH5BAEKAAEALAAAAAABAAEAAAICTAEAOw\n",
      "data:image/png;base64,iVBORw0KGgoAAAANSUhEUgAAABAAAAAQCAYAAAAf8/9hAAACdElEQVQ4jY\n",
      "data:image/gif;base64,R0lGODlhAQABAIAAAP///////yH5BAEKAAEALAAAAAABAAEAAAICTAEAOw\n",
      "data:image/png;base64,iVBORw0KGgoAAAANSUhEUgAAABAAAAAQCAMAAAAoLQ9TAAAAS1BMVEVHcE\n",
      "data:image/gif;base64,R0lGODlhAQABAIAAAP///////yH5BAEKAAEALAAAAAABAAEAAAICTAEAOw\n",
      "data:image/png;base64,iVBORw0KGgoAAAANSUhEUgAAABAAAAAQCAMAAAAoLQ9TAAAAQlBMVEVHcE\n",
      "data:image/gif;base64,R0lGODlhAQABAIAAAP///////yH5BAEKAAEALAAAAAABAAEAAAICTAEAOw\n",
      "data:image/png;base64,iVBORw0KGgoAAAANSUhEUgAAABAAAAAQCAYAAAAf8/9hAAAA8ElEQVQ4je\n",
      "data:image/gif;base64,R0lGODlhAQABAIAAAP///////yH5BAEKAAEALAAAAAABAAEAAAICTAEAOw\n",
      "data:image/png;base64,iVBORw0KGgoAAAANSUhEUgAAABAAAAAQCAMAAAAoLQ9TAAAAMFBMVEVHcE\n",
      "data:image/gif;base64,R0lGODlhAQABAIAAAP///////yH5BAEKAAEALAAAAAABAAEAAAICTAEAOw\n",
      "data:image/png;base64,iVBORw0KGgoAAAANSUhEUgAAABAAAAAQCAYAAAAf8/9hAAABO0lEQVQ4ja\n",
      "data:image/gif;base64,R0lGODlhAQABAIAAAP///////yH5BAEKAAEALAAAAAABAAEAAAICTAEAOw\n",
      "data:image/png;base64,iVBORw0KGgoAAAANSUhEUgAAABAAAAAQCAMAAAAoLQ9TAAAAQlBMVEULf4\n",
      "data:image/gif;base64,R0lGODlhAQABAIAAAP///////yH5BAEKAAEALAAAAAABAAEAAAICTAEAOw\n",
      "data:image/png;base64,iVBORw0KGgoAAAANSUhEUgAAABAAAAAQCAMAAAAoLQ9TAAAAgVBMVEUAUP\n",
      "data:image/gif;base64,R0lGODlhAQABAIAAAP///////yH5BAEKAAEALAAAAAABAAEAAAICTAEAOw\n",
      "data:image/png;base64,iVBORw0KGgoAAAANSUhEUgAAABAAAAAQCAMAAAAoLQ9TAAAAgVBMVEVHcE\n",
      "data:image/gif;base64,R0lGODlhAQABAIAAAP///////yH5BAEKAAEALAAAAAABAAEAAAICTAEAOw\n",
      "data:image/png;base64,iVBORw0KGgoAAAANSUhEUgAAABAAAAAQCAMAAAAoLQ9TAAAANlBMVEVHcE\n",
      "data:image/gif;base64,R0lGODlhAQABAIAAAP///////yH5BAEKAAEALAAAAAABAAEAAAICTAEAOw\n",
      "data:image/png;base64,iVBORw0KGgoAAAANSUhEUgAAABAAAAAQCAMAAAAoLQ9TAAAA1VBMVEXRBg\n",
      "data:image/gif;base64,R0lGODlhAQABAIAAAP///////yH5BAEKAAEALAAAAAABAAEAAAICTAEAOw\n",
      "data:image/png;base64,iVBORw0KGgoAAAANSUhEUgAAABAAAAAQCAMAAAAoLQ9TAAAAKlBMVEVHcE\n",
      "data:image/gif;base64,R0lGODlhAQABAIAAAP///////yH5BAEKAAEALAAAAAABAAEAAAICTAEAOw\n",
      "data:image/png;base64,iVBORw0KGgoAAAANSUhEUgAAABAAAAAQCAYAAAAf8/9hAAAAvUlEQVQ4ja\n",
      "data:image/gif;base64,R0lGODlhAQABAIAAAP///////yH5BAEKAAEALAAAAAABAAEAAAICTAEAOw\n",
      "data:image/png;base64,iVBORw0KGgoAAAANSUhEUgAAABAAAAAQCAMAAAAoLQ9TAAAALVBMVEVHcE\n",
      "data:image/gif;base64,R0lGODlhAQABAIAAAP///////yH5BAEKAAEALAAAAAABAAEAAAICTAEAOw\n",
      "data:image/png;base64,iVBORw0KGgoAAAANSUhEUgAAABAAAAAQCAMAAAAoLQ9TAAAAb1BMVEX///\n",
      "data:image/gif;base64,R0lGODlhAQABAIAAAP///////yH5BAEKAAEALAAAAAABAAEAAAICTAEAOw\n",
      "data:image/gif;base64,R0lGODlhAQABAIAAAP///////yH5BAEKAAEALAAAAAABAAEAAAICTAEAOw\n",
      "data:image/gif;base64,R0lGODlhAQABAIAAAP///////yH5BAEKAAEALAAAAAABAAEAAAICTAEAOw\n",
      "data:image/gif;base64,R0lGODlhAQABAIAAAP///////yH5BAEKAAEALAAAAAABAAEAAAICTAEAOw\n",
      "data:image/png;base64,iVBORw0KGgoAAAANSUhEUgAAABAAAAAQCAMAAAAoLQ9TAAAAMFBMVEUFBw\n",
      "data:image/gif;base64,R0lGODlhAQABAIAAAP///////yH5BAEKAAEALAAAAAABAAEAAAICTAEAOw\n",
      "data:image/png;base64,iVBORw0KGgoAAAANSUhEUgAAABAAAAAQCAMAAAAoLQ9TAAAAVFBMVEVHcE\n",
      "data:image/gif;base64,R0lGODlhAQABAIAAAP///////yH5BAEKAAEALAAAAAABAAEAAAICTAEAOw\n",
      "data:image/png;base64,iVBORw0KGgoAAAANSUhEUgAAABAAAAAQCAMAAAAoLQ9TAAAAZlBMVEUiO3\n",
      "data:image/gif;base64,R0lGODlhAQABAIAAAP///////yH5BAEKAAEALAAAAAABAAEAAAICTAEAOw\n",
      "data:image/png;base64,iVBORw0KGgoAAAANSUhEUgAAABAAAAAQCAMAAAAoLQ9TAAAAKlBMVEVHcE\n"
     ]
    }
   ],
   "source": [
    "from datauri import DataURI\n",
    "\n",
    "for i, result in enumerate(results):\n",
    "    src = result.get_attribute('src')\n",
    "    print(src[:80])\n",
    "\n",
    "    if src.startswith('data:image/jpeg'):\n",
    "        uri = DataURI(src)\n",
    "        with open(f'image/{i}.jpg', 'wb') as f:\n",
    "            f.write(uri.data)\n",
    "            print(f'save - image/{i}.jpg')\n",
    "\n",
    "    "
   ]
  },
  {
   "cell_type": "code",
   "execution_count": null,
   "id": "ad9944b6-313c-4cb7-970e-5ec9f5dcd426",
   "metadata": {},
   "outputs": [],
   "source": []
  }
 ],
 "metadata": {
  "kernelspec": {
   "display_name": "Python [conda env:base] *",
   "language": "python",
   "name": "conda-base-py"
  },
  "language_info": {
   "codemirror_mode": {
    "name": "ipython",
    "version": 3
   },
   "file_extension": ".py",
   "mimetype": "text/x-python",
   "name": "python",
   "nbconvert_exporter": "python",
   "pygments_lexer": "ipython3",
   "version": "3.12.7"
  }
 },
 "nbformat": 4,
 "nbformat_minor": 5
}
