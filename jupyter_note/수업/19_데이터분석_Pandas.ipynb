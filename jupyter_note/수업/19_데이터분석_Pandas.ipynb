{
 "cells": [
  {
   "cell_type": "code",
   "execution_count": 1,
   "id": "ffba1322-0681-485f-9979-c8b78cb39d30",
   "metadata": {},
   "outputs": [],
   "source": [
    "import pandas as pd"
   ]
  },
  {
   "cell_type": "markdown",
   "id": "9e2cc7a5-ca9a-4f4f-82ce-9cde9b79f8dd",
   "metadata": {},
   "source": [
    "## 실습 1"
   ]
  },
  {
   "cell_type": "code",
   "execution_count": 3,
   "id": "ff22815f-6755-4e40-a1e5-23a63200db76",
   "metadata": {},
   "outputs": [
    {
     "name": "stdout",
     "output_type": "stream",
     "text": [
      "국어     95\n",
      "수학     80\n",
      "영어    100\n",
      "국사     85\n",
      "Name: Kevin, dtype: int64\n"
     ]
    }
   ],
   "source": [
    "score_list = [ 95, 80, 100, 85 ]\n",
    "courses = ['국어', '수학', '영어', '국사']\n",
    "score = pd.Series(score_list, index=courses, name='Kevin')\n",
    "print(score)"
   ]
  },
  {
   "cell_type": "code",
   "execution_count": 4,
   "id": "b2767f78-dfdf-4366-be29-22c7b211ff30",
   "metadata": {},
   "outputs": [
    {
     "name": "stdout",
     "output_type": "stream",
     "text": [
      "국어     95\n",
      "수학     80\n",
      "영어    100\n",
      "국사     85\n",
      "Name: Kevin, dtype: int64\n"
     ]
    }
   ],
   "source": [
    "score_dict = { '국어': 95, '수학': 80, '영어': 100, '국사': 85 }\n",
    "score_2 = pd.Series(score_dict, name='Kevin')\n",
    "print(score_2)"
   ]
  },
  {
   "cell_type": "markdown",
   "id": "5ea7e31e-d2f9-4704-8315-c648b58ad06c",
   "metadata": {},
   "source": [
    "## 실습 4"
   ]
  },
  {
   "cell_type": "code",
   "execution_count": 6,
   "id": "a418c800-574b-46ff-b1ee-a24c4e6eb025",
   "metadata": {},
   "outputs": [
    {
     "data": {
      "text/plain": [
       "국어     95\n",
       "영어    100\n",
       "Name: Kevin, dtype: int64"
      ]
     },
     "execution_count": 6,
     "metadata": {},
     "output_type": "execute_result"
    }
   ],
   "source": [
    "score[['국어', '영어']]"
   ]
  },
  {
   "cell_type": "code",
   "execution_count": 7,
   "id": "c7233fef-514d-47fb-ba57-2404380cec6d",
   "metadata": {},
   "outputs": [
    {
     "data": {
      "text/plain": [
       "국어     95\n",
       "수학     90\n",
       "영어    100\n",
       "국사     85\n",
       "Name: Kevin, dtype: int64"
      ]
     },
     "execution_count": 7,
     "metadata": {},
     "output_type": "execute_result"
    }
   ],
   "source": [
    "score['수학'] = 90\n",
    "score"
   ]
  },
  {
   "cell_type": "code",
   "execution_count": 8,
   "id": "09d8d1e5-e3b3-47ec-93d2-88771340c625",
   "metadata": {},
   "outputs": [
    {
     "data": {
      "text/plain": [
       "국어     95\n",
       "수학     90\n",
       "영어    100\n",
       "Name: Kevin, dtype: int64"
      ]
     },
     "execution_count": 8,
     "metadata": {},
     "output_type": "execute_result"
    }
   ],
   "source": [
    "score[score>=90]"
   ]
  },
  {
   "cell_type": "code",
   "execution_count": 9,
   "id": "5c840206-a7ed-429d-995e-53bb423a300a",
   "metadata": {},
   "outputs": [
    {
     "data": {
      "text/plain": [
       "국어     95\n",
       "수학     90\n",
       "영어    100\n",
       "Name: Kevin, dtype: int64"
      ]
     },
     "execution_count": 9,
     "metadata": {},
     "output_type": "execute_result"
    }
   ],
   "source": [
    "result = (score >= 90)\n",
    "type(result)\n",
    "score[result]"
   ]
  },
  {
   "cell_type": "markdown",
   "id": "12d7e496-4845-404e-be53-a205c532406f",
   "metadata": {},
   "source": [
    "## 실습 6"
   ]
  },
  {
   "cell_type": "code",
   "execution_count": 11,
   "id": "d751754a-281b-43f2-b731-3cf71e373e16",
   "metadata": {},
   "outputs": [
    {
     "name": "stdout",
     "output_type": "stream",
     "text": [
      "국어     50\n",
      "수학    100\n",
      "영어     70\n",
      "국사     75\n",
      "Name: Jane, dtype: int64\n"
     ]
    }
   ],
   "source": [
    "score_list = [ 50, 100, 70, 75 ]\n",
    "courses = ['국어', '수학', '영어', '국사']\n",
    "score_jane = pd.Series(score_list, index=courses, name='Jane')\n",
    "print(score_jane)"
   ]
  },
  {
   "cell_type": "code",
   "execution_count": 12,
   "id": "f3178795-97dc-4a45-8573-74ec1dc41970",
   "metadata": {},
   "outputs": [
    {
     "name": "stdout",
     "output_type": "stream",
     "text": [
      "    Kevin  Jane\n",
      "국어     95    50\n",
      "수학     90   100\n",
      "영어    100    70\n",
      "국사     85    75\n"
     ]
    }
   ],
   "source": [
    "score_df = pd.DataFrame({ 'Kevin': score, 'Jane': score_jane })\n",
    "print(score_df)"
   ]
  },
  {
   "cell_type": "code",
   "execution_count": 13,
   "id": "4dad2e09-2320-4d43-b103-53e11dc2c67f",
   "metadata": {},
   "outputs": [
    {
     "name": "stdout",
     "output_type": "stream",
     "text": [
      "    Kevin  Jane\n",
      "국어     95    50\n",
      "수학     90   100\n",
      "영어    100    70\n",
      "국사     85    75\n"
     ]
    }
   ],
   "source": [
    "score_df = pd.DataFrame({ score.name: score, score_jane.name: score_jane })\n",
    "print(score_df)"
   ]
  },
  {
   "cell_type": "code",
   "execution_count": 14,
   "id": "354a2072-d171-4e95-8452-73c102fb96c1",
   "metadata": {},
   "outputs": [
    {
     "data": {
      "text/plain": [
       "국어     90\n",
       "영어     95\n",
       "국사     85\n",
       "과학    100\n",
       "Name: Jin, dtype: int64"
      ]
     },
     "execution_count": 14,
     "metadata": {},
     "output_type": "execute_result"
    }
   ],
   "source": [
    "score_list = [ 90, 95, 85, 100 ]\n",
    "courses = ['국어', '영어', '국사', '과학']\n",
    "score_jin = pd.Series(score_list, index=courses, name='Jin')\n",
    "score_jin"
   ]
  },
  {
   "cell_type": "code",
   "execution_count": 15,
   "id": "4bee209f-be72-443e-874d-20d057229f8e",
   "metadata": {},
   "outputs": [
    {
     "data": {
      "text/html": [
       "<div>\n",
       "<style scoped>\n",
       "    .dataframe tbody tr th:only-of-type {\n",
       "        vertical-align: middle;\n",
       "    }\n",
       "\n",
       "    .dataframe tbody tr th {\n",
       "        vertical-align: top;\n",
       "    }\n",
       "\n",
       "    .dataframe thead th {\n",
       "        text-align: right;\n",
       "    }\n",
       "</style>\n",
       "<table border=\"1\" class=\"dataframe\">\n",
       "  <thead>\n",
       "    <tr style=\"text-align: right;\">\n",
       "      <th></th>\n",
       "      <th>Kevin</th>\n",
       "      <th>Jane</th>\n",
       "      <th>Jin</th>\n",
       "    </tr>\n",
       "  </thead>\n",
       "  <tbody>\n",
       "    <tr>\n",
       "      <th>과학</th>\n",
       "      <td>NaN</td>\n",
       "      <td>NaN</td>\n",
       "      <td>100.0</td>\n",
       "    </tr>\n",
       "    <tr>\n",
       "      <th>국사</th>\n",
       "      <td>85.0</td>\n",
       "      <td>75.0</td>\n",
       "      <td>85.0</td>\n",
       "    </tr>\n",
       "    <tr>\n",
       "      <th>국어</th>\n",
       "      <td>95.0</td>\n",
       "      <td>50.0</td>\n",
       "      <td>90.0</td>\n",
       "    </tr>\n",
       "    <tr>\n",
       "      <th>수학</th>\n",
       "      <td>90.0</td>\n",
       "      <td>100.0</td>\n",
       "      <td>NaN</td>\n",
       "    </tr>\n",
       "    <tr>\n",
       "      <th>영어</th>\n",
       "      <td>100.0</td>\n",
       "      <td>70.0</td>\n",
       "      <td>95.0</td>\n",
       "    </tr>\n",
       "  </tbody>\n",
       "</table>\n",
       "</div>"
      ],
      "text/plain": [
       "    Kevin   Jane    Jin\n",
       "과학    NaN    NaN  100.0\n",
       "국사   85.0   75.0   85.0\n",
       "국어   95.0   50.0   90.0\n",
       "수학   90.0  100.0    NaN\n",
       "영어  100.0   70.0   95.0"
      ]
     },
     "execution_count": 15,
     "metadata": {},
     "output_type": "execute_result"
    }
   ],
   "source": [
    "score_df = pd.DataFrame({ 'Kevin': score, 'Jane': score_jane, 'Jin': score_jin })\n",
    "score_df"
   ]
  },
  {
   "cell_type": "code",
   "execution_count": 16,
   "id": "24bfb225-9c7b-4282-873d-1cc5dbfb6fbd",
   "metadata": {},
   "outputs": [
    {
     "data": {
      "text/plain": [
       "Kevin    float64\n",
       "Jane     float64\n",
       "Jin      float64\n",
       "dtype: object"
      ]
     },
     "execution_count": 16,
     "metadata": {},
     "output_type": "execute_result"
    }
   ],
   "source": [
    "score_df.dtypes"
   ]
  },
  {
   "cell_type": "markdown",
   "id": "6c879917-b773-4c04-b647-6b49ca6d6d44",
   "metadata": {},
   "source": [
    "## 실습 10"
   ]
  },
  {
   "cell_type": "code",
   "execution_count": 18,
   "id": "53345319-cdf6-4d14-b4f7-807a0b01c494",
   "metadata": {},
   "outputs": [
    {
     "data": {
      "text/plain": [
       "과학    100.0\n",
       "국사     85.0\n",
       "국어     90.0\n",
       "수학      NaN\n",
       "영어     95.0\n",
       "Name: Jin, dtype: float64"
      ]
     },
     "execution_count": 18,
     "metadata": {},
     "output_type": "execute_result"
    }
   ],
   "source": [
    "score_df['Jin']"
   ]
  },
  {
   "cell_type": "code",
   "execution_count": 19,
   "id": "b1ed53ea-a9bd-4371-bc9c-5253bcf8992c",
   "metadata": {},
   "outputs": [
    {
     "data": {
      "text/html": [
       "<div>\n",
       "<style scoped>\n",
       "    .dataframe tbody tr th:only-of-type {\n",
       "        vertical-align: middle;\n",
       "    }\n",
       "\n",
       "    .dataframe tbody tr th {\n",
       "        vertical-align: top;\n",
       "    }\n",
       "\n",
       "    .dataframe thead th {\n",
       "        text-align: right;\n",
       "    }\n",
       "</style>\n",
       "<table border=\"1\" class=\"dataframe\">\n",
       "  <thead>\n",
       "    <tr style=\"text-align: right;\">\n",
       "      <th></th>\n",
       "      <th>Kevin</th>\n",
       "      <th>Jane</th>\n",
       "    </tr>\n",
       "  </thead>\n",
       "  <tbody>\n",
       "    <tr>\n",
       "      <th>과학</th>\n",
       "      <td>NaN</td>\n",
       "      <td>NaN</td>\n",
       "    </tr>\n",
       "    <tr>\n",
       "      <th>국사</th>\n",
       "      <td>85.0</td>\n",
       "      <td>75.0</td>\n",
       "    </tr>\n",
       "    <tr>\n",
       "      <th>국어</th>\n",
       "      <td>95.0</td>\n",
       "      <td>50.0</td>\n",
       "    </tr>\n",
       "    <tr>\n",
       "      <th>수학</th>\n",
       "      <td>90.0</td>\n",
       "      <td>100.0</td>\n",
       "    </tr>\n",
       "    <tr>\n",
       "      <th>영어</th>\n",
       "      <td>100.0</td>\n",
       "      <td>70.0</td>\n",
       "    </tr>\n",
       "  </tbody>\n",
       "</table>\n",
       "</div>"
      ],
      "text/plain": [
       "    Kevin   Jane\n",
       "과학    NaN    NaN\n",
       "국사   85.0   75.0\n",
       "국어   95.0   50.0\n",
       "수학   90.0  100.0\n",
       "영어  100.0   70.0"
      ]
     },
     "execution_count": 19,
     "metadata": {},
     "output_type": "execute_result"
    }
   ],
   "source": [
    "score_df[['Kevin', 'Jane']]"
   ]
  },
  {
   "cell_type": "code",
   "execution_count": 20,
   "id": "542466b7-aa48-429a-8e14-d21d1537926d",
   "metadata": {},
   "outputs": [
    {
     "data": {
      "text/html": [
       "<div>\n",
       "<style scoped>\n",
       "    .dataframe tbody tr th:only-of-type {\n",
       "        vertical-align: middle;\n",
       "    }\n",
       "\n",
       "    .dataframe tbody tr th {\n",
       "        vertical-align: top;\n",
       "    }\n",
       "\n",
       "    .dataframe thead th {\n",
       "        text-align: right;\n",
       "    }\n",
       "</style>\n",
       "<table border=\"1\" class=\"dataframe\">\n",
       "  <thead>\n",
       "    <tr style=\"text-align: right;\">\n",
       "      <th></th>\n",
       "      <th>Kevin</th>\n",
       "      <th>Jane</th>\n",
       "      <th>Jin</th>\n",
       "    </tr>\n",
       "  </thead>\n",
       "  <tbody>\n",
       "    <tr>\n",
       "      <th>과학</th>\n",
       "      <td>NaN</td>\n",
       "      <td>NaN</td>\n",
       "      <td>100.0</td>\n",
       "    </tr>\n",
       "    <tr>\n",
       "      <th>국사</th>\n",
       "      <td>85.0</td>\n",
       "      <td>75.0</td>\n",
       "      <td>85.0</td>\n",
       "    </tr>\n",
       "    <tr>\n",
       "      <th>국어</th>\n",
       "      <td>95.0</td>\n",
       "      <td>50.0</td>\n",
       "      <td>90.0</td>\n",
       "    </tr>\n",
       "    <tr>\n",
       "      <th>수학</th>\n",
       "      <td>90.0</td>\n",
       "      <td>100.0</td>\n",
       "      <td>NaN</td>\n",
       "    </tr>\n",
       "    <tr>\n",
       "      <th>영어</th>\n",
       "      <td>100.0</td>\n",
       "      <td>70.0</td>\n",
       "      <td>95.0</td>\n",
       "    </tr>\n",
       "  </tbody>\n",
       "</table>\n",
       "</div>"
      ],
      "text/plain": [
       "    Kevin   Jane    Jin\n",
       "과학    NaN    NaN  100.0\n",
       "국사   85.0   75.0   85.0\n",
       "국어   95.0   50.0   90.0\n",
       "수학   90.0  100.0    NaN\n",
       "영어  100.0   70.0   95.0"
      ]
     },
     "execution_count": 20,
     "metadata": {},
     "output_type": "execute_result"
    }
   ],
   "source": [
    "score_df"
   ]
  },
  {
   "cell_type": "code",
   "execution_count": 91,
   "id": "45bd8344-20a6-4cf2-877e-5f54160de117",
   "metadata": {},
   "outputs": [
    {
     "data": {
      "text/html": [
       "<div>\n",
       "<style scoped>\n",
       "    .dataframe tbody tr th:only-of-type {\n",
       "        vertical-align: middle;\n",
       "    }\n",
       "\n",
       "    .dataframe tbody tr th {\n",
       "        vertical-align: top;\n",
       "    }\n",
       "\n",
       "    .dataframe thead th {\n",
       "        text-align: right;\n",
       "    }\n",
       "</style>\n",
       "<table border=\"1\" class=\"dataframe\">\n",
       "  <thead>\n",
       "    <tr style=\"text-align: right;\">\n",
       "      <th></th>\n",
       "      <th>Kevin</th>\n",
       "      <th>Jane</th>\n",
       "      <th>Jin</th>\n",
       "    </tr>\n",
       "  </thead>\n",
       "  <tbody>\n",
       "    <tr>\n",
       "      <th>국어</th>\n",
       "      <td>95</td>\n",
       "      <td>50</td>\n",
       "      <td>90</td>\n",
       "    </tr>\n",
       "    <tr>\n",
       "      <th>영어</th>\n",
       "      <td>80</td>\n",
       "      <td>100</td>\n",
       "      <td>95</td>\n",
       "    </tr>\n",
       "    <tr>\n",
       "      <th>국사</th>\n",
       "      <td>100</td>\n",
       "      <td>70</td>\n",
       "      <td>85</td>\n",
       "    </tr>\n",
       "    <tr>\n",
       "      <th>과학</th>\n",
       "      <td>85</td>\n",
       "      <td>75</td>\n",
       "      <td>100</td>\n",
       "    </tr>\n",
       "  </tbody>\n",
       "</table>\n",
       "</div>"
      ],
      "text/plain": [
       "    Kevin  Jane  Jin\n",
       "국어     95    50   90\n",
       "영어     80   100   95\n",
       "국사    100    70   85\n",
       "과학     85    75  100"
      ]
     },
     "execution_count": 91,
     "metadata": {},
     "output_type": "execute_result"
    }
   ],
   "source": [
    "courses = ['국어', '수학', '영어', '국사']\n",
    "\n",
    "score_kevin = [ 95, 80, 100, 85 ]\n",
    "series_kevin = pd.Series(score_kevin, index=courses, name='Kevin')\n",
    "\n",
    "score_jane = [ 50, 100, 70, 75 ]\n",
    "series_jane = pd.Series(score_jane, index=courses, name='Jane')\n",
    "\n",
    "courses_jin = ['국어', '영어', '국사', '과학']\n",
    "\n",
    "score_jin = [ 90, 95, 85, 100 ]\n",
    "series_jin = pd.Series(score_jin, index=courses_jin, name='Jin')\n",
    "\n",
    "#score_df = pd.DataFrame({ 'Kevin': series_kevin, 'Jane': series_jane, 'Jin': series_jin })\n",
    "score_df = pd.DataFrame({ 'Kevin': score_kevin, 'Jane': score_jane, 'Jin': series_jin })\n",
    "score_df"
   ]
  },
  {
   "cell_type": "markdown",
   "id": "79ae9c7d-a8d9-4a5a-9c2d-86af8d8a519e",
   "metadata": {},
   "source": [
    "## 실습 11"
   ]
  },
  {
   "cell_type": "code",
   "execution_count": 22,
   "id": "284334b0-e353-4635-a0e6-ae13685fdc93",
   "metadata": {},
   "outputs": [
    {
     "data": {
      "text/plain": [
       "Kevin    95.0\n",
       "Jane     50.0\n",
       "Jin      90.0\n",
       "Name: 국어, dtype: float64"
      ]
     },
     "execution_count": 22,
     "metadata": {},
     "output_type": "execute_result"
    }
   ],
   "source": [
    "score_df.loc['국어']"
   ]
  },
  {
   "cell_type": "code",
   "execution_count": 23,
   "id": "7e18e0e8-c0a5-47f1-8346-7352215505fc",
   "metadata": {},
   "outputs": [
    {
     "data": {
      "text/plain": [
       "100.0"
      ]
     },
     "execution_count": 23,
     "metadata": {},
     "output_type": "execute_result"
    }
   ],
   "source": [
    "score_df.loc['수학', 'Jane']"
   ]
  },
  {
   "cell_type": "code",
   "execution_count": 24,
   "id": "845a151c-7549-4c63-af8a-da13f55127fc",
   "metadata": {},
   "outputs": [
    {
     "data": {
      "text/html": [
       "<div>\n",
       "<style scoped>\n",
       "    .dataframe tbody tr th:only-of-type {\n",
       "        vertical-align: middle;\n",
       "    }\n",
       "\n",
       "    .dataframe tbody tr th {\n",
       "        vertical-align: top;\n",
       "    }\n",
       "\n",
       "    .dataframe thead th {\n",
       "        text-align: right;\n",
       "    }\n",
       "</style>\n",
       "<table border=\"1\" class=\"dataframe\">\n",
       "  <thead>\n",
       "    <tr style=\"text-align: right;\">\n",
       "      <th></th>\n",
       "      <th>Kevin</th>\n",
       "      <th>Jane</th>\n",
       "      <th>Jin</th>\n",
       "    </tr>\n",
       "  </thead>\n",
       "  <tbody>\n",
       "    <tr>\n",
       "      <th>과학</th>\n",
       "      <td>NaN</td>\n",
       "      <td>NaN</td>\n",
       "      <td>100.0</td>\n",
       "    </tr>\n",
       "    <tr>\n",
       "      <th>국어</th>\n",
       "      <td>95.0</td>\n",
       "      <td>50.0</td>\n",
       "      <td>90.0</td>\n",
       "    </tr>\n",
       "    <tr>\n",
       "      <th>영어</th>\n",
       "      <td>100.0</td>\n",
       "      <td>70.0</td>\n",
       "      <td>95.0</td>\n",
       "    </tr>\n",
       "  </tbody>\n",
       "</table>\n",
       "</div>"
      ],
      "text/plain": [
       "    Kevin  Jane    Jin\n",
       "과학    NaN   NaN  100.0\n",
       "국어   95.0  50.0   90.0\n",
       "영어  100.0  70.0   95.0"
      ]
     },
     "execution_count": 24,
     "metadata": {},
     "output_type": "execute_result"
    }
   ],
   "source": [
    "score_df.loc[score_df['Jin'] >= 90]"
   ]
  },
  {
   "cell_type": "code",
   "execution_count": 25,
   "id": "f593273c-2fad-4ba5-906d-bb658177e2a8",
   "metadata": {},
   "outputs": [
    {
     "data": {
      "text/html": [
       "<div>\n",
       "<style scoped>\n",
       "    .dataframe tbody tr th:only-of-type {\n",
       "        vertical-align: middle;\n",
       "    }\n",
       "\n",
       "    .dataframe tbody tr th {\n",
       "        vertical-align: top;\n",
       "    }\n",
       "\n",
       "    .dataframe thead th {\n",
       "        text-align: right;\n",
       "    }\n",
       "</style>\n",
       "<table border=\"1\" class=\"dataframe\">\n",
       "  <thead>\n",
       "    <tr style=\"text-align: right;\">\n",
       "      <th></th>\n",
       "      <th>Kevin</th>\n",
       "      <th>Jane</th>\n",
       "      <th>Jin</th>\n",
       "    </tr>\n",
       "  </thead>\n",
       "  <tbody>\n",
       "    <tr>\n",
       "      <th>수학</th>\n",
       "      <td>90.0</td>\n",
       "      <td>100.0</td>\n",
       "      <td>NaN</td>\n",
       "    </tr>\n",
       "    <tr>\n",
       "      <th>영어</th>\n",
       "      <td>100.0</td>\n",
       "      <td>70.0</td>\n",
       "      <td>95.0</td>\n",
       "    </tr>\n",
       "  </tbody>\n",
       "</table>\n",
       "</div>"
      ],
      "text/plain": [
       "    Kevin   Jane   Jin\n",
       "수학   90.0  100.0   NaN\n",
       "영어  100.0   70.0  95.0"
      ]
     },
     "execution_count": 25,
     "metadata": {},
     "output_type": "execute_result"
    }
   ],
   "source": [
    "score_df.iloc[-2:]"
   ]
  },
  {
   "cell_type": "code",
   "execution_count": null,
   "id": "bbdfbd6c-dbc5-4421-aed1-490c1ea997a9",
   "metadata": {},
   "outputs": [],
   "source": []
  },
  {
   "cell_type": "markdown",
   "id": "9a26f75a-3577-44e7-b939-bc1d667d518e",
   "metadata": {},
   "source": [
    "## 실습 13"
   ]
  },
  {
   "cell_type": "code",
   "execution_count": 27,
   "id": "86f7d2f4-b297-4739-abd9-1a21f1ad77eb",
   "metadata": {},
   "outputs": [
    {
     "data": {
      "text/plain": [
       "과학     60\n",
       "국사     90\n",
       "국어     95\n",
       "수학     85\n",
       "영어    100\n",
       "Name: Bob, dtype: int64"
      ]
     },
     "execution_count": 27,
     "metadata": {},
     "output_type": "execute_result"
    }
   ],
   "source": [
    "score_list = [ 60, 90, 95, 85, 100 ]\n",
    "courses = ['과학', '국사', '국어', '수학', '영어']\n",
    "score_bob = pd.Series(score_list, index=courses, name='Bob')\n",
    "score_bob"
   ]
  },
  {
   "cell_type": "code",
   "execution_count": 28,
   "id": "40377d87-2bc4-4d54-a828-9abae6f50924",
   "metadata": {},
   "outputs": [],
   "source": [
    "score_df['Bob'] = score_bob"
   ]
  },
  {
   "cell_type": "code",
   "execution_count": 29,
   "id": "7b75e14d-b78d-45e6-833e-ad0b1bd11940",
   "metadata": {},
   "outputs": [
    {
     "data": {
      "text/html": [
       "<div>\n",
       "<style scoped>\n",
       "    .dataframe tbody tr th:only-of-type {\n",
       "        vertical-align: middle;\n",
       "    }\n",
       "\n",
       "    .dataframe tbody tr th {\n",
       "        vertical-align: top;\n",
       "    }\n",
       "\n",
       "    .dataframe thead th {\n",
       "        text-align: right;\n",
       "    }\n",
       "</style>\n",
       "<table border=\"1\" class=\"dataframe\">\n",
       "  <thead>\n",
       "    <tr style=\"text-align: right;\">\n",
       "      <th></th>\n",
       "      <th>Kevin</th>\n",
       "      <th>Jane</th>\n",
       "      <th>Jin</th>\n",
       "      <th>Bob</th>\n",
       "    </tr>\n",
       "  </thead>\n",
       "  <tbody>\n",
       "    <tr>\n",
       "      <th>과학</th>\n",
       "      <td>NaN</td>\n",
       "      <td>NaN</td>\n",
       "      <td>100.0</td>\n",
       "      <td>60</td>\n",
       "    </tr>\n",
       "    <tr>\n",
       "      <th>국사</th>\n",
       "      <td>85.0</td>\n",
       "      <td>75.0</td>\n",
       "      <td>85.0</td>\n",
       "      <td>90</td>\n",
       "    </tr>\n",
       "    <tr>\n",
       "      <th>국어</th>\n",
       "      <td>95.0</td>\n",
       "      <td>50.0</td>\n",
       "      <td>90.0</td>\n",
       "      <td>95</td>\n",
       "    </tr>\n",
       "    <tr>\n",
       "      <th>수학</th>\n",
       "      <td>90.0</td>\n",
       "      <td>100.0</td>\n",
       "      <td>NaN</td>\n",
       "      <td>85</td>\n",
       "    </tr>\n",
       "    <tr>\n",
       "      <th>영어</th>\n",
       "      <td>100.0</td>\n",
       "      <td>70.0</td>\n",
       "      <td>95.0</td>\n",
       "      <td>100</td>\n",
       "    </tr>\n",
       "  </tbody>\n",
       "</table>\n",
       "</div>"
      ],
      "text/plain": [
       "    Kevin   Jane    Jin  Bob\n",
       "과학    NaN    NaN  100.0   60\n",
       "국사   85.0   75.0   85.0   90\n",
       "국어   95.0   50.0   90.0   95\n",
       "수학   90.0  100.0    NaN   85\n",
       "영어  100.0   70.0   95.0  100"
      ]
     },
     "execution_count": 29,
     "metadata": {},
     "output_type": "execute_result"
    }
   ],
   "source": [
    "score_df"
   ]
  },
  {
   "cell_type": "code",
   "execution_count": 30,
   "id": "78252213-303f-474e-9e04-71ea022b3f8f",
   "metadata": {},
   "outputs": [
    {
     "data": {
      "text/html": [
       "<div>\n",
       "<style scoped>\n",
       "    .dataframe tbody tr th:only-of-type {\n",
       "        vertical-align: middle;\n",
       "    }\n",
       "\n",
       "    .dataframe tbody tr th {\n",
       "        vertical-align: top;\n",
       "    }\n",
       "\n",
       "    .dataframe thead th {\n",
       "        text-align: right;\n",
       "    }\n",
       "</style>\n",
       "<table border=\"1\" class=\"dataframe\">\n",
       "  <thead>\n",
       "    <tr style=\"text-align: right;\">\n",
       "      <th></th>\n",
       "      <th>Kevin</th>\n",
       "      <th>Jane</th>\n",
       "      <th>Jin</th>\n",
       "      <th>Bob</th>\n",
       "    </tr>\n",
       "  </thead>\n",
       "  <tbody>\n",
       "    <tr>\n",
       "      <th>과학</th>\n",
       "      <td>65.0</td>\n",
       "      <td>NaN</td>\n",
       "      <td>100.0</td>\n",
       "      <td>60</td>\n",
       "    </tr>\n",
       "    <tr>\n",
       "      <th>국사</th>\n",
       "      <td>85.0</td>\n",
       "      <td>75.0</td>\n",
       "      <td>85.0</td>\n",
       "      <td>90</td>\n",
       "    </tr>\n",
       "    <tr>\n",
       "      <th>국어</th>\n",
       "      <td>95.0</td>\n",
       "      <td>50.0</td>\n",
       "      <td>90.0</td>\n",
       "      <td>95</td>\n",
       "    </tr>\n",
       "    <tr>\n",
       "      <th>수학</th>\n",
       "      <td>90.0</td>\n",
       "      <td>100.0</td>\n",
       "      <td>NaN</td>\n",
       "      <td>85</td>\n",
       "    </tr>\n",
       "    <tr>\n",
       "      <th>영어</th>\n",
       "      <td>100.0</td>\n",
       "      <td>70.0</td>\n",
       "      <td>95.0</td>\n",
       "      <td>100</td>\n",
       "    </tr>\n",
       "  </tbody>\n",
       "</table>\n",
       "</div>"
      ],
      "text/plain": [
       "    Kevin   Jane    Jin  Bob\n",
       "과학   65.0    NaN  100.0   60\n",
       "국사   85.0   75.0   85.0   90\n",
       "국어   95.0   50.0   90.0   95\n",
       "수학   90.0  100.0    NaN   85\n",
       "영어  100.0   70.0   95.0  100"
      ]
     },
     "execution_count": 30,
     "metadata": {},
     "output_type": "execute_result"
    }
   ],
   "source": [
    "score_df.loc['과학', 'Kevin'] = 65\n",
    "score_df"
   ]
  },
  {
   "cell_type": "code",
   "execution_count": 31,
   "id": "60c0296f-a212-4a60-9e83-ed9897f68d91",
   "metadata": {},
   "outputs": [
    {
     "data": {
      "text/html": [
       "<div>\n",
       "<style scoped>\n",
       "    .dataframe tbody tr th:only-of-type {\n",
       "        vertical-align: middle;\n",
       "    }\n",
       "\n",
       "    .dataframe tbody tr th {\n",
       "        vertical-align: top;\n",
       "    }\n",
       "\n",
       "    .dataframe thead th {\n",
       "        text-align: right;\n",
       "    }\n",
       "</style>\n",
       "<table border=\"1\" class=\"dataframe\">\n",
       "  <thead>\n",
       "    <tr style=\"text-align: right;\">\n",
       "      <th></th>\n",
       "      <th>케빈</th>\n",
       "      <th>제인</th>\n",
       "      <th>진</th>\n",
       "      <th>밥</th>\n",
       "    </tr>\n",
       "  </thead>\n",
       "  <tbody>\n",
       "    <tr>\n",
       "      <th>과학</th>\n",
       "      <td>65.0</td>\n",
       "      <td>NaN</td>\n",
       "      <td>100.0</td>\n",
       "      <td>60</td>\n",
       "    </tr>\n",
       "    <tr>\n",
       "      <th>국사</th>\n",
       "      <td>85.0</td>\n",
       "      <td>75.0</td>\n",
       "      <td>85.0</td>\n",
       "      <td>90</td>\n",
       "    </tr>\n",
       "    <tr>\n",
       "      <th>국어</th>\n",
       "      <td>95.0</td>\n",
       "      <td>50.0</td>\n",
       "      <td>90.0</td>\n",
       "      <td>95</td>\n",
       "    </tr>\n",
       "    <tr>\n",
       "      <th>수학</th>\n",
       "      <td>90.0</td>\n",
       "      <td>100.0</td>\n",
       "      <td>NaN</td>\n",
       "      <td>85</td>\n",
       "    </tr>\n",
       "    <tr>\n",
       "      <th>영어</th>\n",
       "      <td>100.0</td>\n",
       "      <td>70.0</td>\n",
       "      <td>95.0</td>\n",
       "      <td>100</td>\n",
       "    </tr>\n",
       "  </tbody>\n",
       "</table>\n",
       "</div>"
      ],
      "text/plain": [
       "       케빈     제인      진    밥\n",
       "과학   65.0    NaN  100.0   60\n",
       "국사   85.0   75.0   85.0   90\n",
       "국어   95.0   50.0   90.0   95\n",
       "수학   90.0  100.0    NaN   85\n",
       "영어  100.0   70.0   95.0  100"
      ]
     },
     "execution_count": 31,
     "metadata": {},
     "output_type": "execute_result"
    }
   ],
   "source": [
    "score_df.rename(columns={'Kevin': '케빈', 'Jane': '제인', 'Jin': '진', 'Bob': '밥'}, inplace=True)\n",
    "score_df"
   ]
  },
  {
   "cell_type": "markdown",
   "id": "6f768013-5cd2-44f4-9234-3c90bf1f4818",
   "metadata": {},
   "source": [
    "## 실습 14"
   ]
  },
  {
   "cell_type": "code",
   "execution_count": 32,
   "id": "57cf6a3c-c62b-4049-b89f-267f59ecc673",
   "metadata": {},
   "outputs": [
    {
     "data": {
      "text/plain": [
       "과학    1\n",
       "국사    0\n",
       "국어    0\n",
       "수학    1\n",
       "영어    0\n",
       "dtype: int64"
      ]
     },
     "execution_count": 32,
     "metadata": {},
     "output_type": "execute_result"
    }
   ],
   "source": [
    "score_df.isnull().sum(axis=1)"
   ]
  },
  {
   "cell_type": "code",
   "execution_count": 33,
   "id": "8513ae3a-e312-46e4-9269-dfbeade0589f",
   "metadata": {},
   "outputs": [
    {
     "data": {
      "text/plain": [
       "케빈    0\n",
       "제인    1\n",
       "진     1\n",
       "밥     0\n",
       "dtype: int64"
      ]
     },
     "execution_count": 33,
     "metadata": {},
     "output_type": "execute_result"
    }
   ],
   "source": [
    "score_df.isnull().sum()"
   ]
  },
  {
   "cell_type": "code",
   "execution_count": 34,
   "id": "8108187b-d537-4835-b69a-812b4091d3fd",
   "metadata": {},
   "outputs": [
    {
     "data": {
      "text/html": [
       "<div>\n",
       "<style scoped>\n",
       "    .dataframe tbody tr th:only-of-type {\n",
       "        vertical-align: middle;\n",
       "    }\n",
       "\n",
       "    .dataframe tbody tr th {\n",
       "        vertical-align: top;\n",
       "    }\n",
       "\n",
       "    .dataframe thead th {\n",
       "        text-align: right;\n",
       "    }\n",
       "</style>\n",
       "<table border=\"1\" class=\"dataframe\">\n",
       "  <thead>\n",
       "    <tr style=\"text-align: right;\">\n",
       "      <th></th>\n",
       "      <th>케빈</th>\n",
       "      <th>제인</th>\n",
       "      <th>진</th>\n",
       "      <th>밥</th>\n",
       "    </tr>\n",
       "  </thead>\n",
       "  <tbody>\n",
       "    <tr>\n",
       "      <th>국사</th>\n",
       "      <td>85.0</td>\n",
       "      <td>75.0</td>\n",
       "      <td>85.0</td>\n",
       "      <td>90</td>\n",
       "    </tr>\n",
       "    <tr>\n",
       "      <th>국어</th>\n",
       "      <td>95.0</td>\n",
       "      <td>50.0</td>\n",
       "      <td>90.0</td>\n",
       "      <td>95</td>\n",
       "    </tr>\n",
       "    <tr>\n",
       "      <th>영어</th>\n",
       "      <td>100.0</td>\n",
       "      <td>70.0</td>\n",
       "      <td>95.0</td>\n",
       "      <td>100</td>\n",
       "    </tr>\n",
       "  </tbody>\n",
       "</table>\n",
       "</div>"
      ],
      "text/plain": [
       "       케빈    제인     진    밥\n",
       "국사   85.0  75.0  85.0   90\n",
       "국어   95.0  50.0  90.0   95\n",
       "영어  100.0  70.0  95.0  100"
      ]
     },
     "execution_count": 34,
     "metadata": {},
     "output_type": "execute_result"
    }
   ],
   "source": [
    "score_df.dropna()"
   ]
  },
  {
   "cell_type": "markdown",
   "id": "2373d0c8-0303-46ec-884c-b7a655b42d73",
   "metadata": {},
   "source": [
    "## 실습 15, 16"
   ]
  },
  {
   "cell_type": "code",
   "execution_count": 36,
   "id": "867f8f90-067f-4d4f-9c96-4c62d31ea9ea",
   "metadata": {},
   "outputs": [
    {
     "data": {
      "text/plain": [
       "케빈    87.00\n",
       "제인    73.75\n",
       "진     92.50\n",
       "밥     86.00\n",
       "dtype: float64"
      ]
     },
     "execution_count": 36,
     "metadata": {},
     "output_type": "execute_result"
    }
   ],
   "source": [
    "score_df.mean()"
   ]
  },
  {
   "cell_type": "code",
   "execution_count": 37,
   "id": "f4dd745d-15a4-41b9-84bc-e143d5305275",
   "metadata": {},
   "outputs": [
    {
     "data": {
      "text/plain": [
       "과학    75.000000\n",
       "국사    83.750000\n",
       "국어    82.500000\n",
       "수학    91.666667\n",
       "영어    91.250000\n",
       "dtype: float64"
      ]
     },
     "execution_count": 37,
     "metadata": {},
     "output_type": "execute_result"
    }
   ],
   "source": [
    "score_df.mean(axis=1)"
   ]
  },
  {
   "cell_type": "code",
   "execution_count": 38,
   "id": "10ca54ea-747a-429f-8aa6-9196bfd3356a",
   "metadata": {},
   "outputs": [
    {
     "data": {
      "text/html": [
       "<div>\n",
       "<style scoped>\n",
       "    .dataframe tbody tr th:only-of-type {\n",
       "        vertical-align: middle;\n",
       "    }\n",
       "\n",
       "    .dataframe tbody tr th {\n",
       "        vertical-align: top;\n",
       "    }\n",
       "\n",
       "    .dataframe thead th {\n",
       "        text-align: right;\n",
       "    }\n",
       "</style>\n",
       "<table border=\"1\" class=\"dataframe\">\n",
       "  <thead>\n",
       "    <tr style=\"text-align: right;\">\n",
       "      <th></th>\n",
       "      <th>max</th>\n",
       "      <th>min</th>\n",
       "      <th>mean</th>\n",
       "    </tr>\n",
       "  </thead>\n",
       "  <tbody>\n",
       "    <tr>\n",
       "      <th>과학</th>\n",
       "      <td>100.0</td>\n",
       "      <td>60.0</td>\n",
       "      <td>75.000000</td>\n",
       "    </tr>\n",
       "    <tr>\n",
       "      <th>국사</th>\n",
       "      <td>90.0</td>\n",
       "      <td>75.0</td>\n",
       "      <td>83.750000</td>\n",
       "    </tr>\n",
       "    <tr>\n",
       "      <th>국어</th>\n",
       "      <td>95.0</td>\n",
       "      <td>50.0</td>\n",
       "      <td>82.500000</td>\n",
       "    </tr>\n",
       "    <tr>\n",
       "      <th>수학</th>\n",
       "      <td>100.0</td>\n",
       "      <td>85.0</td>\n",
       "      <td>91.666667</td>\n",
       "    </tr>\n",
       "    <tr>\n",
       "      <th>영어</th>\n",
       "      <td>100.0</td>\n",
       "      <td>70.0</td>\n",
       "      <td>91.250000</td>\n",
       "    </tr>\n",
       "  </tbody>\n",
       "</table>\n",
       "</div>"
      ],
      "text/plain": [
       "      max   min       mean\n",
       "과학  100.0  60.0  75.000000\n",
       "국사   90.0  75.0  83.750000\n",
       "국어   95.0  50.0  82.500000\n",
       "수학  100.0  85.0  91.666667\n",
       "영어  100.0  70.0  91.250000"
      ]
     },
     "execution_count": 38,
     "metadata": {},
     "output_type": "execute_result"
    }
   ],
   "source": [
    "score_df.agg(['max', 'min', 'mean'], axis=1)"
   ]
  },
  {
   "cell_type": "code",
   "execution_count": 39,
   "id": "5b78cc51-94cd-49d4-b986-e4b8bd4d0c96",
   "metadata": {},
   "outputs": [
    {
     "data": {
      "text/html": [
       "<div>\n",
       "<style scoped>\n",
       "    .dataframe tbody tr th:only-of-type {\n",
       "        vertical-align: middle;\n",
       "    }\n",
       "\n",
       "    .dataframe tbody tr th {\n",
       "        vertical-align: top;\n",
       "    }\n",
       "\n",
       "    .dataframe thead th {\n",
       "        text-align: right;\n",
       "    }\n",
       "</style>\n",
       "<table border=\"1\" class=\"dataframe\">\n",
       "  <thead>\n",
       "    <tr style=\"text-align: right;\">\n",
       "      <th></th>\n",
       "      <th>케빈</th>\n",
       "      <th>제인</th>\n",
       "      <th>진</th>\n",
       "      <th>밥</th>\n",
       "    </tr>\n",
       "  </thead>\n",
       "  <tbody>\n",
       "    <tr>\n",
       "      <th>과학</th>\n",
       "      <td>65.0</td>\n",
       "      <td>NaN</td>\n",
       "      <td>100.0</td>\n",
       "      <td>60</td>\n",
       "    </tr>\n",
       "    <tr>\n",
       "      <th>국사</th>\n",
       "      <td>85.0</td>\n",
       "      <td>75.0</td>\n",
       "      <td>85.0</td>\n",
       "      <td>90</td>\n",
       "    </tr>\n",
       "    <tr>\n",
       "      <th>국어</th>\n",
       "      <td>95.0</td>\n",
       "      <td>50.0</td>\n",
       "      <td>90.0</td>\n",
       "      <td>95</td>\n",
       "    </tr>\n",
       "    <tr>\n",
       "      <th>수학</th>\n",
       "      <td>90.0</td>\n",
       "      <td>100.0</td>\n",
       "      <td>NaN</td>\n",
       "      <td>85</td>\n",
       "    </tr>\n",
       "    <tr>\n",
       "      <th>영어</th>\n",
       "      <td>100.0</td>\n",
       "      <td>70.0</td>\n",
       "      <td>95.0</td>\n",
       "      <td>100</td>\n",
       "    </tr>\n",
       "  </tbody>\n",
       "</table>\n",
       "</div>"
      ],
      "text/plain": [
       "       케빈     제인      진    밥\n",
       "과학   65.0    NaN  100.0   60\n",
       "국사   85.0   75.0   85.0   90\n",
       "국어   95.0   50.0   90.0   95\n",
       "수학   90.0  100.0    NaN   85\n",
       "영어  100.0   70.0   95.0  100"
      ]
     },
     "execution_count": 39,
     "metadata": {},
     "output_type": "execute_result"
    }
   ],
   "source": [
    "score_df"
   ]
  },
  {
   "cell_type": "code",
   "execution_count": 40,
   "id": "e76dc416-c1d3-414f-9ff7-fbdada4798dd",
   "metadata": {},
   "outputs": [
    {
     "data": {
      "text/html": [
       "<div>\n",
       "<style scoped>\n",
       "    .dataframe tbody tr th:only-of-type {\n",
       "        vertical-align: middle;\n",
       "    }\n",
       "\n",
       "    .dataframe tbody tr th {\n",
       "        vertical-align: top;\n",
       "    }\n",
       "\n",
       "    .dataframe thead th {\n",
       "        text-align: right;\n",
       "    }\n",
       "</style>\n",
       "<table border=\"1\" class=\"dataframe\">\n",
       "  <thead>\n",
       "    <tr style=\"text-align: right;\">\n",
       "      <th></th>\n",
       "      <th>케빈</th>\n",
       "      <th>제인</th>\n",
       "      <th>진</th>\n",
       "      <th>밥</th>\n",
       "      <th>분류</th>\n",
       "    </tr>\n",
       "  </thead>\n",
       "  <tbody>\n",
       "    <tr>\n",
       "      <th>과학</th>\n",
       "      <td>65.0</td>\n",
       "      <td>NaN</td>\n",
       "      <td>100.0</td>\n",
       "      <td>60</td>\n",
       "      <td>이과</td>\n",
       "    </tr>\n",
       "    <tr>\n",
       "      <th>국사</th>\n",
       "      <td>85.0</td>\n",
       "      <td>75.0</td>\n",
       "      <td>85.0</td>\n",
       "      <td>90</td>\n",
       "      <td>문과</td>\n",
       "    </tr>\n",
       "    <tr>\n",
       "      <th>국어</th>\n",
       "      <td>95.0</td>\n",
       "      <td>50.0</td>\n",
       "      <td>90.0</td>\n",
       "      <td>95</td>\n",
       "      <td>문과</td>\n",
       "    </tr>\n",
       "    <tr>\n",
       "      <th>수학</th>\n",
       "      <td>90.0</td>\n",
       "      <td>100.0</td>\n",
       "      <td>NaN</td>\n",
       "      <td>85</td>\n",
       "      <td>이과</td>\n",
       "    </tr>\n",
       "    <tr>\n",
       "      <th>영어</th>\n",
       "      <td>100.0</td>\n",
       "      <td>70.0</td>\n",
       "      <td>95.0</td>\n",
       "      <td>100</td>\n",
       "      <td>공통</td>\n",
       "    </tr>\n",
       "  </tbody>\n",
       "</table>\n",
       "</div>"
      ],
      "text/plain": [
       "       케빈     제인      진    밥  분류\n",
       "과학   65.0    NaN  100.0   60  이과\n",
       "국사   85.0   75.0   85.0   90  문과\n",
       "국어   95.0   50.0   90.0   95  문과\n",
       "수학   90.0  100.0    NaN   85  이과\n",
       "영어  100.0   70.0   95.0  100  공통"
      ]
     },
     "execution_count": 40,
     "metadata": {},
     "output_type": "execute_result"
    }
   ],
   "source": [
    "score_df['분류'] = ['이과', '문과', '문과', '이과', '공통']\n",
    "score_df"
   ]
  },
  {
   "cell_type": "code",
   "execution_count": 41,
   "id": "837bda6f-8f6e-4274-895d-5653aaa9d7ef",
   "metadata": {},
   "outputs": [
    {
     "data": {
      "text/html": [
       "<div>\n",
       "<style scoped>\n",
       "    .dataframe tbody tr th:only-of-type {\n",
       "        vertical-align: middle;\n",
       "    }\n",
       "\n",
       "    .dataframe tbody tr th {\n",
       "        vertical-align: top;\n",
       "    }\n",
       "\n",
       "    .dataframe thead th {\n",
       "        text-align: right;\n",
       "    }\n",
       "</style>\n",
       "<table border=\"1\" class=\"dataframe\">\n",
       "  <thead>\n",
       "    <tr style=\"text-align: right;\">\n",
       "      <th></th>\n",
       "      <th>케빈</th>\n",
       "      <th>제인</th>\n",
       "      <th>진</th>\n",
       "      <th>밥</th>\n",
       "    </tr>\n",
       "    <tr>\n",
       "      <th>분류</th>\n",
       "      <th></th>\n",
       "      <th></th>\n",
       "      <th></th>\n",
       "      <th></th>\n",
       "    </tr>\n",
       "  </thead>\n",
       "  <tbody>\n",
       "    <tr>\n",
       "      <th>공통</th>\n",
       "      <td>100.0</td>\n",
       "      <td>70.0</td>\n",
       "      <td>95.0</td>\n",
       "      <td>100.0</td>\n",
       "    </tr>\n",
       "    <tr>\n",
       "      <th>문과</th>\n",
       "      <td>90.0</td>\n",
       "      <td>62.5</td>\n",
       "      <td>87.5</td>\n",
       "      <td>92.5</td>\n",
       "    </tr>\n",
       "    <tr>\n",
       "      <th>이과</th>\n",
       "      <td>77.5</td>\n",
       "      <td>100.0</td>\n",
       "      <td>100.0</td>\n",
       "      <td>72.5</td>\n",
       "    </tr>\n",
       "  </tbody>\n",
       "</table>\n",
       "</div>"
      ],
      "text/plain": [
       "       케빈     제인      진      밥\n",
       "분류                            \n",
       "공통  100.0   70.0   95.0  100.0\n",
       "문과   90.0   62.5   87.5   92.5\n",
       "이과   77.5  100.0  100.0   72.5"
      ]
     },
     "execution_count": 41,
     "metadata": {},
     "output_type": "execute_result"
    }
   ],
   "source": [
    "score_df.groupby('분류').mean()"
   ]
  },
  {
   "cell_type": "code",
   "execution_count": 42,
   "id": "8f3a2879-b22b-4015-baae-6cdaff91385c",
   "metadata": {},
   "outputs": [
    {
     "data": {
      "text/html": [
       "<div>\n",
       "<style scoped>\n",
       "    .dataframe tbody tr th:only-of-type {\n",
       "        vertical-align: middle;\n",
       "    }\n",
       "\n",
       "    .dataframe tbody tr th {\n",
       "        vertical-align: top;\n",
       "    }\n",
       "\n",
       "    .dataframe thead tr th {\n",
       "        text-align: left;\n",
       "    }\n",
       "\n",
       "    .dataframe thead tr:last-of-type th {\n",
       "        text-align: right;\n",
       "    }\n",
       "</style>\n",
       "<table border=\"1\" class=\"dataframe\">\n",
       "  <thead>\n",
       "    <tr>\n",
       "      <th></th>\n",
       "      <th colspan=\"2\" halign=\"left\">케빈</th>\n",
       "      <th colspan=\"2\" halign=\"left\">제인</th>\n",
       "      <th colspan=\"2\" halign=\"left\">진</th>\n",
       "      <th colspan=\"2\" halign=\"left\">밥</th>\n",
       "    </tr>\n",
       "    <tr>\n",
       "      <th></th>\n",
       "      <th>max</th>\n",
       "      <th>min</th>\n",
       "      <th>max</th>\n",
       "      <th>min</th>\n",
       "      <th>max</th>\n",
       "      <th>min</th>\n",
       "      <th>max</th>\n",
       "      <th>min</th>\n",
       "    </tr>\n",
       "    <tr>\n",
       "      <th>분류</th>\n",
       "      <th></th>\n",
       "      <th></th>\n",
       "      <th></th>\n",
       "      <th></th>\n",
       "      <th></th>\n",
       "      <th></th>\n",
       "      <th></th>\n",
       "      <th></th>\n",
       "    </tr>\n",
       "  </thead>\n",
       "  <tbody>\n",
       "    <tr>\n",
       "      <th>공통</th>\n",
       "      <td>100.0</td>\n",
       "      <td>100.0</td>\n",
       "      <td>70.0</td>\n",
       "      <td>70.0</td>\n",
       "      <td>95.0</td>\n",
       "      <td>95.0</td>\n",
       "      <td>100</td>\n",
       "      <td>100</td>\n",
       "    </tr>\n",
       "    <tr>\n",
       "      <th>문과</th>\n",
       "      <td>95.0</td>\n",
       "      <td>85.0</td>\n",
       "      <td>75.0</td>\n",
       "      <td>50.0</td>\n",
       "      <td>90.0</td>\n",
       "      <td>85.0</td>\n",
       "      <td>95</td>\n",
       "      <td>90</td>\n",
       "    </tr>\n",
       "    <tr>\n",
       "      <th>이과</th>\n",
       "      <td>90.0</td>\n",
       "      <td>65.0</td>\n",
       "      <td>100.0</td>\n",
       "      <td>100.0</td>\n",
       "      <td>100.0</td>\n",
       "      <td>100.0</td>\n",
       "      <td>85</td>\n",
       "      <td>60</td>\n",
       "    </tr>\n",
       "  </tbody>\n",
       "</table>\n",
       "</div>"
      ],
      "text/plain": [
       "       케빈            제인             진           밥     \n",
       "      max    min    max    min    max    min  max  min\n",
       "분류                                                    \n",
       "공통  100.0  100.0   70.0   70.0   95.0   95.0  100  100\n",
       "문과   95.0   85.0   75.0   50.0   90.0   85.0   95   90\n",
       "이과   90.0   65.0  100.0  100.0  100.0  100.0   85   60"
      ]
     },
     "execution_count": 42,
     "metadata": {},
     "output_type": "execute_result"
    }
   ],
   "source": [
    "score_df.groupby('분류').agg(['max', 'min'])"
   ]
  }
 ],
 "metadata": {
  "kernelspec": {
   "display_name": "Python [conda env:base] *",
   "language": "python",
   "name": "conda-base-py"
  },
  "language_info": {
   "codemirror_mode": {
    "name": "ipython",
    "version": 3
   },
   "file_extension": ".py",
   "mimetype": "text/x-python",
   "name": "python",
   "nbconvert_exporter": "python",
   "pygments_lexer": "ipython3",
   "version": "3.12.7"
  }
 },
 "nbformat": 4,
 "nbformat_minor": 5
}
