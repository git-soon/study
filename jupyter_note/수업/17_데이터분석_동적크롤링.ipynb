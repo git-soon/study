{
 "cells": [
  {
   "cell_type": "markdown",
   "id": "9b56036e-1fdc-4185-b5ca-7f67eba1e491",
   "metadata": {},
   "source": [
    "## Selenium 설치"
   ]
  },
  {
   "cell_type": "code",
   "execution_count": 6,
   "id": "494a4244-0c74-435c-afeb-2b31e4bf1292",
   "metadata": {
    "collapsed": true,
    "jupyter": {
     "outputs_hidden": true
    },
    "scrolled": true
   },
   "outputs": [
    {
     "name": "stdout",
     "output_type": "stream",
     "text": [
      "Requirement already satisfied: selenium in /Users/leeseunghak/Workspace/anaconda/anaconda3/lib/python3.12/site-packages (4.31.0)\n",
      "Requirement already satisfied: urllib3<3,>=1.26 in /Users/leeseunghak/Workspace/anaconda/anaconda3/lib/python3.12/site-packages (from urllib3[socks]<3,>=1.26->selenium) (2.2.3)\n",
      "Requirement already satisfied: trio~=0.17 in /Users/leeseunghak/Workspace/anaconda/anaconda3/lib/python3.12/site-packages (from selenium) (0.29.0)\n",
      "Requirement already satisfied: trio-websocket~=0.9 in /Users/leeseunghak/Workspace/anaconda/anaconda3/lib/python3.12/site-packages (from selenium) (0.12.2)\n",
      "Requirement already satisfied: certifi>=2021.10.8 in /Users/leeseunghak/Workspace/anaconda/anaconda3/lib/python3.12/site-packages (from selenium) (2025.1.31)\n",
      "Requirement already satisfied: typing_extensions~=4.9 in /Users/leeseunghak/Workspace/anaconda/anaconda3/lib/python3.12/site-packages (from selenium) (4.11.0)\n",
      "Requirement already satisfied: websocket-client~=1.8 in /Users/leeseunghak/Workspace/anaconda/anaconda3/lib/python3.12/site-packages (from selenium) (1.8.0)\n",
      "Requirement already satisfied: attrs>=23.2.0 in /Users/leeseunghak/Workspace/anaconda/anaconda3/lib/python3.12/site-packages (from trio~=0.17->selenium) (25.3.0)\n",
      "Requirement already satisfied: sortedcontainers in /Users/leeseunghak/Workspace/anaconda/anaconda3/lib/python3.12/site-packages (from trio~=0.17->selenium) (2.4.0)\n",
      "Requirement already satisfied: idna in /Users/leeseunghak/Workspace/anaconda/anaconda3/lib/python3.12/site-packages (from trio~=0.17->selenium) (3.7)\n",
      "Requirement already satisfied: outcome in /Users/leeseunghak/Workspace/anaconda/anaconda3/lib/python3.12/site-packages (from trio~=0.17->selenium) (1.3.0.post0)\n",
      "Requirement already satisfied: sniffio>=1.3.0 in /Users/leeseunghak/Workspace/anaconda/anaconda3/lib/python3.12/site-packages (from trio~=0.17->selenium) (1.3.0)\n",
      "Requirement already satisfied: wsproto>=0.14 in /Users/leeseunghak/Workspace/anaconda/anaconda3/lib/python3.12/site-packages (from trio-websocket~=0.9->selenium) (1.2.0)\n",
      "Requirement already satisfied: pysocks!=1.5.7,<2.0,>=1.5.6 in /Users/leeseunghak/Workspace/anaconda/anaconda3/lib/python3.12/site-packages (from urllib3[socks]<3,>=1.26->selenium) (1.7.1)\n",
      "Requirement already satisfied: h11<1,>=0.9.0 in /Users/leeseunghak/Workspace/anaconda/anaconda3/lib/python3.12/site-packages (from wsproto>=0.14->trio-websocket~=0.9->selenium) (0.14.0)\n",
      "Requirement already satisfied: webdriver_manager in /Users/leeseunghak/Workspace/anaconda/anaconda3/lib/python3.12/site-packages (4.0.2)\n",
      "Requirement already satisfied: requests in /Users/leeseunghak/Workspace/anaconda/anaconda3/lib/python3.12/site-packages (from webdriver_manager) (2.32.3)\n",
      "Requirement already satisfied: python-dotenv in /Users/leeseunghak/Workspace/anaconda/anaconda3/lib/python3.12/site-packages (from webdriver_manager) (0.21.0)\n",
      "Requirement already satisfied: packaging in /Users/leeseunghak/Workspace/anaconda/anaconda3/lib/python3.12/site-packages (from webdriver_manager) (24.1)\n",
      "Requirement already satisfied: charset-normalizer<4,>=2 in /Users/leeseunghak/Workspace/anaconda/anaconda3/lib/python3.12/site-packages (from requests->webdriver_manager) (3.3.2)\n",
      "Requirement already satisfied: idna<4,>=2.5 in /Users/leeseunghak/Workspace/anaconda/anaconda3/lib/python3.12/site-packages (from requests->webdriver_manager) (3.7)\n",
      "Requirement already satisfied: urllib3<3,>=1.21.1 in /Users/leeseunghak/Workspace/anaconda/anaconda3/lib/python3.12/site-packages (from requests->webdriver_manager) (2.2.3)\n",
      "Requirement already satisfied: certifi>=2017.4.17 in /Users/leeseunghak/Workspace/anaconda/anaconda3/lib/python3.12/site-packages (from requests->webdriver_manager) (2025.1.31)\n"
     ]
    }
   ],
   "source": [
    "!pip install selenium\n",
    "!pip install webdriver_manager"
   ]
  },
  {
   "cell_type": "code",
   "execution_count": 25,
   "id": "af3b57f9-af60-4beb-af1b-01bc565e3159",
   "metadata": {},
   "outputs": [],
   "source": [
    "from selenium import webdriver\n",
    "from selenium.webdriver.chrome.service import Service\n",
    "from webdriver_manager.chrome import ChromeDriverManager\n",
    "from selenium.webdriver.common.by import By\n",
    "\n",
    "service = Service(ChromeDriverManager().install())\n",
    "driver = webdriver.Chrome(service=service)\n",
    "\n",
    "driver.get('https://naver.com')"
   ]
  },
  {
   "cell_type": "markdown",
   "id": "ee80ff82-8938-4aab-a082-7a577bb7a9e4",
   "metadata": {},
   "source": [
    "## 실습 1"
   ]
  },
  {
   "cell_type": "code",
   "execution_count": 27,
   "id": "3f44b32f-d222-42da-b552-b22719e001ab",
   "metadata": {},
   "outputs": [],
   "source": [
    "import time\n",
    "\n",
    "driver = webdriver.Chrome(service=service)\n",
    "driver.get('https://naver.com')\n",
    "driver.maximize_window()\n",
    "time.sleep(1)\n",
    "driver.get('https://google.com')\n",
    "time.sleep(1)\n",
    "driver.refresh()\n",
    "time.sleep(1)\n",
    "driver.quit()"
   ]
  },
  {
   "cell_type": "markdown",
   "id": "02832444-14f6-4b05-937c-b6aca7e44b99",
   "metadata": {},
   "source": [
    "## 실습 2"
   ]
  },
  {
   "cell_type": "markdown",
   "id": "3ac8518b-7086-4b68-8ef9-ec249c6c881b",
   "metadata": {},
   "source": [
    "- 크롤링을 위한 driver 1개 생성하고 이를 사용\n",
    "  - 아래 코드들을 수행하기 위해서는 떠있는 크롬창은 죽이면 안됩니다."
   ]
  },
  {
   "cell_type": "code",
   "execution_count": 31,
   "id": "ef4e7738-926c-4ae1-abcf-8afcdd4ba836",
   "metadata": {},
   "outputs": [],
   "source": [
    "driver = webdriver.Chrome(service=service)"
   ]
  },
  {
   "cell_type": "markdown",
   "id": "7022ff11-b999-4a19-8044-7f228595303e",
   "metadata": {},
   "source": [
    "- Option 1"
   ]
  },
  {
   "cell_type": "code",
   "execution_count": 33,
   "id": "f5d74eb3-36e4-4fc0-bea3-e3183c1f3231",
   "metadata": {},
   "outputs": [
    {
     "name": "stdout",
     "output_type": "stream",
     "text": [
      "메일\n",
      "카페\n",
      "블로그\n",
      "스토어\n",
      "뉴스\n",
      "증권\n",
      "부동산\n",
      "지도\n",
      "웹툰\n",
      "치지직\n"
     ]
    }
   ],
   "source": [
    "driver.get('https://naver.com')\n",
    "time.sleep(1)\n",
    "\n",
    "elements = driver.find_elements(By.CSS_SELECTOR, 'ul.shortcut_list span.service_name')\n",
    "for element in elements:\n",
    "    print(element.text)"
   ]
  },
  {
   "cell_type": "markdown",
   "id": "dd5c0d72-9e03-4b81-9e1e-c96a5b0c2059",
   "metadata": {},
   "source": [
    "- Option 2"
   ]
  },
  {
   "cell_type": "code",
   "execution_count": 35,
   "id": "2bbd9b42-bdbb-471b-b49f-0e303c357acf",
   "metadata": {},
   "outputs": [
    {
     "name": "stdout",
     "output_type": "stream",
     "text": [
      "메일\n",
      "카페\n",
      "블로그\n",
      "스토어\n",
      "뉴스\n",
      "증권\n",
      "부동산\n",
      "지도\n",
      "웹툰\n",
      "치지직\n"
     ]
    }
   ],
   "source": [
    "driver.get('https://naver.com')\n",
    "time.sleep(1)\n",
    "\n",
    "shortcuts = driver.find_element(By.CSS_SELECTOR, 'ul.shortcut_list')\n",
    "services = shortcuts.find_elements(By.CSS_SELECTOR, '.service_name')\n",
    "for service in services:\n",
    "    print(service.text)"
   ]
  },
  {
   "cell_type": "markdown",
   "id": "591fb7d0-4c4c-4993-8d46-c842d5d7ff25",
   "metadata": {},
   "source": [
    "## 실습 3"
   ]
  },
  {
   "cell_type": "code",
   "execution_count": 100,
   "id": "dc2dbc8b-9575-4e2b-b5ae-37b069fa46a6",
   "metadata": {},
   "outputs": [],
   "source": [
    "for service in services:\n",
    "    if service.text == '뉴스':\n",
    "        service.click()"
   ]
  },
  {
   "cell_type": "markdown",
   "id": "f2f58fb8-4dd3-47c9-8f4e-447fe56354ec",
   "metadata": {},
   "source": [
    "## 실습 4"
   ]
  },
  {
   "cell_type": "code",
   "execution_count": 37,
   "id": "b7e05f98-693c-421a-b660-baf668241c05",
   "metadata": {},
   "outputs": [],
   "source": [
    "from selenium.webdriver.common.keys import Keys\n",
    "\n",
    "search = driver.find_element(By.CSS_SELECTOR, '.search_input_box > input')\n",
    "search.send_keys('날씨')\n",
    "search.send_keys(Keys.ENTER)\n"
   ]
  },
  {
   "cell_type": "code",
   "execution_count": 39,
   "id": "5f433a6f-8ba8-45f8-8894-a5cde2e5a371",
   "metadata": {},
   "outputs": [],
   "source": [
    "# 뒤로 가기\n",
    "driver.back()"
   ]
  },
  {
   "cell_type": "markdown",
   "id": "4ee2f0d1-afd4-446b-93ab-4fd89f64fbf0",
   "metadata": {},
   "source": [
    "## 실습 5"
   ]
  },
  {
   "cell_type": "code",
   "execution_count": 41,
   "id": "0bd55d73-4c8d-45b6-aa31-1a374c119452",
   "metadata": {},
   "outputs": [
    {
     "name": "stdout",
     "output_type": "stream",
     "text": [
      "메일\n",
      "카페\n",
      "블로그\n",
      "스토어\n",
      "뉴스\n",
      "증권\n",
      "부동산\n",
      "지도\n",
      "웹툰\n",
      "치지직\n"
     ]
    }
   ],
   "source": [
    "driver.get('https://naver.com')\n",
    "driver.implicitly_wait(1)\n",
    "\n",
    "shortcuts = driver.find_element(By.CSS_SELECTOR, 'ul.shortcut_list')\n",
    "services = shortcuts.find_elements(By.CSS_SELECTOR, '.service_name')\n",
    "for service in services:\n",
    "    print(service.text)"
   ]
  },
  {
   "cell_type": "markdown",
   "id": "c72f51e2-76eb-444e-8f07-da1d73c4643b",
   "metadata": {},
   "source": [
    "## 실습 6"
   ]
  },
  {
   "cell_type": "code",
   "execution_count": 43,
   "id": "d4388cb1-411f-4618-9424-a32da72dc6ec",
   "metadata": {},
   "outputs": [
    {
     "name": "stdout",
     "output_type": "stream",
     "text": [
      "메일\n",
      "카페\n",
      "블로그\n",
      "스토어\n",
      "뉴스\n",
      "증권\n",
      "부동산\n",
      "지도\n",
      "웹툰\n",
      "치지직\n"
     ]
    }
   ],
   "source": [
    "driver.get('https://naver.com')\n",
    "driver.implicitly_wait(10)\n",
    "\n",
    "shortcuts = driver.find_element(By.CSS_SELECTOR, 'ul.shortcut_list')\n",
    "services = shortcuts.find_elements(By.CSS_SELECTOR, '.service_name')\n",
    "for service in services:\n",
    "    print(service.text)"
   ]
  },
  {
   "cell_type": "markdown",
   "id": "bfbd5d8e-b2af-4969-b831-43b173a14af9",
   "metadata": {},
   "source": [
    "## 실습 7 - 네이버 지도 검색"
   ]
  },
  {
   "cell_type": "code",
   "execution_count": 45,
   "id": "01389bc0-d9d5-42dc-8286-ac5361a2fbde",
   "metadata": {},
   "outputs": [],
   "source": [
    "# 네이버 지도 검색\n",
    "driver.get('https://map.naver.com/')\n",
    "driver.implicitly_wait(10)\n",
    "search_input = driver.find_element(By.CSS_SELECTOR, 'input.input_search')\n",
    "search_input.send_keys('양반집 은평구')\n",
    "search_input.send_keys(Keys.ENTER)"
   ]
  },
  {
   "cell_type": "code",
   "execution_count": null,
   "id": "787cd878-a432-4b31-a0f2-f05a6f0ad316",
   "metadata": {},
   "outputs": [],
   "source": [
    "# 검색 결과에서 평점 수집\n"
   ]
  }
 ],
 "metadata": {
  "kernelspec": {
   "display_name": "Python [conda env:base] *",
   "language": "python",
   "name": "conda-base-py"
  },
  "language_info": {
   "codemirror_mode": {
    "name": "ipython",
    "version": 3
   },
   "file_extension": ".py",
   "mimetype": "text/x-python",
   "name": "python",
   "nbconvert_exporter": "python",
   "pygments_lexer": "ipython3",
   "version": "3.12.7"
  }
 },
 "nbformat": 4,
 "nbformat_minor": 5
}
