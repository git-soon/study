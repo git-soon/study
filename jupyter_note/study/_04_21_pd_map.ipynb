{
 "cells": [
  {
   "cell_type": "markdown",
   "id": "88962376-d1e0-49bb-ab7e-8801389be6ba",
   "metadata": {},
   "source": [
    "### ㅇㅇ\n",
    "-4월 17일에 했던 .str.strip.str.split을 map으로 간단하게 할수있다."
   ]
  },
  {
   "cell_type": "code",
   "execution_count": 2,
   "id": "eff5e9a9-6f67-459e-977c-24d6631198e3",
   "metadata": {},
   "outputs": [],
   "source": [
    "import pandas as pd"
   ]
  },
  {
   "cell_type": "markdown",
   "id": "dc239dc0-5882-4878-9d95-5d1ad284d76a",
   "metadata": {},
   "source": [
    "## 실습.\n",
    "    - 아래와 같은 DataFrame에서 문자열로 되어 있는 '인구수' 열을 정수로 변경하시요."
   ]
  },
  {
   "cell_type": "code",
   "execution_count": 25,
   "id": "ba161f86-06b3-4405-a7ba-2ab07dc54941",
   "metadata": {},
   "outputs": [
    {
     "ename": "AttributeError",
     "evalue": "Can only use .str accessor with string values!",
     "output_type": "error",
     "traceback": [
      "\u001b[1;31m---------------------------------------------------------------------------\u001b[0m",
      "\u001b[1;31mAttributeError\u001b[0m                            Traceback (most recent call last)",
      "Cell \u001b[1;32mIn[25], line 16\u001b[0m\n\u001b[0;32m      1\u001b[0m df \u001b[38;5;241m=\u001b[39m pd\u001b[38;5;241m.\u001b[39mDataFrame({\u001b[38;5;124m'\u001b[39m\u001b[38;5;124m주소\u001b[39m\u001b[38;5;124m'\u001b[39m: pd\u001b[38;5;241m.\u001b[39mSeries([\u001b[38;5;124m'\u001b[39m\u001b[38;5;124ma b c\u001b[39m\u001b[38;5;130;01m\\n\u001b[39;00m\u001b[38;5;124m'\u001b[39m, \u001b[38;5;124m'\u001b[39m\u001b[38;5;124m a b \u001b[39m\u001b[38;5;124m'\u001b[39m, \u001b[38;5;124m'\u001b[39m\u001b[38;5;124m     a\u001b[39m\u001b[38;5;124m'\u001b[39m, \u001b[38;5;124m'\u001b[39m\u001b[38;5;124md    \u001b[39m\u001b[38;5;124m'\u001b[39m]),\n\u001b[0;32m      2\u001b[0m                     \u001b[38;5;124m'\u001b[39m\u001b[38;5;124m행정구역\u001b[39m\u001b[38;5;124m'\u001b[39m: pd\u001b[38;5;241m.\u001b[39mSeries([\u001b[38;5;124m'\u001b[39m\u001b[38;5;124mx \u001b[39m\u001b[38;5;124m'\u001b[39m, \u001b[38;5;124m'\u001b[39m\u001b[38;5;124my \u001b[39m\u001b[38;5;124m'\u001b[39m, \u001b[38;5;124m'\u001b[39m\u001b[38;5;124m w\u001b[39m\u001b[38;5;124m'\u001b[39m, \u001b[38;5;124m'\u001b[39m\u001b[38;5;124m z\u001b[39m\u001b[38;5;124m'\u001b[39m]),\n\u001b[0;32m      3\u001b[0m                     \u001b[38;5;124m'\u001b[39m\u001b[38;5;124m인구수\u001b[39m\u001b[38;5;124m'\u001b[39m: pd\u001b[38;5;241m.\u001b[39mSeries([\u001b[38;5;241m10\u001b[39m, \u001b[38;5;241m20\u001b[39m, \u001b[38;5;241m15\u001b[39m, \u001b[38;5;241m25\u001b[39m])})\n\u001b[0;32m      5\u001b[0m \u001b[38;5;66;03m# print(df.dtypes)\u001b[39;00m\n\u001b[0;32m      6\u001b[0m \u001b[38;5;66;03m# print(df)\u001b[39;00m\n\u001b[0;32m      7\u001b[0m \n\u001b[1;32m   (...)\u001b[0m\n\u001b[0;32m     14\u001b[0m \n\u001b[0;32m     15\u001b[0m \u001b[38;5;66;03m# 1) 쉼표(,) 같은 천 단위 구분자가 있으면 먼저 없애고\u001b[39;00m\n\u001b[1;32m---> 16\u001b[0m df[\u001b[38;5;124m'\u001b[39m\u001b[38;5;124m인구수\u001b[39m\u001b[38;5;124m'\u001b[39m] \u001b[38;5;241m=\u001b[39m df[\u001b[38;5;124m'\u001b[39m\u001b[38;5;124m인구수\u001b[39m\u001b[38;5;124m'\u001b[39m]\u001b[38;5;241m.\u001b[39mstr\u001b[38;5;241m.\u001b[39mreplace(\u001b[38;5;124m'\u001b[39m\u001b[38;5;124m,\u001b[39m\u001b[38;5;124m'\u001b[39m, \u001b[38;5;124m'\u001b[39m\u001b[38;5;124m'\u001b[39m)\n\u001b[0;32m     18\u001b[0m \u001b[38;5;66;03m# 2) astype(int) 으로 정수형 변환\u001b[39;00m\n\u001b[0;32m     19\u001b[0m df[\u001b[38;5;124m'\u001b[39m\u001b[38;5;124m인구수\u001b[39m\u001b[38;5;124m'\u001b[39m] \u001b[38;5;241m=\u001b[39m df[\u001b[38;5;124m'\u001b[39m\u001b[38;5;124m인구수\u001b[39m\u001b[38;5;124m'\u001b[39m]\u001b[38;5;241m.\u001b[39mastype(\u001b[38;5;28mint\u001b[39m)\n",
      "File \u001b[1;32mC:\\anaconda\\conda3\\Lib\\site-packages\\pandas\\core\\generic.py:6299\u001b[0m, in \u001b[0;36mNDFrame.__getattr__\u001b[1;34m(self, name)\u001b[0m\n\u001b[0;32m   6292\u001b[0m \u001b[38;5;28;01mif\u001b[39;00m (\n\u001b[0;32m   6293\u001b[0m     name \u001b[38;5;129;01mnot\u001b[39;00m \u001b[38;5;129;01min\u001b[39;00m \u001b[38;5;28mself\u001b[39m\u001b[38;5;241m.\u001b[39m_internal_names_set\n\u001b[0;32m   6294\u001b[0m     \u001b[38;5;129;01mand\u001b[39;00m name \u001b[38;5;129;01mnot\u001b[39;00m \u001b[38;5;129;01min\u001b[39;00m \u001b[38;5;28mself\u001b[39m\u001b[38;5;241m.\u001b[39m_metadata\n\u001b[0;32m   6295\u001b[0m     \u001b[38;5;129;01mand\u001b[39;00m name \u001b[38;5;129;01mnot\u001b[39;00m \u001b[38;5;129;01min\u001b[39;00m \u001b[38;5;28mself\u001b[39m\u001b[38;5;241m.\u001b[39m_accessors\n\u001b[0;32m   6296\u001b[0m     \u001b[38;5;129;01mand\u001b[39;00m \u001b[38;5;28mself\u001b[39m\u001b[38;5;241m.\u001b[39m_info_axis\u001b[38;5;241m.\u001b[39m_can_hold_identifiers_and_holds_name(name)\n\u001b[0;32m   6297\u001b[0m ):\n\u001b[0;32m   6298\u001b[0m     \u001b[38;5;28;01mreturn\u001b[39;00m \u001b[38;5;28mself\u001b[39m[name]\n\u001b[1;32m-> 6299\u001b[0m \u001b[38;5;28;01mreturn\u001b[39;00m \u001b[38;5;28mobject\u001b[39m\u001b[38;5;241m.\u001b[39m\u001b[38;5;21m__getattribute__\u001b[39m(\u001b[38;5;28mself\u001b[39m, name)\n",
      "File \u001b[1;32mC:\\anaconda\\conda3\\Lib\\site-packages\\pandas\\core\\accessor.py:224\u001b[0m, in \u001b[0;36mCachedAccessor.__get__\u001b[1;34m(self, obj, cls)\u001b[0m\n\u001b[0;32m    221\u001b[0m \u001b[38;5;28;01mif\u001b[39;00m obj \u001b[38;5;129;01mis\u001b[39;00m \u001b[38;5;28;01mNone\u001b[39;00m:\n\u001b[0;32m    222\u001b[0m     \u001b[38;5;66;03m# we're accessing the attribute of the class, i.e., Dataset.geo\u001b[39;00m\n\u001b[0;32m    223\u001b[0m     \u001b[38;5;28;01mreturn\u001b[39;00m \u001b[38;5;28mself\u001b[39m\u001b[38;5;241m.\u001b[39m_accessor\n\u001b[1;32m--> 224\u001b[0m accessor_obj \u001b[38;5;241m=\u001b[39m \u001b[38;5;28mself\u001b[39m\u001b[38;5;241m.\u001b[39m_accessor(obj)\n\u001b[0;32m    225\u001b[0m \u001b[38;5;66;03m# Replace the property with the accessor object. Inspired by:\u001b[39;00m\n\u001b[0;32m    226\u001b[0m \u001b[38;5;66;03m# https://www.pydanny.com/cached-property.html\u001b[39;00m\n\u001b[0;32m    227\u001b[0m \u001b[38;5;66;03m# We need to use object.__setattr__ because we overwrite __setattr__ on\u001b[39;00m\n\u001b[0;32m    228\u001b[0m \u001b[38;5;66;03m# NDFrame\u001b[39;00m\n\u001b[0;32m    229\u001b[0m \u001b[38;5;28mobject\u001b[39m\u001b[38;5;241m.\u001b[39m\u001b[38;5;21m__setattr__\u001b[39m(obj, \u001b[38;5;28mself\u001b[39m\u001b[38;5;241m.\u001b[39m_name, accessor_obj)\n",
      "File \u001b[1;32mC:\\anaconda\\conda3\\Lib\\site-packages\\pandas\\core\\strings\\accessor.py:191\u001b[0m, in \u001b[0;36mStringMethods.__init__\u001b[1;34m(self, data)\u001b[0m\n\u001b[0;32m    188\u001b[0m \u001b[38;5;28;01mdef\u001b[39;00m \u001b[38;5;21m__init__\u001b[39m(\u001b[38;5;28mself\u001b[39m, data) \u001b[38;5;241m-\u001b[39m\u001b[38;5;241m>\u001b[39m \u001b[38;5;28;01mNone\u001b[39;00m:\n\u001b[0;32m    189\u001b[0m     \u001b[38;5;28;01mfrom\u001b[39;00m \u001b[38;5;21;01mpandas\u001b[39;00m\u001b[38;5;21;01m.\u001b[39;00m\u001b[38;5;21;01mcore\u001b[39;00m\u001b[38;5;21;01m.\u001b[39;00m\u001b[38;5;21;01marrays\u001b[39;00m\u001b[38;5;21;01m.\u001b[39;00m\u001b[38;5;21;01mstring_\u001b[39;00m \u001b[38;5;28;01mimport\u001b[39;00m StringDtype\n\u001b[1;32m--> 191\u001b[0m     \u001b[38;5;28mself\u001b[39m\u001b[38;5;241m.\u001b[39m_inferred_dtype \u001b[38;5;241m=\u001b[39m \u001b[38;5;28mself\u001b[39m\u001b[38;5;241m.\u001b[39m_validate(data)\n\u001b[0;32m    192\u001b[0m     \u001b[38;5;28mself\u001b[39m\u001b[38;5;241m.\u001b[39m_is_categorical \u001b[38;5;241m=\u001b[39m \u001b[38;5;28misinstance\u001b[39m(data\u001b[38;5;241m.\u001b[39mdtype, CategoricalDtype)\n\u001b[0;32m    193\u001b[0m     \u001b[38;5;28mself\u001b[39m\u001b[38;5;241m.\u001b[39m_is_string \u001b[38;5;241m=\u001b[39m \u001b[38;5;28misinstance\u001b[39m(data\u001b[38;5;241m.\u001b[39mdtype, StringDtype)\n",
      "File \u001b[1;32mC:\\anaconda\\conda3\\Lib\\site-packages\\pandas\\core\\strings\\accessor.py:245\u001b[0m, in \u001b[0;36mStringMethods._validate\u001b[1;34m(data)\u001b[0m\n\u001b[0;32m    242\u001b[0m inferred_dtype \u001b[38;5;241m=\u001b[39m lib\u001b[38;5;241m.\u001b[39minfer_dtype(values, skipna\u001b[38;5;241m=\u001b[39m\u001b[38;5;28;01mTrue\u001b[39;00m)\n\u001b[0;32m    244\u001b[0m \u001b[38;5;28;01mif\u001b[39;00m inferred_dtype \u001b[38;5;129;01mnot\u001b[39;00m \u001b[38;5;129;01min\u001b[39;00m allowed_types:\n\u001b[1;32m--> 245\u001b[0m     \u001b[38;5;28;01mraise\u001b[39;00m \u001b[38;5;167;01mAttributeError\u001b[39;00m(\u001b[38;5;124m\"\u001b[39m\u001b[38;5;124mCan only use .str accessor with string values!\u001b[39m\u001b[38;5;124m\"\u001b[39m)\n\u001b[0;32m    246\u001b[0m \u001b[38;5;28;01mreturn\u001b[39;00m inferred_dtype\n",
      "\u001b[1;31mAttributeError\u001b[0m: Can only use .str accessor with string values!"
     ]
    }
   ],
   "source": [
    "df = pd.DataFrame({'주소': pd.Series(['a b c\\n', ' a b ', '     a', 'd    ']),\n",
    "                    '행정구역': pd.Series(['x ', 'y ', ' w', ' z']),\n",
    "                    '인구수': pd.Series([10, 20, 15, 25])})\n",
    "\n",
    "# print(df.dtypes)\n",
    "# print(df)\n",
    "\n",
    "# series = df.str.map(lambda x : x.strip().split())\n",
    "# print(series)\n",
    "\n",
    "\n",
    "#일단 인구수 열만 지정\n",
    "# 그다음 그 열을 반복문으로 원소들을 다 int화 시키면 되겠다\n",
    "\n",
    "# 1) 쉼표(,) 같은 천 단위 구분자가 있으면 먼저 없애고\n",
    "df['인구수'] = df['인구수'].str.replace(',', '')\n",
    "\n",
    "# 2) astype(int) 으로 정수형 변환\n",
    "df['인구수'] = df['인구수'].astype(int)\n",
    "\n",
    "print(df.dtypes)\n",
    "print(df)"
   ]
  },
  {
   "cell_type": "code",
   "execution_count": null,
   "id": "ebf9bc7e-8e8b-4a67-9a43-facc98d93d11",
   "metadata": {},
   "outputs": [],
   "source": []
  },
  {
   "cell_type": "code",
   "execution_count": 10,
   "id": "0d71c191-331f-476c-9a7a-a174e56c4cc3",
   "metadata": {
    "scrolled": true
   },
   "outputs": [
    {
     "ename": "AttributeError",
     "evalue": "'str' object has no attribute 'spilt'",
     "output_type": "error",
     "traceback": [
      "\u001b[1;31m---------------------------------------------------------------------------\u001b[0m",
      "\u001b[1;31mAttributeError\u001b[0m                            Traceback (most recent call last)",
      "Cell \u001b[1;32mIn[10], line 5\u001b[0m\n\u001b[0;32m      2\u001b[0m     \u001b[38;5;28;01mif\u001b[39;00m x\u001b[38;5;241m.\u001b[39mdtype \u001b[38;5;241m==\u001b[39m \u001b[38;5;28mobject\u001b[39m:\n\u001b[0;32m      3\u001b[0m         \u001b[38;5;28;01mreturn\u001b[39;00m x\u001b[38;5;241m.\u001b[39mmap(\u001b[38;5;28;01mlambda\u001b[39;00m x : x\u001b[38;5;241m.\u001b[39mstrip()\u001b[38;5;241m.\u001b[39mspilt())\n\u001b[1;32m----> 5\u001b[0m df \u001b[38;5;241m=\u001b[39m df\u001b[38;5;241m.\u001b[39mapply(func)\n\u001b[0;32m      6\u001b[0m \u001b[38;5;28mprint\u001b[39m(df)\n",
      "File \u001b[1;32mC:\\anaconda\\conda3\\Lib\\site-packages\\pandas\\core\\frame.py:10374\u001b[0m, in \u001b[0;36mDataFrame.apply\u001b[1;34m(self, func, axis, raw, result_type, args, by_row, engine, engine_kwargs, **kwargs)\u001b[0m\n\u001b[0;32m  10360\u001b[0m \u001b[38;5;28;01mfrom\u001b[39;00m \u001b[38;5;21;01mpandas\u001b[39;00m\u001b[38;5;21;01m.\u001b[39;00m\u001b[38;5;21;01mcore\u001b[39;00m\u001b[38;5;21;01m.\u001b[39;00m\u001b[38;5;21;01mapply\u001b[39;00m \u001b[38;5;28;01mimport\u001b[39;00m frame_apply\n\u001b[0;32m  10362\u001b[0m op \u001b[38;5;241m=\u001b[39m frame_apply(\n\u001b[0;32m  10363\u001b[0m     \u001b[38;5;28mself\u001b[39m,\n\u001b[0;32m  10364\u001b[0m     func\u001b[38;5;241m=\u001b[39mfunc,\n\u001b[1;32m   (...)\u001b[0m\n\u001b[0;32m  10372\u001b[0m     kwargs\u001b[38;5;241m=\u001b[39mkwargs,\n\u001b[0;32m  10373\u001b[0m )\n\u001b[1;32m> 10374\u001b[0m \u001b[38;5;28;01mreturn\u001b[39;00m op\u001b[38;5;241m.\u001b[39mapply()\u001b[38;5;241m.\u001b[39m__finalize__(\u001b[38;5;28mself\u001b[39m, method\u001b[38;5;241m=\u001b[39m\u001b[38;5;124m\"\u001b[39m\u001b[38;5;124mapply\u001b[39m\u001b[38;5;124m\"\u001b[39m)\n",
      "File \u001b[1;32mC:\\anaconda\\conda3\\Lib\\site-packages\\pandas\\core\\apply.py:916\u001b[0m, in \u001b[0;36mFrameApply.apply\u001b[1;34m(self)\u001b[0m\n\u001b[0;32m    913\u001b[0m \u001b[38;5;28;01melif\u001b[39;00m \u001b[38;5;28mself\u001b[39m\u001b[38;5;241m.\u001b[39mraw:\n\u001b[0;32m    914\u001b[0m     \u001b[38;5;28;01mreturn\u001b[39;00m \u001b[38;5;28mself\u001b[39m\u001b[38;5;241m.\u001b[39mapply_raw(engine\u001b[38;5;241m=\u001b[39m\u001b[38;5;28mself\u001b[39m\u001b[38;5;241m.\u001b[39mengine, engine_kwargs\u001b[38;5;241m=\u001b[39m\u001b[38;5;28mself\u001b[39m\u001b[38;5;241m.\u001b[39mengine_kwargs)\n\u001b[1;32m--> 916\u001b[0m \u001b[38;5;28;01mreturn\u001b[39;00m \u001b[38;5;28mself\u001b[39m\u001b[38;5;241m.\u001b[39mapply_standard()\n",
      "File \u001b[1;32mC:\\anaconda\\conda3\\Lib\\site-packages\\pandas\\core\\apply.py:1063\u001b[0m, in \u001b[0;36mFrameApply.apply_standard\u001b[1;34m(self)\u001b[0m\n\u001b[0;32m   1061\u001b[0m \u001b[38;5;28;01mdef\u001b[39;00m \u001b[38;5;21mapply_standard\u001b[39m(\u001b[38;5;28mself\u001b[39m):\n\u001b[0;32m   1062\u001b[0m     \u001b[38;5;28;01mif\u001b[39;00m \u001b[38;5;28mself\u001b[39m\u001b[38;5;241m.\u001b[39mengine \u001b[38;5;241m==\u001b[39m \u001b[38;5;124m\"\u001b[39m\u001b[38;5;124mpython\u001b[39m\u001b[38;5;124m\"\u001b[39m:\n\u001b[1;32m-> 1063\u001b[0m         results, res_index \u001b[38;5;241m=\u001b[39m \u001b[38;5;28mself\u001b[39m\u001b[38;5;241m.\u001b[39mapply_series_generator()\n\u001b[0;32m   1064\u001b[0m     \u001b[38;5;28;01melse\u001b[39;00m:\n\u001b[0;32m   1065\u001b[0m         results, res_index \u001b[38;5;241m=\u001b[39m \u001b[38;5;28mself\u001b[39m\u001b[38;5;241m.\u001b[39mapply_series_numba()\n",
      "File \u001b[1;32mC:\\anaconda\\conda3\\Lib\\site-packages\\pandas\\core\\apply.py:1081\u001b[0m, in \u001b[0;36mFrameApply.apply_series_generator\u001b[1;34m(self)\u001b[0m\n\u001b[0;32m   1078\u001b[0m \u001b[38;5;28;01mwith\u001b[39;00m option_context(\u001b[38;5;124m\"\u001b[39m\u001b[38;5;124mmode.chained_assignment\u001b[39m\u001b[38;5;124m\"\u001b[39m, \u001b[38;5;28;01mNone\u001b[39;00m):\n\u001b[0;32m   1079\u001b[0m     \u001b[38;5;28;01mfor\u001b[39;00m i, v \u001b[38;5;129;01min\u001b[39;00m \u001b[38;5;28menumerate\u001b[39m(series_gen):\n\u001b[0;32m   1080\u001b[0m         \u001b[38;5;66;03m# ignore SettingWithCopy here in case the user mutates\u001b[39;00m\n\u001b[1;32m-> 1081\u001b[0m         results[i] \u001b[38;5;241m=\u001b[39m \u001b[38;5;28mself\u001b[39m\u001b[38;5;241m.\u001b[39mfunc(v, \u001b[38;5;241m*\u001b[39m\u001b[38;5;28mself\u001b[39m\u001b[38;5;241m.\u001b[39margs, \u001b[38;5;241m*\u001b[39m\u001b[38;5;241m*\u001b[39m\u001b[38;5;28mself\u001b[39m\u001b[38;5;241m.\u001b[39mkwargs)\n\u001b[0;32m   1082\u001b[0m         \u001b[38;5;28;01mif\u001b[39;00m \u001b[38;5;28misinstance\u001b[39m(results[i], ABCSeries):\n\u001b[0;32m   1083\u001b[0m             \u001b[38;5;66;03m# If we have a view on v, we need to make a copy because\u001b[39;00m\n\u001b[0;32m   1084\u001b[0m             \u001b[38;5;66;03m#  series_generator will swap out the underlying data\u001b[39;00m\n\u001b[0;32m   1085\u001b[0m             results[i] \u001b[38;5;241m=\u001b[39m results[i]\u001b[38;5;241m.\u001b[39mcopy(deep\u001b[38;5;241m=\u001b[39m\u001b[38;5;28;01mFalse\u001b[39;00m)\n",
      "Cell \u001b[1;32mIn[10], line 3\u001b[0m, in \u001b[0;36mfunc\u001b[1;34m(x)\u001b[0m\n\u001b[0;32m      1\u001b[0m \u001b[38;5;28;01mdef\u001b[39;00m \u001b[38;5;21mfunc\u001b[39m(x):\n\u001b[0;32m      2\u001b[0m     \u001b[38;5;28;01mif\u001b[39;00m x\u001b[38;5;241m.\u001b[39mdtype \u001b[38;5;241m==\u001b[39m \u001b[38;5;28mobject\u001b[39m:\n\u001b[1;32m----> 3\u001b[0m         \u001b[38;5;28;01mreturn\u001b[39;00m x\u001b[38;5;241m.\u001b[39mmap(\u001b[38;5;28;01mlambda\u001b[39;00m x : x\u001b[38;5;241m.\u001b[39mstrip()\u001b[38;5;241m.\u001b[39mspilt())\n",
      "File \u001b[1;32mC:\\anaconda\\conda3\\Lib\\site-packages\\pandas\\core\\series.py:4700\u001b[0m, in \u001b[0;36mSeries.map\u001b[1;34m(self, arg, na_action)\u001b[0m\n\u001b[0;32m   4620\u001b[0m \u001b[38;5;28;01mdef\u001b[39;00m \u001b[38;5;21mmap\u001b[39m(\n\u001b[0;32m   4621\u001b[0m     \u001b[38;5;28mself\u001b[39m,\n\u001b[0;32m   4622\u001b[0m     arg: Callable \u001b[38;5;241m|\u001b[39m Mapping \u001b[38;5;241m|\u001b[39m Series,\n\u001b[0;32m   4623\u001b[0m     na_action: Literal[\u001b[38;5;124m\"\u001b[39m\u001b[38;5;124mignore\u001b[39m\u001b[38;5;124m\"\u001b[39m] \u001b[38;5;241m|\u001b[39m \u001b[38;5;28;01mNone\u001b[39;00m \u001b[38;5;241m=\u001b[39m \u001b[38;5;28;01mNone\u001b[39;00m,\n\u001b[0;32m   4624\u001b[0m ) \u001b[38;5;241m-\u001b[39m\u001b[38;5;241m>\u001b[39m Series:\n\u001b[0;32m   4625\u001b[0m \u001b[38;5;250m    \u001b[39m\u001b[38;5;124;03m\"\"\"\u001b[39;00m\n\u001b[0;32m   4626\u001b[0m \u001b[38;5;124;03m    Map values of Series according to an input mapping or function.\u001b[39;00m\n\u001b[0;32m   4627\u001b[0m \n\u001b[1;32m   (...)\u001b[0m\n\u001b[0;32m   4698\u001b[0m \u001b[38;5;124;03m    dtype: object\u001b[39;00m\n\u001b[0;32m   4699\u001b[0m \u001b[38;5;124;03m    \"\"\"\u001b[39;00m\n\u001b[1;32m-> 4700\u001b[0m     new_values \u001b[38;5;241m=\u001b[39m \u001b[38;5;28mself\u001b[39m\u001b[38;5;241m.\u001b[39m_map_values(arg, na_action\u001b[38;5;241m=\u001b[39mna_action)\n\u001b[0;32m   4701\u001b[0m     \u001b[38;5;28;01mreturn\u001b[39;00m \u001b[38;5;28mself\u001b[39m\u001b[38;5;241m.\u001b[39m_constructor(new_values, index\u001b[38;5;241m=\u001b[39m\u001b[38;5;28mself\u001b[39m\u001b[38;5;241m.\u001b[39mindex, copy\u001b[38;5;241m=\u001b[39m\u001b[38;5;28;01mFalse\u001b[39;00m)\u001b[38;5;241m.\u001b[39m__finalize__(\n\u001b[0;32m   4702\u001b[0m         \u001b[38;5;28mself\u001b[39m, method\u001b[38;5;241m=\u001b[39m\u001b[38;5;124m\"\u001b[39m\u001b[38;5;124mmap\u001b[39m\u001b[38;5;124m\"\u001b[39m\n\u001b[0;32m   4703\u001b[0m     )\n",
      "File \u001b[1;32mC:\\anaconda\\conda3\\Lib\\site-packages\\pandas\\core\\base.py:921\u001b[0m, in \u001b[0;36mIndexOpsMixin._map_values\u001b[1;34m(self, mapper, na_action, convert)\u001b[0m\n\u001b[0;32m    918\u001b[0m \u001b[38;5;28;01mif\u001b[39;00m \u001b[38;5;28misinstance\u001b[39m(arr, ExtensionArray):\n\u001b[0;32m    919\u001b[0m     \u001b[38;5;28;01mreturn\u001b[39;00m arr\u001b[38;5;241m.\u001b[39mmap(mapper, na_action\u001b[38;5;241m=\u001b[39mna_action)\n\u001b[1;32m--> 921\u001b[0m \u001b[38;5;28;01mreturn\u001b[39;00m algorithms\u001b[38;5;241m.\u001b[39mmap_array(arr, mapper, na_action\u001b[38;5;241m=\u001b[39mna_action, convert\u001b[38;5;241m=\u001b[39mconvert)\n",
      "File \u001b[1;32mC:\\anaconda\\conda3\\Lib\\site-packages\\pandas\\core\\algorithms.py:1743\u001b[0m, in \u001b[0;36mmap_array\u001b[1;34m(arr, mapper, na_action, convert)\u001b[0m\n\u001b[0;32m   1741\u001b[0m values \u001b[38;5;241m=\u001b[39m arr\u001b[38;5;241m.\u001b[39mastype(\u001b[38;5;28mobject\u001b[39m, copy\u001b[38;5;241m=\u001b[39m\u001b[38;5;28;01mFalse\u001b[39;00m)\n\u001b[0;32m   1742\u001b[0m \u001b[38;5;28;01mif\u001b[39;00m na_action \u001b[38;5;129;01mis\u001b[39;00m \u001b[38;5;28;01mNone\u001b[39;00m:\n\u001b[1;32m-> 1743\u001b[0m     \u001b[38;5;28;01mreturn\u001b[39;00m lib\u001b[38;5;241m.\u001b[39mmap_infer(values, mapper, convert\u001b[38;5;241m=\u001b[39mconvert)\n\u001b[0;32m   1744\u001b[0m \u001b[38;5;28;01melse\u001b[39;00m:\n\u001b[0;32m   1745\u001b[0m     \u001b[38;5;28;01mreturn\u001b[39;00m lib\u001b[38;5;241m.\u001b[39mmap_infer_mask(\n\u001b[0;32m   1746\u001b[0m         values, mapper, mask\u001b[38;5;241m=\u001b[39misna(values)\u001b[38;5;241m.\u001b[39mview(np\u001b[38;5;241m.\u001b[39muint8), convert\u001b[38;5;241m=\u001b[39mconvert\n\u001b[0;32m   1747\u001b[0m     )\n",
      "File \u001b[1;32mlib.pyx:2972\u001b[0m, in \u001b[0;36mpandas._libs.lib.map_infer\u001b[1;34m()\u001b[0m\n",
      "Cell \u001b[1;32mIn[10], line 3\u001b[0m, in \u001b[0;36mfunc.<locals>.<lambda>\u001b[1;34m(x)\u001b[0m\n\u001b[0;32m      1\u001b[0m \u001b[38;5;28;01mdef\u001b[39;00m \u001b[38;5;21mfunc\u001b[39m(x):\n\u001b[0;32m      2\u001b[0m     \u001b[38;5;28;01mif\u001b[39;00m x\u001b[38;5;241m.\u001b[39mdtype \u001b[38;5;241m==\u001b[39m \u001b[38;5;28mobject\u001b[39m:\n\u001b[1;32m----> 3\u001b[0m         \u001b[38;5;28;01mreturn\u001b[39;00m x\u001b[38;5;241m.\u001b[39mmap(\u001b[38;5;28;01mlambda\u001b[39;00m x : x\u001b[38;5;241m.\u001b[39mstrip()\u001b[38;5;241m.\u001b[39mspilt())\n",
      "\u001b[1;31mAttributeError\u001b[0m: 'str' object has no attribute 'spilt'"
     ]
    }
   ],
   "source": [
    "def func(x):\n",
    "    if x.dtype == object:\n",
    "        return x.map(lambda x : x.strip().spilt())\n",
    "    \n",
    "df = df.apply(func)\n",
    "print(df)"
   ]
  },
  {
   "cell_type": "code",
   "execution_count": 31,
   "id": "1057dd33-2ef9-4808-baf1-3021c88265c2",
   "metadata": {},
   "outputs": [
    {
     "data": {
      "text/html": [
       "<div>\n",
       "<style scoped>\n",
       "    .dataframe tbody tr th:only-of-type {\n",
       "        vertical-align: middle;\n",
       "    }\n",
       "\n",
       "    .dataframe tbody tr th {\n",
       "        vertical-align: top;\n",
       "    }\n",
       "\n",
       "    .dataframe thead th {\n",
       "        text-align: right;\n",
       "    }\n",
       "</style>\n",
       "<table border=\"1\" class=\"dataframe\">\n",
       "  <thead>\n",
       "    <tr style=\"text-align: right;\">\n",
       "      <th></th>\n",
       "      <th>구분</th>\n",
       "      <th>위치(구역명)</th>\n",
       "      <th>운동기구 기종명</th>\n",
       "      <th>운동기구 수량</th>\n",
       "      <th>관리번호</th>\n",
       "      <th>관리기관</th>\n",
       "      <th>Unnamed: 6</th>\n",
       "    </tr>\n",
       "  </thead>\n",
       "  <tbody>\n",
       "    <tr>\n",
       "      <th>0</th>\n",
       "      <td>서울숲공원</td>\n",
       "      <td>체육공원</td>\n",
       "      <td>양팔 로프 당기기</td>\n",
       "      <td>1</td>\n",
       "      <td>서울숲공원-1(체육공원)-1</td>\n",
       "      <td>동부공원녹지사업소</td>\n",
       "      <td>NaN</td>\n",
       "    </tr>\n",
       "    <tr>\n",
       "      <th>1</th>\n",
       "      <td>서울숲공원</td>\n",
       "      <td>체육공원</td>\n",
       "      <td>등허리 지압기</td>\n",
       "      <td>1</td>\n",
       "      <td>서울숲공원-1(체육공원)-2</td>\n",
       "      <td>동부공원녹지사업소</td>\n",
       "      <td>NaN</td>\n",
       "    </tr>\n",
       "    <tr>\n",
       "      <th>2</th>\n",
       "      <td>서울숲공원</td>\n",
       "      <td>체육공원</td>\n",
       "      <td>어깨 유연성 운동</td>\n",
       "      <td>1</td>\n",
       "      <td>서울숲공원-1(체육공원)-3</td>\n",
       "      <td>동부공원녹지사업소</td>\n",
       "      <td>NaN</td>\n",
       "    </tr>\n",
       "    <tr>\n",
       "      <th>3</th>\n",
       "      <td>서울숲공원</td>\n",
       "      <td>체육공원</td>\n",
       "      <td>공중 걷기</td>\n",
       "      <td>1</td>\n",
       "      <td>서울숲공원-1(체육공원)-4</td>\n",
       "      <td>동부공원녹지사업소</td>\n",
       "      <td>NaN</td>\n",
       "    </tr>\n",
       "    <tr>\n",
       "      <th>4</th>\n",
       "      <td>서울숲공원</td>\n",
       "      <td>체육공원</td>\n",
       "      <td>파도 타기</td>\n",
       "      <td>1</td>\n",
       "      <td>서울숲공원-1(체육공원)-5</td>\n",
       "      <td>동부공원녹지사업소</td>\n",
       "      <td>NaN</td>\n",
       "    </tr>\n",
       "  </tbody>\n",
       "</table>\n",
       "</div>"
      ],
      "text/plain": [
       "      구분   위치(구역명)   운동기구 기종명    운동기구 수량              관리번호        관리기관   \\\n",
       "0   서울숲공원      체육공원  양팔 로프 당기기          1  서울숲공원-1(체육공원)-1   동부공원녹지사업소    \n",
       "1   서울숲공원      체육공원    등허리 지압기          1  서울숲공원-1(체육공원)-2   동부공원녹지사업소    \n",
       "2   서울숲공원      체육공원  어깨 유연성 운동          1  서울숲공원-1(체육공원)-3   동부공원녹지사업소    \n",
       "3   서울숲공원      체육공원      공중 걷기          1  서울숲공원-1(체육공원)-4   동부공원녹지사업소    \n",
       "4   서울숲공원      체육공원      파도 타기          1  서울숲공원-1(체육공원)-5   동부공원녹지사업소    \n",
       "\n",
       "   Unnamed: 6  \n",
       "0         NaN  \n",
       "1         NaN  \n",
       "2         NaN  \n",
       "3         NaN  \n",
       "4         NaN  "
      ]
     },
     "execution_count": 31,
     "metadata": {},
     "output_type": "execute_result"
    }
   ],
   "source": [
    "park_df = pd.read_csv('데이터/park_data.csv')\n",
    "park_df.head()"
   ]
  },
  {
   "cell_type": "code",
   "execution_count": 36,
   "id": "b7b2192d-75e3-4b0f-957a-6d8ab9f5a119",
   "metadata": {},
   "outputs": [
    {
     "name": "stdout",
     "output_type": "stream",
     "text": [
      "Index(['구분', '위치(구역명)', '운동기구 기종명', '운동기구 수량', '관리번호', '관리기관', 'Unnamed: 6'], dtype='object')\n"
     ]
    }
   ],
   "source": [
    "#열 이름 확인\n",
    "park_col = park_df.columns\n",
    "park_st = park_col.map(lambda x : x.strip())\n",
    "print(park_st)\n",
    "\n",
    "#함수화 시키기\n",
    "def df_strip(column):\n",
    "    try:\n",
    "        return colums.str.strip()\n",
    "    except:\n",
    "        return column\n",
    "\n"
   ]
  },
  {
   "cell_type": "code",
   "execution_count": 38,
   "id": "075001c4-6894-4927-9df2-77180fa9c468",
   "metadata": {},
   "outputs": [
    {
     "ename": "AttributeError",
     "evalue": "'Index' object has no attribute 'dtypes'",
     "output_type": "error",
     "traceback": [
      "\u001b[1;31m---------------------------------------------------------------------------\u001b[0m",
      "\u001b[1;31mAttributeError\u001b[0m                            Traceback (most recent call last)",
      "Cell \u001b[1;32mIn[38], line 1\u001b[0m\n\u001b[1;32m----> 1\u001b[0m park_st\u001b[38;5;241m.\u001b[39mdtypes\n",
      "\u001b[1;31mAttributeError\u001b[0m: 'Index' object has no attribute 'dtypes'"
     ]
    }
   ],
   "source": [
    "park_st.dtypes"
   ]
  },
  {
   "cell_type": "code",
   "execution_count": 39,
   "id": "7b946378-6573-4a31-995e-7ea53d4de8fe",
   "metadata": {
    "scrolled": true
   },
   "outputs": [
    {
     "data": {
      "text/html": [
       "<div>\n",
       "<style scoped>\n",
       "    .dataframe tbody tr th:only-of-type {\n",
       "        vertical-align: middle;\n",
       "    }\n",
       "\n",
       "    .dataframe tbody tr th {\n",
       "        vertical-align: top;\n",
       "    }\n",
       "\n",
       "    .dataframe thead th {\n",
       "        text-align: right;\n",
       "    }\n",
       "</style>\n",
       "<table border=\"1\" class=\"dataframe\">\n",
       "  <thead>\n",
       "    <tr style=\"text-align: right;\">\n",
       "      <th></th>\n",
       "      <th>행정기관코드</th>\n",
       "      <th>행정기관</th>\n",
       "      <th>총 인구수</th>\n",
       "      <th>연령구간인구수</th>\n",
       "      <th>0세</th>\n",
       "      <th>1세</th>\n",
       "      <th>2세</th>\n",
       "      <th>3세</th>\n",
       "      <th>4세</th>\n",
       "      <th>5세</th>\n",
       "      <th>...</th>\n",
       "      <th>91세</th>\n",
       "      <th>92세</th>\n",
       "      <th>93세</th>\n",
       "      <th>94세</th>\n",
       "      <th>95세</th>\n",
       "      <th>96세</th>\n",
       "      <th>97세</th>\n",
       "      <th>98세</th>\n",
       "      <th>99세</th>\n",
       "      <th>100세 이상</th>\n",
       "    </tr>\n",
       "  </thead>\n",
       "  <tbody>\n",
       "    <tr>\n",
       "      <th>0</th>\n",
       "      <td>1100000000</td>\n",
       "      <td>서울특별시</td>\n",
       "      <td>9,335,734</td>\n",
       "      <td>9,335,734</td>\n",
       "      <td>40,432</td>\n",
       "      <td>37,092</td>\n",
       "      <td>39,575</td>\n",
       "      <td>41,936</td>\n",
       "      <td>42,838</td>\n",
       "      <td>45,904</td>\n",
       "      <td>...</td>\n",
       "      <td>10,166</td>\n",
       "      <td>7,861</td>\n",
       "      <td>5,973</td>\n",
       "      <td>4,303</td>\n",
       "      <td>3,532</td>\n",
       "      <td>2,592</td>\n",
       "      <td>1,807</td>\n",
       "      <td>1,185</td>\n",
       "      <td>635</td>\n",
       "      <td>1,506</td>\n",
       "    </tr>\n",
       "    <tr>\n",
       "      <th>1</th>\n",
       "      <td>1111000000</td>\n",
       "      <td>서울특별시 종로구</td>\n",
       "      <td>138,184</td>\n",
       "      <td>138,184</td>\n",
       "      <td>425</td>\n",
       "      <td>395</td>\n",
       "      <td>440</td>\n",
       "      <td>467</td>\n",
       "      <td>476</td>\n",
       "      <td>524</td>\n",
       "      <td>...</td>\n",
       "      <td>230</td>\n",
       "      <td>180</td>\n",
       "      <td>131</td>\n",
       "      <td>98</td>\n",
       "      <td>59</td>\n",
       "      <td>73</td>\n",
       "      <td>34</td>\n",
       "      <td>37</td>\n",
       "      <td>14</td>\n",
       "      <td>43</td>\n",
       "    </tr>\n",
       "    <tr>\n",
       "      <th>2</th>\n",
       "      <td>1111051500</td>\n",
       "      <td>서울특별시 종로구 청운효자동</td>\n",
       "      <td>10,986</td>\n",
       "      <td>10,986</td>\n",
       "      <td>40</td>\n",
       "      <td>44</td>\n",
       "      <td>43</td>\n",
       "      <td>41</td>\n",
       "      <td>51</td>\n",
       "      <td>45</td>\n",
       "      <td>...</td>\n",
       "      <td>22</td>\n",
       "      <td>15</td>\n",
       "      <td>11</td>\n",
       "      <td>10</td>\n",
       "      <td>3</td>\n",
       "      <td>7</td>\n",
       "      <td>1</td>\n",
       "      <td>3</td>\n",
       "      <td>1</td>\n",
       "      <td>4</td>\n",
       "    </tr>\n",
       "    <tr>\n",
       "      <th>3</th>\n",
       "      <td>1111053000</td>\n",
       "      <td>서울특별시 종로구 사직동</td>\n",
       "      <td>8,937</td>\n",
       "      <td>8,937</td>\n",
       "      <td>30</td>\n",
       "      <td>21</td>\n",
       "      <td>34</td>\n",
       "      <td>37</td>\n",
       "      <td>28</td>\n",
       "      <td>39</td>\n",
       "      <td>...</td>\n",
       "      <td>19</td>\n",
       "      <td>13</td>\n",
       "      <td>12</td>\n",
       "      <td>7</td>\n",
       "      <td>8</td>\n",
       "      <td>11</td>\n",
       "      <td>3</td>\n",
       "      <td>2</td>\n",
       "      <td>1</td>\n",
       "      <td>7</td>\n",
       "    </tr>\n",
       "    <tr>\n",
       "      <th>4</th>\n",
       "      <td>1111054000</td>\n",
       "      <td>서울특별시 종로구 삼청동</td>\n",
       "      <td>2,189</td>\n",
       "      <td>2,189</td>\n",
       "      <td>7</td>\n",
       "      <td>7</td>\n",
       "      <td>5</td>\n",
       "      <td>7</td>\n",
       "      <td>6</td>\n",
       "      <td>6</td>\n",
       "      <td>...</td>\n",
       "      <td>7</td>\n",
       "      <td>6</td>\n",
       "      <td>4</td>\n",
       "      <td>4</td>\n",
       "      <td>3</td>\n",
       "      <td>0</td>\n",
       "      <td>1</td>\n",
       "      <td>1</td>\n",
       "      <td>0</td>\n",
       "      <td>0</td>\n",
       "    </tr>\n",
       "  </tbody>\n",
       "</table>\n",
       "<p>5 rows × 105 columns</p>\n",
       "</div>"
      ],
      "text/plain": [
       "       행정기관코드             행정기관      총 인구수    연령구간인구수      0세      1세      2세  \\\n",
       "0  1100000000          서울특별시    9,335,734  9,335,734  40,432  37,092  39,575   \n",
       "1  1111000000       서울특별시 종로구     138,184    138,184     425     395     440   \n",
       "2  1111051500  서울특별시 종로구 청운효자동     10,986     10,986      40      44      43   \n",
       "3  1111053000    서울특별시 종로구 사직동      8,937      8,937      30      21      34   \n",
       "4  1111054000    서울특별시 종로구 삼청동      2,189      2,189       7       7       5   \n",
       "\n",
       "       3세      4세      5세  ...     91세    92세    93세    94세    95세    96세  \\\n",
       "0  41,936  42,838  45,904  ...  10,166  7,861  5,973  4,303  3,532  2,592   \n",
       "1     467     476     524  ...     230    180    131     98     59     73   \n",
       "2      41      51      45  ...      22     15     11     10      3      7   \n",
       "3      37      28      39  ...      19     13     12      7      8     11   \n",
       "4       7       6       6  ...       7      6      4      4      3      0   \n",
       "\n",
       "     97세    98세  99세 100세 이상  \n",
       "0  1,807  1,185  635   1,506  \n",
       "1     34     37   14      43  \n",
       "2      1      3    1       4  \n",
       "3      3      2    1       7  \n",
       "4      1      1    0       0  \n",
       "\n",
       "[5 rows x 105 columns]"
      ]
     },
     "execution_count": 39,
     "metadata": {},
     "output_type": "execute_result"
    }
   ],
   "source": [
    "pop_df = pd.read_csv('데이터/population.csv')\n",
    "pop_df.head()"
   ]
  },
  {
   "cell_type": "code",
   "execution_count": 42,
   "id": "4b3040c6-6700-427b-9f40-3ceb694dbbb0",
   "metadata": {},
   "outputs": [
    {
     "name": "stdout",
     "output_type": "stream",
     "text": [
      "          행정기관코드              행정기관      총 인구수    연령구간인구수      0세      1세  \\\n",
      "0     1100000000             서울특별시  9,335,734  9,335,734  40,432  37,092   \n",
      "1     1111000000         서울특별시 종로구    138,184    138,184     425     395   \n",
      "2     1111051500   서울특별시 종로구 청운효자동     10,986     10,986      40      44   \n",
      "3     1111053000     서울특별시 종로구 사직동      8,937      8,937      30      21   \n",
      "4     1111054000     서울특별시 종로구 삼청동      2,189      2,189       7       7   \n",
      "...          ...               ...        ...        ...     ...     ...   \n",
      "3905  5013058000  제주특별자치도 서귀포시 서홍동     11,088     11,088      61      68   \n",
      "3906  5013059000  제주특별자치도 서귀포시 대륜동     15,038     15,038      80      88   \n",
      "3907  5013060000  제주특별자치도 서귀포시 대천동     13,672     13,672      87      93   \n",
      "3908  5013061000  제주특별자치도 서귀포시 중문동     12,122     12,122      61      57   \n",
      "3909  5013062000  제주특별자치도 서귀포시 예래동      3,813      3,813      16      15   \n",
      "\n",
      "          2세      3세      4세      5세  ...     91세    92세    93세    94세    95세  \\\n",
      "0     39,575  41,936  42,838  45,904  ...  10,166  7,861  5,973  4,303  3,532   \n",
      "1        440     467     476     524  ...     230    180    131     98     59   \n",
      "2         43      41      51      45  ...      22     15     11     10      3   \n",
      "3         34      37      28      39  ...      19     13     12      7      8   \n",
      "4          5       7       6       6  ...       7      6      4      4      3   \n",
      "...      ...     ...     ...     ...  ...     ...    ...    ...    ...    ...   \n",
      "3905      76      98      84     107  ...      15      9     10      2      5   \n",
      "3906     103     129     105     141  ...      21     23      8     11      5   \n",
      "3907     106     105     124     120  ...      21     16      9      8      7   \n",
      "3908      64      82      74      87  ...      18     16     10     17      5   \n",
      "3909       7      11      13      13  ...      12     13      7      5      9   \n",
      "\n",
      "        96세    97세    98세  99세 100세 이상  \n",
      "0     2,592  1,807  1,185  635   1,506  \n",
      "1        73     34     37   14      43  \n",
      "2         7      1      3    1       4  \n",
      "3        11      3      2    1       7  \n",
      "4         0      1      1    0       0  \n",
      "...     ...    ...    ...  ...     ...  \n",
      "3905      5      3      0    1       1  \n",
      "3906      5      4      1    1       6  \n",
      "3907      2      3      2    1       1  \n",
      "3908      7      3      3    2       2  \n",
      "3909      2      4      0    1       1  \n",
      "\n",
      "[3910 rows x 105 columns]\n"
     ]
    }
   ],
   "source": [
    "pop_df['행정기관'].values\n",
    "# 스페이스 스트립 ㄱㄱ\n",
    "\n",
    "def df_strip(column):\n",
    "    try:\n",
    "        return column.str.strip()\n",
    "\n",
    "    except: \n",
    "        return column\n",
    "\n",
    "pop_df = pop_df.apply(df_strip)\n",
    "print(pop_df)"
   ]
  },
  {
   "cell_type": "code",
   "execution_count": 46,
   "id": "bfdeaf17-c7b4-402a-88d1-1b9257228169",
   "metadata": {},
   "outputs": [
    {
     "name": "stdout",
     "output_type": "stream",
     "text": [
      "행정기관코드      int64\n",
      "행정기관       object\n",
      "총 인구수       int64\n",
      "연령구간인구수     int64\n",
      "0세          int64\n",
      "            ...  \n",
      "96세         int64\n",
      "97세         int64\n",
      "98세         int64\n",
      "99세         int64\n",
      "100세 이상     int64\n",
      "Length: 105, dtype: object\n"
     ]
    }
   ],
   "source": [
    "def to_int(column):\n",
    "    try:\n",
    "        return column.map(lambda x : int(x.replace(',','')))\n",
    "\n",
    "    except:\n",
    "        return column\n",
    "\n",
    "pop_df = pop_df.apply(to_int)\n",
    "\n",
    "\n",
    "print(pop_df.dtypes)\n",
    "                          \n",
    "# 그 str은 int화 안되니까 . 안되는건 그냥 그대로 내보내고(except), 되는놈은 ,(콤마)를 없애준다.                            "
   ]
  },
  {
   "cell_type": "code",
   "execution_count": 47,
   "id": "2625f015-d840-4e5f-b25a-40a752bfa103",
   "metadata": {},
   "outputs": [
    {
     "name": "stdout",
     "output_type": "stream",
     "text": [
      "       행정기관코드             행정기관    총 인구수  연령구간인구수     0세     1세     2세     3세  \\\n",
      "0  1100000000            서울특별시  9335734  9335734  40432  37092  39575  41936   \n",
      "1  1111000000        서울특별시 종로구   138184   138184    425    395    440    467   \n",
      "2  1111051500  서울특별시 종로구 청운효자동    10986    10986     40     44     43     41   \n",
      "3  1111053000    서울특별시 종로구 사직동     8937     8937     30     21     34     37   \n",
      "4  1111054000    서울특별시 종로구 삼청동     2189     2189      7      7      5      7   \n",
      "\n",
      "      4세     5세  ...    91세   92세   93세   94세   95세   96세   97세   98세  99세  \\\n",
      "0  42838  45904  ...  10166  7861  5973  4303  3532  2592  1807  1185  635   \n",
      "1    476    524  ...    230   180   131    98    59    73    34    37   14   \n",
      "2     51     45  ...     22    15    11    10     3     7     1     3    1   \n",
      "3     28     39  ...     19    13    12     7     8    11     3     2    1   \n",
      "4      6      6  ...      7     6     4     4     3     0     1     1    0   \n",
      "\n",
      "   100세 이상  \n",
      "0     1506  \n",
      "1       43  \n",
      "2        4  \n",
      "3        7  \n",
      "4        0  \n",
      "\n",
      "[5 rows x 105 columns]\n"
     ]
    }
   ],
   "source": [
    "print(pop_df.head())"
   ]
  },
  {
   "cell_type": "code",
   "execution_count": 50,
   "id": "6f88d9bf-a8c5-422a-8e99-068adc884f45",
   "metadata": {},
   "outputs": [
    {
     "data": {
      "text/plain": [
       "0    서울특별시\n",
       "1      종로구\n",
       "2    청운효자동\n",
       "3      사직동\n",
       "4      삼청동\n",
       "Name: 행정기관, dtype: object"
      ]
     },
     "execution_count": 50,
     "metadata": {},
     "output_type": "execute_result"
    }
   ],
   "source": [
    "pop_df['행정기관'] = pop_df['행정기관'].map(lambda x : x.split()[-1])\n",
    "pop_df['행정기관'].head()"
   ]
  },
  {
   "cell_type": "code",
   "execution_count": 53,
   "id": "8de6ffb1-00de-4835-9ea2-08f7a2a2e03f",
   "metadata": {},
   "outputs": [
    {
     "data": {
      "text/html": [
       "<div>\n",
       "<style scoped>\n",
       "    .dataframe tbody tr th:only-of-type {\n",
       "        vertical-align: middle;\n",
       "    }\n",
       "\n",
       "    .dataframe tbody tr th {\n",
       "        vertical-align: top;\n",
       "    }\n",
       "\n",
       "    .dataframe thead th {\n",
       "        text-align: right;\n",
       "    }\n",
       "</style>\n",
       "<table border=\"1\" class=\"dataframe\">\n",
       "  <thead>\n",
       "    <tr style=\"text-align: right;\">\n",
       "      <th></th>\n",
       "      <th>행정기관코드</th>\n",
       "      <th>행정기관</th>\n",
       "      <th>총 인구수</th>\n",
       "      <th>연령구간인구수</th>\n",
       "      <th>0세</th>\n",
       "      <th>1세</th>\n",
       "      <th>2세</th>\n",
       "      <th>3세</th>\n",
       "      <th>4세</th>\n",
       "      <th>5세</th>\n",
       "      <th>...</th>\n",
       "      <th>91세</th>\n",
       "      <th>92세</th>\n",
       "      <th>93세</th>\n",
       "      <th>94세</th>\n",
       "      <th>95세</th>\n",
       "      <th>96세</th>\n",
       "      <th>97세</th>\n",
       "      <th>98세</th>\n",
       "      <th>99세</th>\n",
       "      <th>100세 이상</th>\n",
       "    </tr>\n",
       "  </thead>\n",
       "  <tbody>\n",
       "    <tr>\n",
       "      <th>3</th>\n",
       "      <td>1111053000</td>\n",
       "      <td>사직동</td>\n",
       "      <td>8937</td>\n",
       "      <td>8937</td>\n",
       "      <td>30</td>\n",
       "      <td>21</td>\n",
       "      <td>34</td>\n",
       "      <td>37</td>\n",
       "      <td>28</td>\n",
       "      <td>39</td>\n",
       "      <td>...</td>\n",
       "      <td>19</td>\n",
       "      <td>13</td>\n",
       "      <td>12</td>\n",
       "      <td>7</td>\n",
       "      <td>8</td>\n",
       "      <td>11</td>\n",
       "      <td>3</td>\n",
       "      <td>2</td>\n",
       "      <td>1</td>\n",
       "      <td>7</td>\n",
       "    </tr>\n",
       "    <tr>\n",
       "      <th>1051</th>\n",
       "      <td>2915554500</td>\n",
       "      <td>사직동</td>\n",
       "      <td>4458</td>\n",
       "      <td>4458</td>\n",
       "      <td>11</td>\n",
       "      <td>11</td>\n",
       "      <td>11</td>\n",
       "      <td>21</td>\n",
       "      <td>8</td>\n",
       "      <td>25</td>\n",
       "      <td>...</td>\n",
       "      <td>12</td>\n",
       "      <td>7</td>\n",
       "      <td>4</td>\n",
       "      <td>3</td>\n",
       "      <td>3</td>\n",
       "      <td>1</td>\n",
       "      <td>1</td>\n",
       "      <td>0</td>\n",
       "      <td>1</td>\n",
       "      <td>1</td>\n",
       "    </tr>\n",
       "  </tbody>\n",
       "</table>\n",
       "<p>2 rows × 105 columns</p>\n",
       "</div>"
      ],
      "text/plain": [
       "          행정기관코드 행정기관  총 인구수  연령구간인구수  0세  1세  2세  3세  4세  5세  ...  91세  92세  \\\n",
       "3     1111053000  사직동   8937     8937  30  21  34  37  28  39  ...   19   13   \n",
       "1051  2915554500  사직동   4458     4458  11  11  11  21   8  25  ...   12    7   \n",
       "\n",
       "      93세  94세  95세  96세  97세  98세  99세  100세 이상  \n",
       "3      12    7    8   11    3    2    1        7  \n",
       "1051    4    3    3    1    1    0    1        1  \n",
       "\n",
       "[2 rows x 105 columns]"
      ]
     },
     "execution_count": 53,
     "metadata": {},
     "output_type": "execute_result"
    }
   ],
   "source": [
    "pop_df[pop_df['행정기관'] == '사직동']"
   ]
  },
  {
   "cell_type": "code",
   "execution_count": 58,
   "id": "88cf0998-d883-4c43-b6a2-653f0b317aa1",
   "metadata": {},
   "outputs": [
    {
     "name": "stdout",
     "output_type": "stream",
     "text": [
      "행정기관코드     1141061500\n",
      "행정기관              연희동\n",
      "총 인구수           33574\n",
      "연령구간인구수         33574\n",
      "0세                 94\n",
      "              ...    \n",
      "96세                11\n",
      "97세                 6\n",
      "98세                 5\n",
      "99세                 5\n",
      "100세 이상            11\n",
      "Name: 210, Length: 105, dtype: object\n",
      "행정기관코드     1144071000\n",
      "행정기관              연남동\n",
      "총 인구수           14067\n",
      "연령구간인구수         14067\n",
      "0세                 56\n",
      "              ...    \n",
      "96세                 5\n",
      "97세                 2\n",
      "98세                 3\n",
      "99세                 0\n",
      "100세 이상             6\n",
      "Name: 233, Length: 105, dtype: object\n"
     ]
    }
   ],
   "source": [
    "s1 = pop_df[pop_df['행정기관'] == '연희동'].iloc[0]\n",
    "s2 = pop_df[pop_df['행정기관'] == '연남동'].iloc[0]\n",
    "\n",
    "print(s1)\n",
    "print(s2)"
   ]
  },
  {
   "cell_type": "code",
   "execution_count": 56,
   "id": "4cf5ef80-3851-447d-8a06-9d98fe1a525c",
   "metadata": {},
   "outputs": [],
   "source": [
    "import matplotlib.pyplot as plt"
   ]
  },
  {
   "cell_type": "code",
   "execution_count": 60,
   "id": "e4f754a4-9a53-4ee7-9d08-5421f64f4085",
   "metadata": {},
   "outputs": [
    {
     "data": {
      "text/plain": [
       "<matplotlib.legend.Legend at 0x23c00b7b650>"
      ]
     },
     "execution_count": 60,
     "metadata": {},
     "output_type": "execute_result"
    },
    {
     "data": {
      "image/png": "[encoded data removed]",
      "text/plain": [
       "<Figure size 640x480 with 1 Axes>"
      ]
     },
     "metadata": {},
     "output_type": "display_data"
    }
   ],
   "source": [
    "plt.plot(s1[4:].values, label='Yeonhee') #s1은 시리즈\n",
    "plt.plot(s2[4:].values, label='Yeonnam')\n",
    "plt.legend()"
   ]
  },
  {
   "cell_type": "code",
   "execution_count": 65,
   "id": "b0677005-0710-4e46-b222-3afe4f94dc00",
   "metadata": {},
   "outputs": [
    {
     "name": "stderr",
     "output_type": "stream",
     "text": [
      "C:\\Users\\charl\\AppData\\Local\\Temp\\ipykernel_5720\\3233787940.py:1: FutureWarning: Series.__getitem__ treating keys as positions is deprecated. In a future version, integer keys will always be treated as labels (consistent with DataFrame behavior). To access a value by position, use `ser.iloc[pos]`\n",
      "  s1 = (s1[4:]/s1[3])\n",
      "C:\\Users\\charl\\AppData\\Local\\Temp\\ipykernel_5720\\3233787940.py:2: FutureWarning: Series.__getitem__ treating keys as positions is deprecated. In a future version, integer keys will always be treated as labels (consistent with DataFrame behavior). To access a value by position, use `ser.iloc[pos]`\n",
      "  s2 = (s2[4:]/s2[3])\n"
     ]
    },
    {
     "data": {
      "text/plain": [
       "<matplotlib.legend.Legend at 0x23c021e71a0>"
      ]
     },
     "execution_count": 65,
     "metadata": {},
     "output_type": "execute_result"
    },
    {
     "data": {
      "image/png": "[encoded data removed]",
      "text/plain": [
       "<Figure size 640x480 with 1 Axes>"
      ]
     },
     "metadata": {},
     "output_type": "display_data"
    }
   ],
   "source": [
    "s1 = (s1[4:]/s1[3])\n",
    "s2 = (s2[4:]/s2[3])\n",
    "\n",
    "plt.plot(s1.values, label='Yeonhee') #s1은 시리즈\n",
    "plt.plot(s2.values, label='Yeonnam')\n",
    "plt.legend()"
   ]
  }
 ],
 "metadata": {
  "kernelspec": {
   "display_name": "Python 3 (ipykernel)",
   "language": "python",
   "name": "python3"
  },
  "language_info": {
   "codemirror_mode": {
    "name": "ipython",
    "version": 3
   },
   "file_extension": ".py",
   "mimetype": "text/x-python",
   "name": "python",
   "nbconvert_exporter": "python",
   "pygments_lexer": "ipython3",
   "version": "3.12.7"
  }
 },
 "nbformat": 4,
 "nbformat_minor": 5
}
