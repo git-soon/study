{
 "cells": [
  {
   "cell_type": "markdown",
   "id": "bd880929-d766-4164-8198-b4cb7a5c405e",
   "metadata": {},
   "source": [
    "# 동적크롤링과 셀레니움"
   ]
  },
  {
   "cell_type": "markdown",
   "id": "baa49ba4-308c-4db9-be08-457093f7a426",
   "metadata": {},
   "source": [
    "## 시작"
   ]
  },
  {
   "cell_type": "code",
   "execution_count": 6,
   "id": "57ac521d-4616-485d-93d3-beec61063a27",
   "metadata": {},
   "outputs": [
    {
     "name": "stdout",
     "output_type": "stream",
     "text": [
      "Requirement already satisfied: selenium in c:\\anaconda\\conda3\\lib\\site-packages (4.31.0)\n",
      "Requirement already satisfied: urllib3<3,>=1.26 in c:\\anaconda\\conda3\\lib\\site-packages (from urllib3[socks]<3,>=1.26->selenium) (2.2.3)\n",
      "Requirement already satisfied: trio~=0.17 in c:\\anaconda\\conda3\\lib\\site-packages (from selenium) (0.30.0)\n",
      "Requirement already satisfied: trio-websocket~=0.9 in c:\\anaconda\\conda3\\lib\\site-packages (from selenium) (0.12.2)\n",
      "Requirement already satisfied: certifi>=2021.10.8 in c:\\anaconda\\conda3\\lib\\site-packages (from selenium) (2024.8.30)\n",
      "Requirement already satisfied: typing_extensions~=4.9 in c:\\anaconda\\conda3\\lib\\site-packages (from selenium) (4.11.0)\n",
      "Requirement already satisfied: websocket-client~=1.8 in c:\\anaconda\\conda3\\lib\\site-packages (from selenium) (1.8.0)\n",
      "Requirement already satisfied: attrs>=23.2.0 in c:\\anaconda\\conda3\\lib\\site-packages (from trio~=0.17->selenium) (25.3.0)\n",
      "Requirement already satisfied: sortedcontainers in c:\\anaconda\\conda3\\lib\\site-packages (from trio~=0.17->selenium) (2.4.0)\n",
      "Requirement already satisfied: idna in c:\\anaconda\\conda3\\lib\\site-packages (from trio~=0.17->selenium) (3.7)\n",
      "Requirement already satisfied: outcome in c:\\anaconda\\conda3\\lib\\site-packages (from trio~=0.17->selenium) (1.3.0.post0)\n",
      "Requirement already satisfied: sniffio>=1.3.0 in c:\\anaconda\\conda3\\lib\\site-packages (from trio~=0.17->selenium) (1.3.0)\n",
      "Requirement already satisfied: cffi>=1.14 in c:\\anaconda\\conda3\\lib\\site-packages (from trio~=0.17->selenium) (1.17.1)\n",
      "Requirement already satisfied: wsproto>=0.14 in c:\\anaconda\\conda3\\lib\\site-packages (from trio-websocket~=0.9->selenium) (1.2.0)\n",
      "Requirement already satisfied: pysocks!=1.5.7,<2.0,>=1.5.6 in c:\\anaconda\\conda3\\lib\\site-packages (from urllib3[socks]<3,>=1.26->selenium) (1.7.1)\n",
      "Requirement already satisfied: pycparser in c:\\anaconda\\conda3\\lib\\site-packages (from cffi>=1.14->trio~=0.17->selenium) (2.21)\n",
      "Requirement already satisfied: h11<1,>=0.9.0 in c:\\anaconda\\conda3\\lib\\site-packages (from wsproto>=0.14->trio-websocket~=0.9->selenium) (0.14.0)\n",
      "Collecting webdriver_manager\n",
      "  Downloading webdriver_manager-4.0.2-py2.py3-none-any.whl.metadata (12 kB)\n",
      "Requirement already satisfied: requests in c:\\anaconda\\conda3\\lib\\site-packages (from webdriver_manager) (2.32.3)\n",
      "Requirement already satisfied: python-dotenv in c:\\anaconda\\conda3\\lib\\site-packages (from webdriver_manager) (0.21.0)\n",
      "Requirement already satisfied: packaging in c:\\anaconda\\conda3\\lib\\site-packages (from webdriver_manager) (24.1)\n",
      "Requirement already satisfied: charset-normalizer<4,>=2 in c:\\anaconda\\conda3\\lib\\site-packages (from requests->webdriver_manager) (3.3.2)\n",
      "Requirement already satisfied: idna<4,>=2.5 in c:\\anaconda\\conda3\\lib\\site-packages (from requests->webdriver_manager) (3.7)\n",
      "Requirement already satisfied: urllib3<3,>=1.21.1 in c:\\anaconda\\conda3\\lib\\site-packages (from requests->webdriver_manager) (2.2.3)\n",
      "Requirement already satisfied: certifi>=2017.4.17 in c:\\anaconda\\conda3\\lib\\site-packages (from requests->webdriver_manager) (2024.8.30)\n",
      "Downloading webdriver_manager-4.0.2-py2.py3-none-any.whl (27 kB)\n",
      "Installing collected packages: webdriver_manager\n",
      "Successfully installed webdriver_manager-4.0.2\n"
     ]
    }
   ],
   "source": [
    "#셀레니움 설치\n",
    "!pip install selenium\n",
    "!pip install webdriver_manager"
   ]
  },
  {
   "cell_type": "code",
   "execution_count": 7,
   "id": "4b219718-df3b-46f4-96ef-5bffc3403e13",
   "metadata": {},
   "outputs": [],
   "source": [
    "#셀레니움과 그걸 불러올 웹드라이버 로 크롬 지정\n",
    "from selenium import webdriver\n",
    "from selenium.webdriver.chrome.service import Service\n",
    "from webdriver_manager.chrome import ChromeDriverManager\n",
    "\n",
    "# find_elements 사용을 위해 필요\n",
    "from selenium.webdriver.common.by import By\n",
    "from selenium.webdriver.common.keys import Keys"
   ]
  },
  {
   "cell_type": "code",
   "execution_count": 15,
   "id": "169d3d86-bc53-4b25-bbb8-2cf552e5dce8",
   "metadata": {},
   "outputs": [],
   "source": [
    "#셀레니움에서 쓸 find 와 finds를 미리 함수화 하여 쓸때 편하게 만듬\n",
    "def find(css_selector):\n",
    "    return driver.find_element(By.CSS_SELECTOR, css_selector)\n",
    "\n",
    "def finds(css_selector):\n",
    "    return driver.find_elements(By.CSS_SELECTOR, css_selector)\n",
    "\n",
    "\n",
    "service = Service(ChromeDriverManager().install())\n",
    "driver = webdriver.Chrome(service=service)\n",
    "driver.implicitly_wait(10)  # 엘리먼츠들이 로드될때 까지 대기 (최대 10초)\n",
    "\n",
    "#네이버 실행\n",
    "# driver.get('https://naver.com')\n",
    "\n"
   ]
  },
  {
   "cell_type": "markdown",
   "id": "fc0d76b6-e78c-43a2-90dc-af6938b9acdb",
   "metadata": {},
   "source": [
    "## 실습 1. 켯다 끄기"
   ]
  },
  {
   "cell_type": "code",
   "execution_count": 18,
   "id": "817664f7-3e44-410a-a691-c0336ebf2c16",
   "metadata": {},
   "outputs": [],
   "source": [
    "import time # sleep 쓰려고 \n",
    "\n",
    "#1. 네이버 접속\n",
    "driver = webdriver.Chrome(service=service)\n",
    "driver.get('https://naver.com')\n",
    "#2. 브라우저 창 최대화\n",
    "driver.maximize_window()\n",
    "\n",
    "#3. 1초후 구글 접속\n",
    "time.sleep(1)\n",
    "driver.get('https://google.com')\n",
    "\n",
    "#4. 1초 후에 back 하여 네이버로 이동\n",
    "time.sleep(1)\n",
    "driver.back()\n",
    "\n",
    "#5. 1초후에 새로고침 \n",
    "time.sleep(1)\n",
    "driver.refresh()\n",
    "\n",
    "#6. 1초 후에 브라우저 종료\n",
    "time.sleep(1)\n",
    "driver.quit()"
   ]
  },
  {
   "cell_type": "markdown",
   "id": "031d2bac-7ddb-453c-b75f-2fa5e2d80f86",
   "metadata": {},
   "source": [
    "## 실습 2 네이버 서비스 바로가기 이름 수집"
   ]
  },
  {
   "cell_type": "code",
   "execution_count": 21,
   "id": "a1e23cb4-aea7-4c15-99d4-bea248979234",
   "metadata": {},
   "outputs": [
    {
     "name": "stdout",
     "output_type": "stream",
     "text": [
      "[<selenium.webdriver.remote.webelement.WebElement (session=\"56b4bbdd233f765fd59fcad4745bccef\", element=\"f.09625CA7DE36A094BF3EDC1FF049D4F8.d.B11DAC8442A8E86143F72C3E073F8EAC.e.105\")>, <selenium.webdriver.remote.webelement.WebElement (session=\"56b4bbdd233f765fd59fcad4745bccef\", element=\"f.09625CA7DE36A094BF3EDC1FF049D4F8.d.B11DAC8442A8E86143F72C3E073F8EAC.e.106\")>, <selenium.webdriver.remote.webelement.WebElement (session=\"56b4bbdd233f765fd59fcad4745bccef\", element=\"f.09625CA7DE36A094BF3EDC1FF049D4F8.d.B11DAC8442A8E86143F72C3E073F8EAC.e.107\")>, <selenium.webdriver.remote.webelement.WebElement (session=\"56b4bbdd233f765fd59fcad4745bccef\", element=\"f.09625CA7DE36A094BF3EDC1FF049D4F8.d.B11DAC8442A8E86143F72C3E073F8EAC.e.108\")>, <selenium.webdriver.remote.webelement.WebElement (session=\"56b4bbdd233f765fd59fcad4745bccef\", element=\"f.09625CA7DE36A094BF3EDC1FF049D4F8.d.B11DAC8442A8E86143F72C3E073F8EAC.e.109\")>, <selenium.webdriver.remote.webelement.WebElement (session=\"56b4bbdd233f765fd59fcad4745bccef\", element=\"f.09625CA7DE36A094BF3EDC1FF049D4F8.d.B11DAC8442A8E86143F72C3E073F8EAC.e.110\")>, <selenium.webdriver.remote.webelement.WebElement (session=\"56b4bbdd233f765fd59fcad4745bccef\", element=\"f.09625CA7DE36A094BF3EDC1FF049D4F8.d.B11DAC8442A8E86143F72C3E073F8EAC.e.111\")>, <selenium.webdriver.remote.webelement.WebElement (session=\"56b4bbdd233f765fd59fcad4745bccef\", element=\"f.09625CA7DE36A094BF3EDC1FF049D4F8.d.B11DAC8442A8E86143F72C3E073F8EAC.e.112\")>, <selenium.webdriver.remote.webelement.WebElement (session=\"56b4bbdd233f765fd59fcad4745bccef\", element=\"f.09625CA7DE36A094BF3EDC1FF049D4F8.d.B11DAC8442A8E86143F72C3E073F8EAC.e.113\")>, <selenium.webdriver.remote.webelement.WebElement (session=\"56b4bbdd233f765fd59fcad4745bccef\", element=\"f.09625CA7DE36A094BF3EDC1FF049D4F8.d.B11DAC8442A8E86143F72C3E073F8EAC.e.114\")>, <selenium.webdriver.remote.webelement.WebElement (session=\"56b4bbdd233f765fd59fcad4745bccef\", element=\"f.09625CA7DE36A094BF3EDC1FF049D4F8.d.B11DAC8442A8E86143F72C3E073F8EAC.e.115\")>]\n"
     ]
    }
   ],
   "source": [
    "#네이버 실행\n",
    "driver = webdriver.Chrome(service=service)\n",
    "driver.get('https://naver.com')\n"
   ]
  },
  {
   "cell_type": "code",
   "execution_count": 37,
   "id": "78628edf-9dc1-4d49-9a99-45a0d0b3ce61",
   "metadata": {},
   "outputs": [
    {
     "name": "stdout",
     "output_type": "stream",
     "text": [
      "메일\n",
      "카페\n",
      "블로그\n",
      "스토어\n",
      "뉴스\n",
      "증권\n",
      "부동산\n",
      "지도\n",
      "웹툰\n",
      "치지직\n",
      "<class 'selenium.webdriver.remote.webelement.WebElement'>\n"
     ]
    },
    {
     "ename": "AttributeError",
     "evalue": "property 'text' of 'WebElement' object has no setter",
     "output_type": "error",
     "traceback": [
      "\u001b[1;31m---------------------------------------------------------------------------\u001b[0m",
      "\u001b[1;31mAttributeError\u001b[0m                            Traceback (most recent call last)",
      "Cell \u001b[1;32mIn[37], line 8\u001b[0m\n\u001b[0;32m      5\u001b[0m     \u001b[38;5;28mprint\u001b[39m(element\u001b[38;5;241m.\u001b[39mtext) \u001b[38;5;66;03m# 이건 하나하나니까 ㄱㅊ\u001b[39;00m\n\u001b[0;32m      7\u001b[0m \u001b[38;5;28mprint\u001b[39m(\u001b[38;5;28mtype\u001b[39m(element))\n\u001b[1;32m----> 8\u001b[0m element\u001b[38;5;241m.\u001b[39mtext \u001b[38;5;241m=\u001b[39m \u001b[38;5;124m\"\u001b[39m\u001b[38;5;124msksms qkqh\u001b[39m\u001b[38;5;124m\"\u001b[39m\n\u001b[0;32m      9\u001b[0m \u001b[38;5;28mprint\u001b[39m(element\u001b[38;5;241m.\u001b[39mtext)\n",
      "\u001b[1;31mAttributeError\u001b[0m: property 'text' of 'WebElement' object has no setter"
     ]
    }
   ],
   "source": [
    "# 네이버 서비스 바로가기 이름 찾기\n",
    "elements = finds( 'a > span.service_name') # 리스트 반환 => text 안됨\n",
    "\n",
    "for element in elements:\n",
    "    print(element.text) # 이건 하나하나니까 ㄱㅊ\n",
    "\n",
    "print(type(element))\n",
    "print(element.text)\n",
    "# 'WebElement' object has no attribute 'type'\n",
    "# 오브잭트는 키값과 벨류 값이 있으니 까봐야 안다?\n"
   ]
  },
  {
   "cell_type": "code",
   "execution_count": 32,
   "id": "951e68e9-8235-4eab-b6a0-f7820346f5a3",
   "metadata": {},
   "outputs": [
    {
     "name": "stdout",
     "output_type": "stream",
     "text": [
      "메일\n",
      "@@@@@ <selenium.webdriver.remote.webelement.WebElement (session=\"56b4bbdd233f765fd59fcad4745bccef\", element=\"f.09625CA7DE36A094BF3EDC1FF049D4F8.d.CAA5A79CBF46E3BCF87BEA2B555CADE4.e.3620\")>\n",
      "<class 'selenium.webdriver.remote.webelement.WebElement'>\n",
      "카페\n",
      "@@@@@ <selenium.webdriver.remote.webelement.WebElement (session=\"56b4bbdd233f765fd59fcad4745bccef\", element=\"f.09625CA7DE36A094BF3EDC1FF049D4F8.d.CAA5A79CBF46E3BCF87BEA2B555CADE4.e.3621\")>\n",
      "<class 'selenium.webdriver.remote.webelement.WebElement'>\n",
      "블로그\n",
      "@@@@@ <selenium.webdriver.remote.webelement.WebElement (session=\"56b4bbdd233f765fd59fcad4745bccef\", element=\"f.09625CA7DE36A094BF3EDC1FF049D4F8.d.CAA5A79CBF46E3BCF87BEA2B555CADE4.e.3622\")>\n",
      "<class 'selenium.webdriver.remote.webelement.WebElement'>\n",
      "스토어\n",
      "@@@@@ <selenium.webdriver.remote.webelement.WebElement (session=\"56b4bbdd233f765fd59fcad4745bccef\", element=\"f.09625CA7DE36A094BF3EDC1FF049D4F8.d.CAA5A79CBF46E3BCF87BEA2B555CADE4.e.3623\")>\n",
      "<class 'selenium.webdriver.remote.webelement.WebElement'>\n",
      "뉴스\n",
      "@@@@@ <selenium.webdriver.remote.webelement.WebElement (session=\"56b4bbdd233f765fd59fcad4745bccef\", element=\"f.09625CA7DE36A094BF3EDC1FF049D4F8.d.CAA5A79CBF46E3BCF87BEA2B555CADE4.e.3624\")>\n",
      "<class 'selenium.webdriver.remote.webelement.WebElement'>\n",
      "증권\n",
      "@@@@@ <selenium.webdriver.remote.webelement.WebElement (session=\"56b4bbdd233f765fd59fcad4745bccef\", element=\"f.09625CA7DE36A094BF3EDC1FF049D4F8.d.CAA5A79CBF46E3BCF87BEA2B555CADE4.e.3625\")>\n",
      "<class 'selenium.webdriver.remote.webelement.WebElement'>\n",
      "부동산\n",
      "@@@@@ <selenium.webdriver.remote.webelement.WebElement (session=\"56b4bbdd233f765fd59fcad4745bccef\", element=\"f.09625CA7DE36A094BF3EDC1FF049D4F8.d.CAA5A79CBF46E3BCF87BEA2B555CADE4.e.3626\")>\n",
      "<class 'selenium.webdriver.remote.webelement.WebElement'>\n",
      "지도\n",
      "@@@@@ <selenium.webdriver.remote.webelement.WebElement (session=\"56b4bbdd233f765fd59fcad4745bccef\", element=\"f.09625CA7DE36A094BF3EDC1FF049D4F8.d.CAA5A79CBF46E3BCF87BEA2B555CADE4.e.3627\")>\n",
      "<class 'selenium.webdriver.remote.webelement.WebElement'>\n",
      "웹툰\n",
      "@@@@@ <selenium.webdriver.remote.webelement.WebElement (session=\"56b4bbdd233f765fd59fcad4745bccef\", element=\"f.09625CA7DE36A094BF3EDC1FF049D4F8.d.CAA5A79CBF46E3BCF87BEA2B555CADE4.e.3628\")>\n",
      "<class 'selenium.webdriver.remote.webelement.WebElement'>\n",
      "치지직\n",
      "@@@@@ <selenium.webdriver.remote.webelement.WebElement (session=\"56b4bbdd233f765fd59fcad4745bccef\", element=\"f.09625CA7DE36A094BF3EDC1FF049D4F8.d.CAA5A79CBF46E3BCF87BEA2B555CADE4.e.3629\")>\n",
      "<class 'selenium.webdriver.remote.webelement.WebElement'>\n"
     ]
    }
   ],
   "source": [
    "# 네이버 서비스 바로가기 이름 찾기\n",
    "elements = finds( 'a > span.service_name') # 리스트 반환 = text 안됨\n",
    "\n",
    "for element in elements:\n",
    "    print(element.text) # 이건 하나하나니까 ㄱㅊprint(element.text) # 이건 하나하나니까 ㄱㅊ\n",
    "    print(\"@@@@@\",element) # 이건 하나하나니까 ㄱㅊ\n",
    "\n",
    "\n",
    "# 'WebElement' object has no attribute 'type'\n",
    "# 오브잭트는 키값과 벨류 값이 있으니 까봐야 안다?\n"
   ]
  }
 ],
 "metadata": {
  "kernelspec": {
   "display_name": "Python 3 (ipykernel)",
   "language": "python",
   "name": "python3"
  },
  "language_info": {
   "codemirror_mode": {
    "name": "ipython",
    "version": 3
   },
   "file_extension": ".py",
   "mimetype": "text/x-python",
   "name": "python",
   "nbconvert_exporter": "python",
   "pygments_lexer": "ipython3",
   "version": "3.12.7"
  }
 },
 "nbformat": 4,
 "nbformat_minor": 5
}
