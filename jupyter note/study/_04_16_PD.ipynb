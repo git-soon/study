{
 "cells": [
  {
   "cell_type": "code",
   "execution_count": 2,
   "id": "ee94e5ad-1d6e-434a-99d0-1bf676319d1a",
   "metadata": {
    "scrolled": true
   },
   "outputs": [
    {
     "name": "stdout",
     "output_type": "stream",
     "text": [
      "Collecting pandas\n",
      "  Downloading pandas-2.2.3-cp313-cp313-win_amd64.whl.metadata (19 kB)\n",
      "Collecting numpy>=1.26.0 (from pandas)\n",
      "  Downloading numpy-2.2.4-cp313-cp313-win_amd64.whl.metadata (60 kB)\n",
      "Requirement already satisfied: python-dateutil>=2.8.2 in c:\\users\\charl\\appdata\\roaming\\python\\python313\\site-packages (from pandas) (2.9.0.post0)\n",
      "Collecting pytz>=2020.1 (from pandas)\n",
      "  Downloading pytz-2025.2-py2.py3-none-any.whl.metadata (22 kB)\n",
      "Collecting tzdata>=2022.7 (from pandas)\n",
      "  Downloading tzdata-2025.2-py2.py3-none-any.whl.metadata (1.4 kB)\n",
      "Requirement already satisfied: six>=1.5 in c:\\users\\charl\\appdata\\roaming\\python\\python313\\site-packages (from python-dateutil>=2.8.2->pandas) (1.17.0)\n",
      "Downloading pandas-2.2.3-cp313-cp313-win_amd64.whl (11.5 MB)\n",
      "   ---------------------------------------- 0.0/11.5 MB ? eta -:--:--\n",
      "   -------- ------------------------------- 2.4/11.5 MB 11.8 MB/s eta 0:00:01\n",
      "   --------------- ------------------------ 4.5/11.5 MB 11.6 MB/s eta 0:00:01\n",
      "   ----------------------- ---------------- 6.8/11.5 MB 11.6 MB/s eta 0:00:01\n",
      "   ------------------------------- -------- 9.2/11.5 MB 11.6 MB/s eta 0:00:01\n",
      "   ---------------------------------------- 11.5/11.5 MB 11.4 MB/s eta 0:00:00\n",
      "Downloading numpy-2.2.4-cp313-cp313-win_amd64.whl (12.6 MB)\n",
      "   ---------------------------------------- 0.0/12.6 MB ? eta -:--:--\n",
      "   ------- -------------------------------- 2.4/12.6 MB 11.9 MB/s eta 0:00:01\n",
      "   -------------- ------------------------- 4.7/12.6 MB 11.8 MB/s eta 0:00:01\n",
      "   ---------------------- ----------------- 7.1/12.6 MB 11.8 MB/s eta 0:00:01\n",
      "   ----------------------------- ---------- 9.4/12.6 MB 11.8 MB/s eta 0:00:01\n",
      "   -------------------------------------- - 12.1/12.6 MB 11.8 MB/s eta 0:00:01\n",
      "   ---------------------------------------- 12.6/12.6 MB 11.5 MB/s eta 0:00:00\n",
      "Downloading pytz-2025.2-py2.py3-none-any.whl (509 kB)\n",
      "Downloading tzdata-2025.2-py2.py3-none-any.whl (347 kB)\n",
      "Installing collected packages: pytz, tzdata, numpy, pandas\n",
      "Successfully installed numpy-2.2.4 pandas-2.2.3 pytz-2025.2 tzdata-2025.2\n"
     ]
    }
   ],
   "source": [
    "!pip install pandas\n",
    "import pandas as pd"
   ]
  },
  {
   "cell_type": "code",
   "execution_count": 7,
   "id": "a66d972c-86a8-4e2f-bfde-3a14cfee351b",
   "metadata": {},
   "outputs": [
    {
     "name": "stdout",
     "output_type": "stream",
     "text": [
      "a    10\n",
      "b    20\n",
      "c    30\n",
      "d    40\n",
      "dtype: int64\n",
      "<class 'pandas.core.series.Series'>\n",
      "Index(['a', 'b', 'c', 'd'], dtype='object')\n"
     ]
    }
   ],
   "source": [
    "data = [10,20,30,40]\n",
    "series = pd.Series(data,index = (\"a\",\"b\",\"c\",\"d\"))\n",
    "print(series)\n",
    "print(type(series))\n",
    "print((series.index))"
   ]
  },
  {
   "cell_type": "code",
   "execution_count": 6,
   "id": "f59ab577-5c7b-47d6-8d69-b43b9c384c2e",
   "metadata": {},
   "outputs": [
    {
     "name": "stdout",
     "output_type": "stream",
     "text": [
      "a    10\n",
      "b    20\n",
      "c    30\n",
      "d    40\n",
      "dtype: int64\n"
     ]
    }
   ],
   "source": [
    "data = {'a':10,'b':20,'c':30,'d':40}\n",
    "series = pd.Series(data)\n",
    "print(series)"
   ]
  },
  {
   "cell_type": "code",
   "execution_count": 14,
   "id": "8cb5088a-3897-4321-bf3e-2e30433b4f13",
   "metadata": {
    "scrolled": true
   },
   "outputs": [
    {
     "name": "stdout",
     "output_type": "stream",
     "text": [
      "국어     95\n",
      "수학     80\n",
      "영어    100\n",
      "국사     85\n",
      "Name: Keavin, dtype: int64\n",
      "국어     95\n",
      "수학     80\n",
      "영어    100\n",
      "국사     85\n",
      "Name: Keavin, dtype: int64\n"
     ]
    }
   ],
   "source": [
    ",,#실습 1 kevin의 점수 데이터를 Series로 생성하시요 \n",
    "#1. 점수를 list로 만들고 Series 생성\n",
    "#2. 과목명과 점수를 dict로 만들고 Series생성\n",
    "\n",
    "#1. 점수 리스트\n",
    "\n",
    "_id = [95, 80, 100, 85]\n",
    "series = pd.Series(i_d,index = (\"국어\", \"수학\", \"영어\", \"국사\"), name=\"Keavin\")\n",
    "print(series)\n",
    "\n",
    "#2. 과목명과 점수를 dict로 만들기\n",
    "_id1 = {\"국어\" : 95, \"수학\":80, \"영어\":100, \"국사\":85}\n",
    "series1 = pd.Series(i_d1, name=\"Keavin\")\n",
    "print(series1)"
   ]
  },
  {
   "cell_type": "code",
   "execution_count": 22,
   "id": "79dd770f-41a4-4715-8b1f-1eeba73fa163",
   "metadata": {},
   "outputs": [
    {
     "name": "stdout",
     "output_type": "stream",
     "text": [
      "국어     95\n",
      "수학     90\n",
      "영어    100\n",
      "국사     85\n",
      "Name: Keavin, dtype: int64\n",
      "국어     95\n",
      "영어    100\n",
      "Name: Keavin, dtype: int64\n",
      "국어     95\n",
      "수학     90\n",
      "영어    100\n",
      "Name: Keavin, dtype: int64\n"
     ]
    },
    {
     "name": "stderr",
     "output_type": "stream",
     "text": [
      "C:\\Users\\charl\\AppData\\Local\\Temp\\ipykernel_17428\\400197961.py:11: FutureWarning: Series.__getitem__ treating keys as positions is deprecated. In a future version, integer keys will always be treated as labels (consistent with DataFrame behavior). To access a value by position, use `ser.iloc[pos]`\n",
      "  print(series[[0,2]])\n"
     ]
    }
   ],
   "source": [
    "#실습 4. 실습 1의 점수 데이터에서 다음을 수행하시요\n",
    "\n",
    "#수학 점수를 90점으로 수정\n",
    "\n",
    "series['수학'] = 90\n",
    "#series[1] = 90\n",
    "print(series)\n",
    "\n",
    "#국어,영어 점수만 선택\n",
    "\n",
    "print(series[[0,2]]) # idx 로 할려면 iloc로 하는게 좋다 => 나중에 라벨에 숫자 들가면 오류 뜬다.\n",
    "\n",
    "#90점 이상인 과목만 선택\n",
    "\n",
    "print(series[series >= 90])"
   ]
  },
  {
   "cell_type": "code",
   "execution_count": 25,
   "id": "b9a7ac4c-4f1b-41e8-a656-332b55311862",
   "metadata": {},
   "outputs": [
    {
     "data": {
      "text/html": [
       "<div>\n",
       "<style scoped>\n",
       "    .dataframe tbody tr th:only-of-type {\n",
       "        vertical-align: middle;\n",
       "    }\n",
       "\n",
       "    .dataframe tbody tr th {\n",
       "        vertical-align: top;\n",
       "    }\n",
       "\n",
       "    .dataframe thead th {\n",
       "        text-align: right;\n",
       "    }\n",
       "</style>\n",
       "<table border=\"1\" class=\"dataframe\">\n",
       "  <thead>\n",
       "    <tr style=\"text-align: right;\">\n",
       "      <th></th>\n",
       "      <th>kevin</th>\n",
       "      <th>jane</th>\n",
       "    </tr>\n",
       "  </thead>\n",
       "  <tbody>\n",
       "    <tr>\n",
       "      <th>국어</th>\n",
       "      <td>95</td>\n",
       "      <td>50</td>\n",
       "    </tr>\n",
       "    <tr>\n",
       "      <th>수학</th>\n",
       "      <td>80</td>\n",
       "      <td>100</td>\n",
       "    </tr>\n",
       "    <tr>\n",
       "      <th>영어</th>\n",
       "      <td>100</td>\n",
       "      <td>70</td>\n",
       "    </tr>\n",
       "    <tr>\n",
       "      <th>국사</th>\n",
       "      <td>85</td>\n",
       "      <td>70</td>\n",
       "    </tr>\n",
       "  </tbody>\n",
       "</table>\n",
       "</div>"
      ],
      "text/plain": [
       "    kevin  jane\n",
       "국어     95    50\n",
       "수학     80   100\n",
       "영어    100    70\n",
       "국사     85    70"
      ]
     },
     "execution_count": 25,
     "metadata": {},
     "output_type": "execute_result"
    }
   ],
   "source": [
    "#실습6 다음 두 사람의 점수 데이터를 각각 Series로 생성하라\n",
    "#생성한 Series를 가지고 DataFrame을 생성하라\n",
    "\n",
    "k_id = [95, 80, 100, 85]\n",
    "j_id = [50, 100, 70, 70]\n",
    "\n",
    "\n",
    "index = [\"국어\",\"수학\",\"영어\",\"국사\"]\n",
    "kevin = pd.Series(k_id, index=index)\n",
    "jane = pd.Series(j_id, index=index)\n",
    "\n",
    "growth = pd.DataFrame({\n",
    "    'kevin' : kevin,\n",
    "    'jane' : jane\n",
    "})\n",
    "\n",
    "growth"
   ]
  },
  {
   "cell_type": "code",
   "execution_count": 40,
   "id": "b8acfc63-1045-4caf-8ef8-daa1e393d71a",
   "metadata": {},
   "outputs": [
    {
     "data": {
      "text/html": [
       "<div>\n",
       "<style scoped>\n",
       "    .dataframe tbody tr th:only-of-type {\n",
       "        vertical-align: middle;\n",
       "    }\n",
       "\n",
       "    .dataframe tbody tr th {\n",
       "        vertical-align: top;\n",
       "    }\n",
       "\n",
       "    .dataframe thead th {\n",
       "        text-align: right;\n",
       "    }\n",
       "</style>\n",
       "<table border=\"1\" class=\"dataframe\">\n",
       "  <thead>\n",
       "    <tr style=\"text-align: right;\">\n",
       "      <th></th>\n",
       "      <th>kevin</th>\n",
       "      <th>jane</th>\n",
       "      <th>jin</th>\n",
       "    </tr>\n",
       "  </thead>\n",
       "  <tbody>\n",
       "    <tr>\n",
       "      <th>과학</th>\n",
       "      <td>NaN</td>\n",
       "      <td>NaN</td>\n",
       "      <td>100.0</td>\n",
       "    </tr>\n",
       "    <tr>\n",
       "      <th>국사</th>\n",
       "      <td>85.0</td>\n",
       "      <td>70.0</td>\n",
       "      <td>85.0</td>\n",
       "    </tr>\n",
       "    <tr>\n",
       "      <th>국어</th>\n",
       "      <td>95.0</td>\n",
       "      <td>50.0</td>\n",
       "      <td>90.0</td>\n",
       "    </tr>\n",
       "    <tr>\n",
       "      <th>수학</th>\n",
       "      <td>80.0</td>\n",
       "      <td>100.0</td>\n",
       "      <td>NaN</td>\n",
       "    </tr>\n",
       "    <tr>\n",
       "      <th>영어</th>\n",
       "      <td>100.0</td>\n",
       "      <td>70.0</td>\n",
       "      <td>95.0</td>\n",
       "    </tr>\n",
       "  </tbody>\n",
       "</table>\n",
       "</div>"
      ],
      "text/plain": [
       "    kevin   jane    jin\n",
       "과학    NaN    NaN  100.0\n",
       "국사   85.0   70.0   85.0\n",
       "국어   95.0   50.0   90.0\n",
       "수학   80.0  100.0    NaN\n",
       "영어  100.0   70.0   95.0"
      ]
     },
     "execution_count": 40,
     "metadata": {},
     "output_type": "execute_result"
    }
   ],
   "source": [
    "# 실습 7\n",
    "#  다음은 Jin의 점수이다.  Kevin, Jane, Jin 3명의 점수로 DataFrame을 만드시요.\n",
    "jin_id = [90, 95, 85, 100]\n",
    "jin = pd.Series(jin_id, index = ['국어', '영어', '국사', '과학']) \n",
    "\n",
    "# jin_id = {'국어':90, '영어':95, '국사':85, '과학' : 100}\n",
    "# jin = pd.Series(jin_id)\n",
    "\n",
    "growth2 = pd.DataFrame({\n",
    "    'kevin' : kevin,\n",
    "    'jane' : jane,\n",
    "    'jin' : jin\n",
    "})\n",
    "\n",
    "growth2"
   ]
  },
  {
   "cell_type": "code",
   "execution_count": 46,
   "id": "f1d9fa77-bae8-4ac7-a863-158ff8663f64",
   "metadata": {},
   "outputs": [
    {
     "name": "stdout",
     "output_type": "stream",
     "text": [
      "(5, 3)\n",
      "Index(['kevin', 'jane', 'jin'], dtype='object')\n",
      "[[ nan  nan 100.]\n",
      " [ 85.  70.  85.]\n",
      " [ 95.  50.  90.]\n",
      " [ 80. 100.  nan]\n",
      " [100.  70.  95.]]\n",
      "Index(['과학', '국사', '국어', '수학', '영어'], dtype='object')\n",
      "kevin    float64\n",
      "jane     float64\n",
      "jin      float64\n",
      "dtype: object\n",
      "과학    100.0\n",
      "국사     85.0\n",
      "국어     90.0\n",
      "수학      NaN\n",
      "영어     95.0\n",
      "Name: jin, dtype: float64\n",
      "      jin\n",
      "과학  100.0\n",
      "국사   85.0\n",
      "국어   90.0\n",
      "수학    NaN\n",
      "영어   95.0\n"
     ]
    }
   ],
   "source": [
    "print(growth2.shape)\n",
    "print(growth2.columns)\n",
    "print(growth2.values)\n",
    "print(growth2.index)\n",
    "print(growth2.dtypes)\n",
    "print(growth2['jin'])\n",
    "print(growth2[['jin']])"
   ]
  },
  {
   "cell_type": "code",
   "execution_count": 62,
   "id": "d62a80b1-5814-4d79-8478-679af188e8de",
   "metadata": {},
   "outputs": [
    {
     "data": {
      "text/plain": [
       "kevin    float64\n",
       "jane     float64\n",
       "dtype: object"
      ]
     },
     "execution_count": 62,
     "metadata": {},
     "output_type": "execute_result"
    }
   ],
   "source": [
    "# #실습 10\n",
    "# 실습 7의 DataFrame에서 \n",
    "# 1. Jin의 점수만 선택하시요.\n",
    "# 2. Kevin과 Jane의 점수를 선택하시요.\n",
    "# 3. 위 두 객체의 type은 각각 무엇인가\n",
    "\n",
    "#1.\n",
    "growth2[['jin']]\n",
    "\n",
    "#2. \n",
    "growth2[['kevin','jane']]\n",
    "\n",
    "3. \n",
    "growth2[['jin']].dtypes\n",
    "growth2[['kevin','jane']].dtypes\n"
   ]
  },
  {
   "cell_type": "code",
   "execution_count": 69,
   "id": "1916c7e8-2460-4199-b40a-0a0596a5c8a7",
   "metadata": {},
   "outputs": [
    {
     "name": "stdout",
     "output_type": "stream",
     "text": [
      "Name      임꺽정\n",
      "Age        30\n",
      "City    Busan\n",
      "Name: b, dtype: object\n",
      "\n",
      " \n",
      "\n",
      "30\n",
      "\n",
      " \n",
      "\n",
      "  Name  Age\n",
      "a  홍길동   25\n",
      "b  임꺽정   30\n",
      "c  성춘향   35\n",
      "\n",
      " \n",
      "\n",
      "  Name  Age   City\n",
      "b  임꺽정   30  Busan\n",
      "c  성춘향   35  Tokyo\n",
      "\n",
      " \n",
      "\n"
     ]
    },
    {
     "ename": "KeyError",
     "evalue": "'name'",
     "output_type": "error",
     "traceback": [
      "\u001b[31m---------------------------------------------------------------------------\u001b[39m",
      "\u001b[31mKeyError\u001b[39m                                  Traceback (most recent call last)",
      "\u001b[36mFile \u001b[39m\u001b[32mC:\\anaconda\\conda3\\envs\\python_13\\Lib\\site-packages\\pandas\\core\\indexes\\base.py:3805\u001b[39m, in \u001b[36mIndex.get_loc\u001b[39m\u001b[34m(self, key)\u001b[39m\n\u001b[32m   3804\u001b[39m \u001b[38;5;28;01mtry\u001b[39;00m:\n\u001b[32m-> \u001b[39m\u001b[32m3805\u001b[39m     \u001b[38;5;28;01mreturn\u001b[39;00m \u001b[38;5;28;43mself\u001b[39;49m\u001b[43m.\u001b[49m\u001b[43m_engine\u001b[49m\u001b[43m.\u001b[49m\u001b[43mget_loc\u001b[49m\u001b[43m(\u001b[49m\u001b[43mcasted_key\u001b[49m\u001b[43m)\u001b[49m\n\u001b[32m   3806\u001b[39m \u001b[38;5;28;01mexcept\u001b[39;00m \u001b[38;5;167;01mKeyError\u001b[39;00m \u001b[38;5;28;01mas\u001b[39;00m err:\n",
      "\u001b[36mFile \u001b[39m\u001b[32mindex.pyx:167\u001b[39m, in \u001b[36mpandas._libs.index.IndexEngine.get_loc\u001b[39m\u001b[34m()\u001b[39m\n",
      "\u001b[36mFile \u001b[39m\u001b[32mindex.pyx:196\u001b[39m, in \u001b[36mpandas._libs.index.IndexEngine.get_loc\u001b[39m\u001b[34m()\u001b[39m\n",
      "\u001b[36mFile \u001b[39m\u001b[32mpandas\\\\_libs\\\\hashtable_class_helper.pxi:7081\u001b[39m, in \u001b[36mpandas._libs.hashtable.PyObjectHashTable.get_item\u001b[39m\u001b[34m()\u001b[39m\n",
      "\u001b[36mFile \u001b[39m\u001b[32mpandas\\\\_libs\\\\hashtable_class_helper.pxi:7089\u001b[39m, in \u001b[36mpandas._libs.hashtable.PyObjectHashTable.get_item\u001b[39m\u001b[34m()\u001b[39m\n",
      "\u001b[31mKeyError\u001b[39m: 'name'",
      "\nThe above exception was the direct cause of the following exception:\n",
      "\u001b[31mKeyError\u001b[39m                                  Traceback (most recent call last)",
      "\u001b[36mCell\u001b[39m\u001b[36m \u001b[39m\u001b[32mIn[69]\u001b[39m\u001b[32m, line 16\u001b[39m\n\u001b[32m     14\u001b[39m \u001b[38;5;28mprint\u001b[39m(df.loc[df[\u001b[33m'\u001b[39m\u001b[33mAge\u001b[39m\u001b[33m'\u001b[39m] >= \u001b[32m30\u001b[39m])\n\u001b[32m     15\u001b[39m \u001b[38;5;28mprint\u001b[39m(\u001b[33m\"\u001b[39m\u001b[38;5;130;01m\\n\u001b[39;00m\u001b[33m\"\u001b[39m,\u001b[33m\"\u001b[39m\u001b[38;5;130;01m\\n\u001b[39;00m\u001b[33m\"\u001b[39m)\n\u001b[32m---> \u001b[39m\u001b[32m16\u001b[39m \u001b[38;5;28mprint\u001b[39m(\u001b[43mdf\u001b[49m\u001b[43m.\u001b[49m\u001b[43mloc\u001b[49m\u001b[43m[\u001b[49m\u001b[43m:\u001b[49m\u001b[43m,\u001b[49m\u001b[33;43m'\u001b[39;49m\u001b[33;43mname\u001b[39;49m\u001b[33;43m'\u001b[39;49m\u001b[43m]\u001b[49m)    \u001b[38;5;66;03m#열 \"Name\"의 모든 행 선택\u001b[39;00m\n\u001b[32m     17\u001b[39m \u001b[38;5;28mprint\u001b[39m(\u001b[33m\"\u001b[39m\u001b[38;5;130;01m\\n\u001b[39;00m\u001b[33m\"\u001b[39m,\u001b[33m\"\u001b[39m\u001b[38;5;130;01m\\n\u001b[39;00m\u001b[33m\"\u001b[39m)\n\u001b[32m     18\u001b[39m \u001b[38;5;28mprint\u001b[39m(df.loc[\u001b[33m'\u001b[39m\u001b[33ma\u001b[39m\u001b[33m'\u001b[39m, :])      \u001b[38;5;66;03m#행 'a'의 모든 열 선택\u001b[39;00m\n",
      "\u001b[36mFile \u001b[39m\u001b[32mC:\\anaconda\\conda3\\envs\\python_13\\Lib\\site-packages\\pandas\\core\\indexing.py:1184\u001b[39m, in \u001b[36m_LocationIndexer.__getitem__\u001b[39m\u001b[34m(self, key)\u001b[39m\n\u001b[32m   1182\u001b[39m     \u001b[38;5;28;01mif\u001b[39;00m \u001b[38;5;28mself\u001b[39m._is_scalar_access(key):\n\u001b[32m   1183\u001b[39m         \u001b[38;5;28;01mreturn\u001b[39;00m \u001b[38;5;28mself\u001b[39m.obj._get_value(*key, takeable=\u001b[38;5;28mself\u001b[39m._takeable)\n\u001b[32m-> \u001b[39m\u001b[32m1184\u001b[39m     \u001b[38;5;28;01mreturn\u001b[39;00m \u001b[38;5;28;43mself\u001b[39;49m\u001b[43m.\u001b[49m\u001b[43m_getitem_tuple\u001b[49m\u001b[43m(\u001b[49m\u001b[43mkey\u001b[49m\u001b[43m)\u001b[49m\n\u001b[32m   1185\u001b[39m \u001b[38;5;28;01melse\u001b[39;00m:\n\u001b[32m   1186\u001b[39m     \u001b[38;5;66;03m# we by definition only have the 0th axis\u001b[39;00m\n\u001b[32m   1187\u001b[39m     axis = \u001b[38;5;28mself\u001b[39m.axis \u001b[38;5;129;01mor\u001b[39;00m \u001b[32m0\u001b[39m\n",
      "\u001b[36mFile \u001b[39m\u001b[32mC:\\anaconda\\conda3\\envs\\python_13\\Lib\\site-packages\\pandas\\core\\indexing.py:1368\u001b[39m, in \u001b[36m_LocIndexer._getitem_tuple\u001b[39m\u001b[34m(self, tup)\u001b[39m\n\u001b[32m   1366\u001b[39m \u001b[38;5;28;01mwith\u001b[39;00m suppress(IndexingError):\n\u001b[32m   1367\u001b[39m     tup = \u001b[38;5;28mself\u001b[39m._expand_ellipsis(tup)\n\u001b[32m-> \u001b[39m\u001b[32m1368\u001b[39m     \u001b[38;5;28;01mreturn\u001b[39;00m \u001b[38;5;28;43mself\u001b[39;49m\u001b[43m.\u001b[49m\u001b[43m_getitem_lowerdim\u001b[49m\u001b[43m(\u001b[49m\u001b[43mtup\u001b[49m\u001b[43m)\u001b[49m\n\u001b[32m   1370\u001b[39m \u001b[38;5;66;03m# no multi-index, so validate all of the indexers\u001b[39;00m\n\u001b[32m   1371\u001b[39m tup = \u001b[38;5;28mself\u001b[39m._validate_tuple_indexer(tup)\n",
      "\u001b[36mFile \u001b[39m\u001b[32mC:\\anaconda\\conda3\\envs\\python_13\\Lib\\site-packages\\pandas\\core\\indexing.py:1065\u001b[39m, in \u001b[36m_LocationIndexer._getitem_lowerdim\u001b[39m\u001b[34m(self, tup)\u001b[39m\n\u001b[32m   1061\u001b[39m \u001b[38;5;28;01mfor\u001b[39;00m i, key \u001b[38;5;129;01min\u001b[39;00m \u001b[38;5;28menumerate\u001b[39m(tup):\n\u001b[32m   1062\u001b[39m     \u001b[38;5;28;01mif\u001b[39;00m is_label_like(key):\n\u001b[32m   1063\u001b[39m         \u001b[38;5;66;03m# We don't need to check for tuples here because those are\u001b[39;00m\n\u001b[32m   1064\u001b[39m         \u001b[38;5;66;03m#  caught by the _is_nested_tuple_indexer check above.\u001b[39;00m\n\u001b[32m-> \u001b[39m\u001b[32m1065\u001b[39m         section = \u001b[38;5;28;43mself\u001b[39;49m\u001b[43m.\u001b[49m\u001b[43m_getitem_axis\u001b[49m\u001b[43m(\u001b[49m\u001b[43mkey\u001b[49m\u001b[43m,\u001b[49m\u001b[43m \u001b[49m\u001b[43maxis\u001b[49m\u001b[43m=\u001b[49m\u001b[43mi\u001b[49m\u001b[43m)\u001b[49m\n\u001b[32m   1067\u001b[39m         \u001b[38;5;66;03m# We should never have a scalar section here, because\u001b[39;00m\n\u001b[32m   1068\u001b[39m         \u001b[38;5;66;03m#  _getitem_lowerdim is only called after a check for\u001b[39;00m\n\u001b[32m   1069\u001b[39m         \u001b[38;5;66;03m#  is_scalar_access, which that would be.\u001b[39;00m\n\u001b[32m   1070\u001b[39m         \u001b[38;5;28;01mif\u001b[39;00m section.ndim == \u001b[38;5;28mself\u001b[39m.ndim:\n\u001b[32m   1071\u001b[39m             \u001b[38;5;66;03m# we're in the middle of slicing through a MultiIndex\u001b[39;00m\n\u001b[32m   1072\u001b[39m             \u001b[38;5;66;03m# revise the key wrt to `section` by inserting an _NS\u001b[39;00m\n",
      "\u001b[36mFile \u001b[39m\u001b[32mC:\\anaconda\\conda3\\envs\\python_13\\Lib\\site-packages\\pandas\\core\\indexing.py:1431\u001b[39m, in \u001b[36m_LocIndexer._getitem_axis\u001b[39m\u001b[34m(self, key, axis)\u001b[39m\n\u001b[32m   1429\u001b[39m \u001b[38;5;66;03m# fall thru to straight lookup\u001b[39;00m\n\u001b[32m   1430\u001b[39m \u001b[38;5;28mself\u001b[39m._validate_key(key, axis)\n\u001b[32m-> \u001b[39m\u001b[32m1431\u001b[39m \u001b[38;5;28;01mreturn\u001b[39;00m \u001b[38;5;28;43mself\u001b[39;49m\u001b[43m.\u001b[49m\u001b[43m_get_label\u001b[49m\u001b[43m(\u001b[49m\u001b[43mkey\u001b[49m\u001b[43m,\u001b[49m\u001b[43m \u001b[49m\u001b[43maxis\u001b[49m\u001b[43m=\u001b[49m\u001b[43maxis\u001b[49m\u001b[43m)\u001b[49m\n",
      "\u001b[36mFile \u001b[39m\u001b[32mC:\\anaconda\\conda3\\envs\\python_13\\Lib\\site-packages\\pandas\\core\\indexing.py:1381\u001b[39m, in \u001b[36m_LocIndexer._get_label\u001b[39m\u001b[34m(self, label, axis)\u001b[39m\n\u001b[32m   1379\u001b[39m \u001b[38;5;28;01mdef\u001b[39;00m\u001b[38;5;250m \u001b[39m\u001b[34m_get_label\u001b[39m(\u001b[38;5;28mself\u001b[39m, label, axis: AxisInt):\n\u001b[32m   1380\u001b[39m     \u001b[38;5;66;03m# GH#5567 this will fail if the label is not present in the axis.\u001b[39;00m\n\u001b[32m-> \u001b[39m\u001b[32m1381\u001b[39m     \u001b[38;5;28;01mreturn\u001b[39;00m \u001b[38;5;28;43mself\u001b[39;49m\u001b[43m.\u001b[49m\u001b[43mobj\u001b[49m\u001b[43m.\u001b[49m\u001b[43mxs\u001b[49m\u001b[43m(\u001b[49m\u001b[43mlabel\u001b[49m\u001b[43m,\u001b[49m\u001b[43m \u001b[49m\u001b[43maxis\u001b[49m\u001b[43m=\u001b[49m\u001b[43maxis\u001b[49m\u001b[43m)\u001b[49m\n",
      "\u001b[36mFile \u001b[39m\u001b[32mC:\\anaconda\\conda3\\envs\\python_13\\Lib\\site-packages\\pandas\\core\\generic.py:4287\u001b[39m, in \u001b[36mNDFrame.xs\u001b[39m\u001b[34m(self, key, axis, level, drop_level)\u001b[39m\n\u001b[32m   4285\u001b[39m \u001b[38;5;28;01mif\u001b[39;00m axis == \u001b[32m1\u001b[39m:\n\u001b[32m   4286\u001b[39m     \u001b[38;5;28;01mif\u001b[39;00m drop_level:\n\u001b[32m-> \u001b[39m\u001b[32m4287\u001b[39m         \u001b[38;5;28;01mreturn\u001b[39;00m \u001b[38;5;28;43mself\u001b[39;49m\u001b[43m[\u001b[49m\u001b[43mkey\u001b[49m\u001b[43m]\u001b[49m\n\u001b[32m   4288\u001b[39m     index = \u001b[38;5;28mself\u001b[39m.columns\n\u001b[32m   4289\u001b[39m \u001b[38;5;28;01melse\u001b[39;00m:\n",
      "\u001b[36mFile \u001b[39m\u001b[32mC:\\anaconda\\conda3\\envs\\python_13\\Lib\\site-packages\\pandas\\core\\frame.py:4102\u001b[39m, in \u001b[36mDataFrame.__getitem__\u001b[39m\u001b[34m(self, key)\u001b[39m\n\u001b[32m   4100\u001b[39m \u001b[38;5;28;01mif\u001b[39;00m \u001b[38;5;28mself\u001b[39m.columns.nlevels > \u001b[32m1\u001b[39m:\n\u001b[32m   4101\u001b[39m     \u001b[38;5;28;01mreturn\u001b[39;00m \u001b[38;5;28mself\u001b[39m._getitem_multilevel(key)\n\u001b[32m-> \u001b[39m\u001b[32m4102\u001b[39m indexer = \u001b[38;5;28;43mself\u001b[39;49m\u001b[43m.\u001b[49m\u001b[43mcolumns\u001b[49m\u001b[43m.\u001b[49m\u001b[43mget_loc\u001b[49m\u001b[43m(\u001b[49m\u001b[43mkey\u001b[49m\u001b[43m)\u001b[49m\n\u001b[32m   4103\u001b[39m \u001b[38;5;28;01mif\u001b[39;00m is_integer(indexer):\n\u001b[32m   4104\u001b[39m     indexer = [indexer]\n",
      "\u001b[36mFile \u001b[39m\u001b[32mC:\\anaconda\\conda3\\envs\\python_13\\Lib\\site-packages\\pandas\\core\\indexes\\base.py:3812\u001b[39m, in \u001b[36mIndex.get_loc\u001b[39m\u001b[34m(self, key)\u001b[39m\n\u001b[32m   3807\u001b[39m     \u001b[38;5;28;01mif\u001b[39;00m \u001b[38;5;28misinstance\u001b[39m(casted_key, \u001b[38;5;28mslice\u001b[39m) \u001b[38;5;129;01mor\u001b[39;00m (\n\u001b[32m   3808\u001b[39m         \u001b[38;5;28misinstance\u001b[39m(casted_key, abc.Iterable)\n\u001b[32m   3809\u001b[39m         \u001b[38;5;129;01mand\u001b[39;00m \u001b[38;5;28many\u001b[39m(\u001b[38;5;28misinstance\u001b[39m(x, \u001b[38;5;28mslice\u001b[39m) \u001b[38;5;28;01mfor\u001b[39;00m x \u001b[38;5;129;01min\u001b[39;00m casted_key)\n\u001b[32m   3810\u001b[39m     ):\n\u001b[32m   3811\u001b[39m         \u001b[38;5;28;01mraise\u001b[39;00m InvalidIndexError(key)\n\u001b[32m-> \u001b[39m\u001b[32m3812\u001b[39m     \u001b[38;5;28;01mraise\u001b[39;00m \u001b[38;5;167;01mKeyError\u001b[39;00m(key) \u001b[38;5;28;01mfrom\u001b[39;00m\u001b[38;5;250m \u001b[39m\u001b[34;01merr\u001b[39;00m\n\u001b[32m   3813\u001b[39m \u001b[38;5;28;01mexcept\u001b[39;00m \u001b[38;5;167;01mTypeError\u001b[39;00m:\n\u001b[32m   3814\u001b[39m     \u001b[38;5;66;03m# If we have a listlike key, _check_indexing_error will raise\u001b[39;00m\n\u001b[32m   3815\u001b[39m     \u001b[38;5;66;03m#  InvalidIndexError. Otherwise we fall through and re-raise\u001b[39;00m\n\u001b[32m   3816\u001b[39m     \u001b[38;5;66;03m#  the TypeError.\u001b[39;00m\n\u001b[32m   3817\u001b[39m     \u001b[38;5;28mself\u001b[39m._check_indexing_error(key)\n",
      "\u001b[31mKeyError\u001b[39m: 'name'"
     ]
    }
   ],
   "source": [
    "data = {\n",
    "    'Name' : ['홍길동','임꺽정','성춘향'],\n",
    "    'Age' : [25, 30, 35],\n",
    "    'City' : ['Seoul', 'Busan', 'Tokyo']\n",
    "}\n",
    "\n",
    "df = pd.DataFrame(data, index = ['a','b','c'])\n",
    "print(df.loc['b'])\n",
    "print(\"\\n\",\"\\n\")\n",
    "\n",
    "print(df.loc['b','Age'])\n",
    "print(\"\\n\",\"\\n\")\n",
    "\n",
    "print(df.loc['a':'c', 'Name':'Age'])\n",
    "print(\"\\n\",\"\\n\")\n",
    "\n",
    "print(df.loc[df['Age'] >= 30])\n",
    "print(\"\\n\",\"\\n\")\n",
    "\n",
    "print(df.loc[:,'name'])    #열 \"Name\"의 모든 행 선택\n",
    "print(\"\\n\",\"\\n\")\n",
    "\n",
    "print(df.loc['a', :])      #행 'a'의 모든 열 선택\n",
    "print(\"\\n\",\"\\n\")\n",
    "\n",
    "print(\"\\n\",\"\\n\")\n",
    "print(df.iloc[1])\n",
    "print(\"\\n\",\"\\n\")\n",
    "\n",
    "print(df.iloc[1,1])\n",
    "print(\"\\n\",\"\\n\")\n",
    "\n",
    "print(df.iloc[0:2, 0:2])\n",
    "print(\"\\n\",\"\\n\")\n",
    "\n",
    "print(df.iloc[[0,2],[1,2]]) # 0번, 2번 행, 1번, 2번 열 선택\n",
    "print(\"\\n\",\"\\n\")\n",
    "\n",
    "print(df.iloc[:,1])          #1번 열의 모든 행 선택\n",
    "print(\"\\n\",\"\\n\")\n",
    "\n",
    "print(df.iloc[0, :])        #0번 행의 모든 열 선택"
   ]
  },
  {
   "cell_type": "code",
   "execution_count": 88,
   "id": "21c9de48-4e0f-4e4b-9a96-4b00c824e112",
   "metadata": {},
   "outputs": [
    {
     "name": "stdout",
     "output_type": "stream",
     "text": [
      "1. 국어 출력 \n",
      " \n",
      "kevin    95.0\n",
      "jane     50.0\n",
      "jin      90.0\n",
      "Name: 국어, dtype: float64\n",
      "kevin    95.0\n",
      "jane     50.0\n",
      "jin      90.0\n",
      "Name: 국어, dtype: float64\n",
      "\n",
      "  2. Jane의 수학 점수를 출력\n",
      "\n",
      "  100.0\n",
      "\n",
      "  100.0\n",
      "\n",
      "  3. Jin이 90점 이상인 과목들로 필터링\n",
      "\n",
      "      kevin  jane    jin\n",
      "과학    NaN   NaN  100.0\n",
      "국어   95.0  50.0   90.0\n",
      "영어  100.0  70.0   95.0\n",
      "\n",
      "      kevin  jane    jin\n",
      "과학    NaN   NaN  100.0\n",
      "국어   95.0  50.0   90.0\n",
      "영어  100.0  70.0   95.0\n",
      "\n",
      " 4. 마지막 2과목으로 필터링\n",
      "\n",
      "      kevin   jane   jin\n",
      "수학   80.0  100.0   NaN\n",
      "영어  100.0   70.0  95.0\n",
      "\n",
      "      kevin   jane   jin\n",
      "수학   80.0  100.0   NaN\n",
      "영어  100.0   70.0  95.0\n"
     ]
    }
   ],
   "source": [
    "# #실습 11 - 실습 7의 DataFrame에서 \n",
    "# 1. 학생 모두의 국어 점수를 출력하시요.\n",
    "# 2. Jane의 수학 점수를 출력하시요.\n",
    "# 3. Jin이 90점 이상인 과목들로 필터링 하시요.\n",
    "# 4. 마지막 2과목으로 필터링 하시요.\n",
    "\n",
    "#1. 국어 출력\n",
    "print(\"1. 국어 출력\",\"\\n \")\n",
    "\n",
    "print(growth2.loc['국어'])\n",
    "print(growth2.iloc[2])\n",
    "\n",
    "# 2. Jane의 수학 점수를 출력\n",
    "print(\"\\n \",\"2. Jane의 수학 점수를 출력\")\n",
    "\n",
    "print(\"\\n \",growth2.loc['수학', 'jane'])\n",
    "print(\"\\n \",growth2.iloc[3,1])\n",
    "\n",
    "# 3. Jin이 90점 이상인 과목들로 필터링\n",
    "print(\"\\n \",\"3. Jin이 90점 이상인 과목들로 필터링\")\n",
    "\n",
    "print(\"\\n \",growth2.loc[growth2['jin'] >= 90])\n",
    "print(\"\\n \",growth2.loc[growth2.iloc[:,2] >= 90])\n",
    "\n",
    "# 4. 마지막 2과목으로 필터링\n",
    "print(\"\\n\", \"4. 마지막 2과목으로 필터링\")\n",
    "\n",
    "print(\"\\n \",growth2.loc['수학':])\n",
    "print(\"\\n \",growth2.iloc[3:])"
   ]
  },
  {
   "cell_type": "code",
   "execution_count": 92,
   "id": "7d24e7ff-fa5e-4d79-bc18-34547f3eefd9",
   "metadata": {},
   "outputs": [
    {
     "data": {
      "text/plain": [
       "과학     60\n",
       "국어     90\n",
       "국사     95\n",
       "수학     85\n",
       "영어    100\n",
       "Name: bob, dtype: int64"
      ]
     },
     "execution_count": 92,
     "metadata": {},
     "output_type": "execute_result"
    }
   ],
   "source": [
    "#실습 13 \n",
    "bob_id = [60, 90, 95, 85, 100, 80]\n",
    "index = ['과학','국어','국사', '수학', '영어', '물리']\n",
    "bob_score = pd.Series(bob_id, index = index, name='bob')\n",
    "bob_score"
   ]
  },
  {
   "cell_type": "code",
   "execution_count": 96,
   "id": "8af6918e-6714-4ba3-a6c3-19102e519a12",
   "metadata": {},
   "outputs": [
    {
     "ename": "NameError",
     "evalue": "name 'score_df' is not defined",
     "output_type": "error",
     "traceback": [
      "\u001b[31m---------------------------------------------------------------------------\u001b[39m",
      "\u001b[31mNameError\u001b[39m                                 Traceback (most recent call last)",
      "\u001b[36mCell\u001b[39m\u001b[36m \u001b[39m\u001b[32mIn[96]\u001b[39m\u001b[32m, line 2\u001b[39m\n\u001b[32m      1\u001b[39m \u001b[38;5;66;03m#bob 점수 추가\u001b[39;00m\n\u001b[32m----> \u001b[39m\u001b[32m2\u001b[39m \u001b[43mscore_df\u001b[49m[\u001b[33m'\u001b[39m\u001b[33mbob\u001b[39m\u001b[33m'\u001b[39m] = bob_score\n\u001b[32m      3\u001b[39m score_df\n",
      "\u001b[31mNameError\u001b[39m: name 'score_df' is not defined"
     ]
    }
   ],
   "source": [
    "#bob 점수 추가\n",
    "score_df['bob'] = bob_score\n",
    "score_df"
   ]
  },
  {
   "cell_type": "code",
   "execution_count": null,
   "id": "66001200-4f91-463e-98fb-0ee6a26cea87",
   "metadata": {},
   "outputs": [],
   "source": [
    "#케빈 과학점수를 65점으로 수정 ㄱㄱ"
   ]
  },
  {
   "cell_type": "code",
   "execution_count": 99,
   "id": "1b050a7d-7d7a-49a8-b646-55989bb16d87",
   "metadata": {},
   "outputs": [
    {
     "name": "stdout",
     "output_type": "stream",
     "text": [
      "    Name    Age   City\n",
      "0  False  False  False\n",
      "1  False  False  False\n",
      "2  False  False  False\n"
     ]
    }
   ],
   "source": [
    "data = {\n",
    "    'Name' : ['홍길동','임꺽정','성춘향'],\n",
    "    'Age' : [25, 30, 35],\n",
    "    'City' : ['Seoul', 'Busan', 'Tokyo']\n",
    "}\n",
    "\n",
    "df = pd.DataFrame(data)\n",
    "\n",
    "print(df.isnull())        #각 값의 결측 여부\n",
    "# print(df.isnull().sum())   #열별 결측값 개수\n",
    "# print(df.info())           #결측값 및 데이터 타입 요약 정보\n",
    "\n",
    "# df_dropped_rows = df.dropna()   #결측값 있는 행 제거\n",
    "# df_dropped_columns = df.dropna(axis=1)   #결측값 있는 열 제거\n",
    "# df_filled = df.fillna(0)                   #결측값을 0으로 채우기"
   ]
  },
  {
   "cell_type": "code",
   "execution_count": 108,
   "id": "6143523e-ceb9-4c60-a255-46b844ce1529",
   "metadata": {},
   "outputs": [
    {
     "data": {
      "text/plain": [
       "과학    2\n",
       "국사    0\n",
       "국어    0\n",
       "수학    1\n",
       "영어    0\n",
       "dtype: int64"
      ]
     },
     "execution_count": 108,
     "metadata": {},
     "output_type": "execute_result"
    }
   ],
   "source": [
    "#실습 14 -  실습 7의 DataFrame에서\n",
    "# 1. 학생별 결측값 개수를 출력하시요.\n",
    "growth2.isnull().sum()\n",
    "# growth2.info()\n",
    "# growth2\n",
    "\n",
    "# # 2. 과목별 결측값 개수를 출력하시요.\n",
    "growth2.isnull().sum(axis=1)\n",
    "\n",
    "# 3. 결측 값이 있는 과목을 제거하시요.\n",
    "growth2.dropna()\n"
   ]
  },
  {
   "cell_type": "code",
   "execution_count": 116,
   "id": "04f69f87-669b-4aac-be50-9b1789f9ef14",
   "metadata": {},
   "outputs": [
    {
     "name": "stdout",
     "output_type": "stream",
     "text": [
      "        A     B\n",
      "sum   6.0  15.0\n",
      "mean  2.0   5.0\n"
     ]
    }
   ],
   "source": [
    "# s = pd.Series([1,2,3,4,5])\n",
    "# result = s.agg(['sum', 'mean', 'max'])\n",
    "# print(result)\n",
    "\n",
    "df = pd.DataFrame({\n",
    "    'A': [1,2,3],\n",
    "    'B': [4,5,6]\n",
    "})\n",
    "result = df.agg(['sum', 'mean'])\n",
    "print(result)\n",
    "\n",
    "\n",
    "\n",
    "\n",
    "\n",
    "# df = pd.DataFrame({\n",
    "#     'A': [1,2,3],\n",
    "#     'B': [4,5,6]\n",
    "# })\n",
    "# result = df.agg({'A' : 'sum', 'B' : 'mean'})\n",
    "# print(result)\n"
   ]
  },
  {
   "cell_type": "code",
   "execution_count": 137,
   "id": "6d418811-023e-4e00-b6cb-331c20bcb290",
   "metadata": {},
   "outputs": [
    {
     "name": "stdout",
     "output_type": "stream",
     "text": [
      "\n",
      " 과학    100.000000\n",
      "국사     80.000000\n",
      "국어     78.333333\n",
      "수학     90.000000\n",
      "영어     88.333333\n",
      "dtype: float64 \n",
      "\n",
      "\n",
      "       kevin  jane   jin\n",
      "mean   90.0  72.5  92.5 \n",
      "\n",
      "\n",
      " 과학    100.000000\n",
      "국사     80.000000\n",
      "국어     78.333333\n",
      "수학     90.000000\n",
      "영어     88.333333\n",
      "dtype: float64 \n",
      "\n",
      "\n",
      "           mean\n",
      "과학  100.000000\n",
      "국사   80.000000\n",
      "국어   78.333333\n",
      "수학   90.000000\n",
      "영어   88.333333 \n",
      "\n",
      "      min    max        mean\n",
      "과학  100.0  100.0  100.000000\n",
      "국사   70.0   85.0   80.000000\n",
      "국어   50.0   95.0   78.333333\n",
      "수학   80.0  100.0   90.000000\n",
      "영어   70.0  100.0   88.333333\n"
     ]
    }
   ],
   "source": [
    "# 실습 15 - 실습 7의 DataFrame에서\n",
    "\n",
    "# 1. 학생별 평균 점수를 구하시요.\n",
    "result1 = growth2.agg(['mean'])\n",
    "result1_1 = growth2.mean(axis=1)\n",
    "\n",
    "print(\"\\n\",result1_1,\"\\n\")\n",
    "print(\"\\n\",result1,\"\\n\")\n",
    "\n",
    "# 2. 과목별 평균 점수를 구하시요.\n",
    "result2_1 = growth2.mean(axis=1)\n",
    "result2 = growth2.agg(['mean'],axis=1)\n",
    "print(\"\\n\",result2_1,\"\\n\")\n",
    "print(\"\\n\",result2,\"\\n\")\n",
    "\n",
    "# 3. 과목별 최대/최소/평균 점수를 구하시요\n",
    "result3 = growth2.agg(['min', 'max', 'mean'], axis = 1)\n",
    "print(result3)"
   ]
  },
  {
   "cell_type": "code",
   "execution_count": null,
   "id": "1afff322-2b53-4045-a38d-3a7e44480891",
   "metadata": {},
   "outputs": [],
   "source": [
    "# 실습 16 -실습 7의 DataFrame에서\n",
    "# 1. 아래와 같이 '분류' 열을 추가하시요\n",
    "growth = grhowth.groupby.last(ansrhk0)\n",
    "\n",
    "# 2. 각 학생의 '분류' 별 평균 점수를 출력하시요. \n",
    "# 3. 각 학생의 '분류' 별 최대/최소 점수를 출력하시요. "
   ]
  },
  {
   "cell_type": "code",
   "execution_count": 145,
   "id": "5ada1772-f368-4ab0-b837-aabf96b7bbe4",
   "metadata": {},
   "outputs": [],
   "source": [
    "growth2.to_csv(\"./growth.csv\")"
   ]
  },
  {
   "cell_type": "code",
   "execution_count": 154,
   "id": "a1eb8ff9-09d6-459a-b184-ca0eceb22fb4",
   "metadata": {},
   "outputs": [
    {
     "name": "stdout",
     "output_type": "stream",
     "text": [
      "    kevin   jane    jin\n",
      "과학    NaN    NaN  100.0\n",
      "국사   85.0   70.0   85.0\n",
      "국어   95.0   50.0   90.0\n",
      "수학   80.0  100.0    NaN\n",
      "영어  100.0   70.0   95.0\n"
     ]
    }
   ],
   "source": [
    "new = pd.read_csv(\"growth.csv\", index_col=0)\n",
    "print(new)"
   ]
  }
 ],
 "metadata": {
  "kernelspec": {
   "display_name": "Python 3 (ipykernel)",
   "language": "python",
   "name": "python3"
  },
  "language_info": {
   "codemirror_mode": {
    "name": "ipython",
    "version": 3
   },
   "file_extension": ".py",
   "mimetype": "text/x-python",
   "name": "python",
   "nbconvert_exporter": "python",
   "pygments_lexer": "ipython3",
   "version": "3.13.2"
  }
 },
 "nbformat": 4,
 "nbformat_minor": 5
}
